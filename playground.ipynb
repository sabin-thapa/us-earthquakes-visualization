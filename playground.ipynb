{
 "cells": [
  {
   "cell_type": "code",
   "execution_count": 1,
   "id": "d0db8e06",
   "metadata": {},
   "outputs": [],
   "source": [
    "import pandas as pd\n",
    "import datetime"
   ]
  },
  {
   "cell_type": "markdown",
   "id": "ab21c6d9",
   "metadata": {},
   "source": [
    "## Data Exploration"
   ]
  },
  {
   "cell_type": "code",
   "execution_count": 2,
   "id": "a6afc861",
   "metadata": {},
   "outputs": [],
   "source": [
    "def csv_to_df(file):\n",
    "    return pd.read_csv(\n",
    "        file,\n",
    "        parse_dates=[\"time\"]\n",
    "    )"
   ]
  },
  {
   "cell_type": "code",
   "execution_count": 3,
   "id": "29adbcf8",
   "metadata": {},
   "outputs": [],
   "source": [
    "jan = csv_to_df(\"datasets/january.csv\")\n",
    "feb = csv_to_df(\"datasets/february.csv\")\n",
    "mar = csv_to_df(\"datasets/march.csv\")"
   ]
  },
  {
   "cell_type": "code",
   "execution_count": 4,
   "id": "54f16c3f",
   "metadata": {},
   "outputs": [
    {
     "data": {
      "text/plain": [
       "35919"
      ]
     },
     "execution_count": 4,
     "metadata": {},
     "output_type": "execute_result"
    }
   ],
   "source": [
    "sum(size for (size, _) in (jan.shape, feb.shape, mar.shape))"
   ]
  },
  {
   "cell_type": "code",
   "execution_count": 5,
   "id": "aac330a7",
   "metadata": {},
   "outputs": [],
   "source": [
    "earthquakes = pd.concat([jan, feb, mar])"
   ]
  },
  {
   "cell_type": "code",
   "execution_count": 6,
   "id": "f50dc802",
   "metadata": {},
   "outputs": [
    {
     "data": {
      "text/plain": [
       "(35919, 22)"
      ]
     },
     "execution_count": 6,
     "metadata": {},
     "output_type": "execute_result"
    }
   ],
   "source": [
    "earthquakes.shape"
   ]
  },
  {
   "cell_type": "code",
   "execution_count": 7,
   "id": "6e899178",
   "metadata": {},
   "outputs": [
    {
     "name": "stdout",
     "output_type": "stream",
     "text": [
      "<class 'pandas.core.frame.DataFrame'>\n",
      "Int64Index: 35919 entries, 0 to 12312\n",
      "Data columns (total 22 columns):\n",
      " #   Column           Non-Null Count  Dtype              \n",
      "---  ------           --------------  -----              \n",
      " 0   time             35919 non-null  datetime64[ns, UTC]\n",
      " 1   latitude         35919 non-null  float64            \n",
      " 2   longitude        35919 non-null  float64            \n",
      " 3   depth            35919 non-null  float64            \n",
      " 4   mag              35916 non-null  float64            \n",
      " 5   magType          35916 non-null  object             \n",
      " 6   nst              21283 non-null  float64            \n",
      " 7   gap              26711 non-null  float64            \n",
      " 8   dmin             22113 non-null  float64            \n",
      " 9   rms              35919 non-null  float64            \n",
      " 10  net              35919 non-null  object             \n",
      " 11  id               35919 non-null  object             \n",
      " 12  updated          35919 non-null  object             \n",
      " 13  place            35784 non-null  object             \n",
      " 14  type             35919 non-null  object             \n",
      " 15  horizontalError  23893 non-null  float64            \n",
      " 16  depthError       35919 non-null  float64            \n",
      " 17  magError         25175 non-null  float64            \n",
      " 18  magNst           26684 non-null  float64            \n",
      " 19  status           35919 non-null  object             \n",
      " 20  locationSource   35919 non-null  object             \n",
      " 21  magSource        35919 non-null  object             \n",
      "dtypes: datetime64[ns, UTC](1), float64(12), object(9)\n",
      "memory usage: 6.3+ MB\n"
     ]
    }
   ],
   "source": [
    "earthquakes.info()"
   ]
  },
  {
   "cell_type": "code",
   "execution_count": 8,
   "id": "dede6092",
   "metadata": {},
   "outputs": [
    {
     "data": {
      "text/html": [
       "<div>\n",
       "<style scoped>\n",
       "    .dataframe tbody tr th:only-of-type {\n",
       "        vertical-align: middle;\n",
       "    }\n",
       "\n",
       "    .dataframe tbody tr th {\n",
       "        vertical-align: top;\n",
       "    }\n",
       "\n",
       "    .dataframe thead th {\n",
       "        text-align: right;\n",
       "    }\n",
       "</style>\n",
       "<table border=\"1\" class=\"dataframe\">\n",
       "  <thead>\n",
       "    <tr style=\"text-align: right;\">\n",
       "      <th></th>\n",
       "      <th>time</th>\n",
       "      <th>latitude</th>\n",
       "      <th>longitude</th>\n",
       "      <th>depth</th>\n",
       "      <th>mag</th>\n",
       "      <th>magType</th>\n",
       "      <th>net</th>\n",
       "      <th>id</th>\n",
       "      <th>place</th>\n",
       "      <th>type</th>\n",
       "      <th>status</th>\n",
       "      <th>locationSource</th>\n",
       "      <th>magSource</th>\n",
       "    </tr>\n",
       "  </thead>\n",
       "  <tbody>\n",
       "    <tr>\n",
       "      <th>0</th>\n",
       "      <td>2022-01-30 23:58:39.500000+00:00</td>\n",
       "      <td>34.879167</td>\n",
       "      <td>-97.8520</td>\n",
       "      <td>14.67</td>\n",
       "      <td>0.99</td>\n",
       "      <td>ml</td>\n",
       "      <td>ok</td>\n",
       "      <td>ok2022ccvb</td>\n",
       "      <td>7 km WSW of Alex, Oklahoma</td>\n",
       "      <td>earthquake</td>\n",
       "      <td>reviewed</td>\n",
       "      <td>ok</td>\n",
       "      <td>ok</td>\n",
       "    </tr>\n",
       "    <tr>\n",
       "      <th>1</th>\n",
       "      <td>2022-01-30 23:56:19.237000+00:00</td>\n",
       "      <td>62.910000</td>\n",
       "      <td>-151.1774</td>\n",
       "      <td>107.60</td>\n",
       "      <td>1.40</td>\n",
       "      <td>ml</td>\n",
       "      <td>ak</td>\n",
       "      <td>ak0221e05fgq</td>\n",
       "      <td>Central Alaska</td>\n",
       "      <td>earthquake</td>\n",
       "      <td>reviewed</td>\n",
       "      <td>ak</td>\n",
       "      <td>ak</td>\n",
       "    </tr>\n",
       "    <tr>\n",
       "      <th>2</th>\n",
       "      <td>2022-01-30 23:54:44.477000+00:00</td>\n",
       "      <td>63.304800</td>\n",
       "      <td>-151.2721</td>\n",
       "      <td>8.80</td>\n",
       "      <td>1.10</td>\n",
       "      <td>ml</td>\n",
       "      <td>ak</td>\n",
       "      <td>ak0221e051u3</td>\n",
       "      <td>34 km SE of Denali National Park, Alaska</td>\n",
       "      <td>earthquake</td>\n",
       "      <td>reviewed</td>\n",
       "      <td>ak</td>\n",
       "      <td>ak</td>\n",
       "    </tr>\n",
       "    <tr>\n",
       "      <th>3</th>\n",
       "      <td>2022-01-30 23:54:32.973000+00:00</td>\n",
       "      <td>51.557800</td>\n",
       "      <td>-176.6738</td>\n",
       "      <td>39.60</td>\n",
       "      <td>1.80</td>\n",
       "      <td>ml</td>\n",
       "      <td>ak</td>\n",
       "      <td>ak0221e050xt</td>\n",
       "      <td>35 km S of Adak, Alaska</td>\n",
       "      <td>earthquake</td>\n",
       "      <td>reviewed</td>\n",
       "      <td>ak</td>\n",
       "      <td>ak</td>\n",
       "    </tr>\n",
       "    <tr>\n",
       "      <th>4</th>\n",
       "      <td>2022-01-30 23:51:44.207000+00:00</td>\n",
       "      <td>63.291700</td>\n",
       "      <td>-151.3217</td>\n",
       "      <td>9.90</td>\n",
       "      <td>1.10</td>\n",
       "      <td>ml</td>\n",
       "      <td>ak</td>\n",
       "      <td>ak0221e04enn</td>\n",
       "      <td>34 km SE of Denali National Park, Alaska</td>\n",
       "      <td>earthquake</td>\n",
       "      <td>reviewed</td>\n",
       "      <td>ak</td>\n",
       "      <td>ak</td>\n",
       "    </tr>\n",
       "  </tbody>\n",
       "</table>\n",
       "</div>"
      ],
      "text/plain": [
       "                              time   latitude  longitude   depth   mag  \\\n",
       "0 2022-01-30 23:58:39.500000+00:00  34.879167   -97.8520   14.67  0.99   \n",
       "1 2022-01-30 23:56:19.237000+00:00  62.910000  -151.1774  107.60  1.40   \n",
       "2 2022-01-30 23:54:44.477000+00:00  63.304800  -151.2721    8.80  1.10   \n",
       "3 2022-01-30 23:54:32.973000+00:00  51.557800  -176.6738   39.60  1.80   \n",
       "4 2022-01-30 23:51:44.207000+00:00  63.291700  -151.3217    9.90  1.10   \n",
       "\n",
       "  magType net            id                                     place  \\\n",
       "0      ml  ok    ok2022ccvb                7 km WSW of Alex, Oklahoma   \n",
       "1      ml  ak  ak0221e05fgq                            Central Alaska   \n",
       "2      ml  ak  ak0221e051u3  34 km SE of Denali National Park, Alaska   \n",
       "3      ml  ak  ak0221e050xt                   35 km S of Adak, Alaska   \n",
       "4      ml  ak  ak0221e04enn  34 km SE of Denali National Park, Alaska   \n",
       "\n",
       "         type    status locationSource magSource  \n",
       "0  earthquake  reviewed             ok        ok  \n",
       "1  earthquake  reviewed             ak        ak  \n",
       "2  earthquake  reviewed             ak        ak  \n",
       "3  earthquake  reviewed             ak        ak  \n",
       "4  earthquake  reviewed             ak        ak  "
      ]
     },
     "execution_count": 8,
     "metadata": {},
     "output_type": "execute_result"
    }
   ],
   "source": [
    "# Dropping unnecessary columns\n",
    "earthquakes.drop(\n",
    "    [\"nst\", \"gap\", \"dmin\", \"rms\", \"updated\", \"horizontalError\", \"depthError\", \"magError\", \"magNst\"],\n",
    "    axis=1\n",
    ").head()"
   ]
  },
  {
   "cell_type": "code",
   "execution_count": 9,
   "id": "149c52ef",
   "metadata": {},
   "outputs": [
    {
     "data": {
      "text/plain": [
       "array(['ok', 'ak', 'nc', 'us', 'av', 'hv', 'pr', 'ci', 'uw', 'nm', 'nn',\n",
       "       'uu', 'tx', 'mb', 'se'], dtype=object)"
      ]
     },
     "execution_count": 9,
     "metadata": {},
     "output_type": "execute_result"
    }
   ],
   "source": [
    "earthquakes[\"net\"].unique()"
   ]
  },
  {
   "cell_type": "code",
   "execution_count": 10,
   "id": "3526d057",
   "metadata": {},
   "outputs": [
    {
     "data": {
      "text/plain": [
       "array(['ok', 'ak', 'nc', 'us', 'av', 'hv', 'pr', 'ci', 'uw', 'nm', 'nn',\n",
       "       'uu', 'tx', 'mb', 'se'], dtype=object)"
      ]
     },
     "execution_count": 10,
     "metadata": {},
     "output_type": "execute_result"
    }
   ],
   "source": [
    "earthquakes[\"locationSource\"].unique()"
   ]
  },
  {
   "cell_type": "code",
   "execution_count": 11,
   "id": "286513ee",
   "metadata": {},
   "outputs": [
    {
     "data": {
      "text/plain": [
       "26.288167243528935"
      ]
     },
     "execution_count": 11,
     "metadata": {},
     "output_type": "execute_result"
    }
   ],
   "source": [
    "earthquakes[\"depth\"].mean()"
   ]
  },
  {
   "cell_type": "code",
   "execution_count": 12,
   "id": "18660e85",
   "metadata": {},
   "outputs": [
    {
     "data": {
      "text/plain": [
       "array(['reviewed', 'automatic'], dtype=object)"
      ]
     },
     "execution_count": 12,
     "metadata": {},
     "output_type": "execute_result"
    }
   ],
   "source": [
    "earthquakes[\"status\"].unique()"
   ]
  },
  {
   "cell_type": "code",
   "execution_count": 13,
   "id": "a95605d4",
   "metadata": {},
   "outputs": [
    {
     "data": {
      "text/plain": [
       "array(['earthquake', 'ice quake', 'explosion', 'mining explosion',\n",
       "       'quarry blast', 'volcanic eruption', 'other event'], dtype=object)"
      ]
     },
     "execution_count": 13,
     "metadata": {},
     "output_type": "execute_result"
    }
   ],
   "source": [
    "earthquakes[\"type\"].unique()"
   ]
  },
  {
   "cell_type": "markdown",
   "id": "2a33e78e",
   "metadata": {},
   "source": [
    "# Data Loading"
   ]
  },
  {
   "cell_type": "code",
   "execution_count": 14,
   "id": "4b38a327",
   "metadata": {},
   "outputs": [],
   "source": [
    "# Loading only columns necessary for visualization.\n",
    "def csv_to_df(file):\n",
    "    return pd.read_csv(\n",
    "        file,\n",
    "        parse_dates=[\"time\"],\n",
    "        usecols=[\n",
    "            \"id\",\n",
    "            \"time\",\n",
    "            \"latitude\",\n",
    "            \"longitude\",\n",
    "            \"mag\",\n",
    "            \"magType\",\n",
    "            \"place\",\n",
    "            \"type\",\n",
    "            \"status\",\n",
    "            \"locationSource\"\n",
    "        ],\n",
    "        index_col=\"id\"\n",
    "    )"
   ]
  },
  {
   "cell_type": "code",
   "execution_count": 15,
   "id": "82687859",
   "metadata": {},
   "outputs": [],
   "source": [
    "jan = csv_to_df(\"datasets/january.csv\")\n",
    "feb = csv_to_df(\"datasets/february.csv\")\n",
    "mar = csv_to_df(\"datasets/march.csv\")"
   ]
  },
  {
   "cell_type": "code",
   "execution_count": 16,
   "id": "e336c5af",
   "metadata": {},
   "outputs": [
    {
     "data": {
      "text/plain": [
       "35919"
      ]
     },
     "execution_count": 16,
     "metadata": {},
     "output_type": "execute_result"
    }
   ],
   "source": [
    "sum(size for (size, _) in (jan.shape, feb.shape, mar.shape))"
   ]
  },
  {
   "cell_type": "code",
   "execution_count": 17,
   "id": "5b1896db",
   "metadata": {},
   "outputs": [],
   "source": [
    "earthquakes = pd.concat([jan, feb, mar])"
   ]
  },
  {
   "cell_type": "code",
   "execution_count": 18,
   "id": "53fee270",
   "metadata": {},
   "outputs": [
    {
     "data": {
      "text/plain": [
       "(35919, 9)"
      ]
     },
     "execution_count": 18,
     "metadata": {},
     "output_type": "execute_result"
    }
   ],
   "source": [
    "earthquakes.shape"
   ]
  },
  {
   "cell_type": "code",
   "execution_count": 19,
   "id": "9b4ab236",
   "metadata": {},
   "outputs": [
    {
     "name": "stdout",
     "output_type": "stream",
     "text": [
      "<class 'pandas.core.frame.DataFrame'>\n",
      "Index: 35919 entries, ok2022ccvb to uw61819426\n",
      "Data columns (total 9 columns):\n",
      " #   Column          Non-Null Count  Dtype              \n",
      "---  ------          --------------  -----              \n",
      " 0   time            35919 non-null  datetime64[ns, UTC]\n",
      " 1   latitude        35919 non-null  float64            \n",
      " 2   longitude       35919 non-null  float64            \n",
      " 3   mag             35916 non-null  float64            \n",
      " 4   magType         35916 non-null  object             \n",
      " 5   place           35784 non-null  object             \n",
      " 6   type            35919 non-null  object             \n",
      " 7   status          35919 non-null  object             \n",
      " 8   locationSource  35919 non-null  object             \n",
      "dtypes: datetime64[ns, UTC](1), float64(3), object(5)\n",
      "memory usage: 2.7+ MB\n"
     ]
    }
   ],
   "source": [
    "earthquakes.info()"
   ]
  },
  {
   "cell_type": "markdown",
   "id": "c6477f3e",
   "metadata": {},
   "source": [
    "# Data Wrangling"
   ]
  },
  {
   "cell_type": "code",
   "execution_count": 20,
   "id": "78ab1057",
   "metadata": {},
   "outputs": [
    {
     "data": {
      "text/plain": [
       "time              35914\n",
       "latitude          28270\n",
       "longitude         29491\n",
       "mag                 635\n",
       "magType              10\n",
       "place             16335\n",
       "type                  7\n",
       "status                2\n",
       "locationSource       15\n",
       "dtype: int64"
      ]
     },
     "execution_count": 20,
     "metadata": {},
     "output_type": "execute_result"
    }
   ],
   "source": [
    "earthquakes.nunique()"
   ]
  },
  {
   "cell_type": "code",
   "execution_count": 21,
   "id": "373cc38c",
   "metadata": {},
   "outputs": [
    {
     "data": {
      "text/plain": [
       "array(['ok', 'ak', 'nc', 'us', 'av', 'hv', 'pr', 'ci', 'uw', 'nm', 'nn',\n",
       "       'uu', 'tx', 'mb', 'se'], dtype=object)"
      ]
     },
     "execution_count": 21,
     "metadata": {},
     "output_type": "execute_result"
    }
   ],
   "source": [
    "earthquakes[\"locationSource\"].unique()"
   ]
  },
  {
   "cell_type": "code",
   "execution_count": 22,
   "id": "daf669e3",
   "metadata": {},
   "outputs": [
    {
     "data": {
      "text/plain": [
       "array(['reviewed', 'automatic'], dtype=object)"
      ]
     },
     "execution_count": 22,
     "metadata": {},
     "output_type": "execute_result"
    }
   ],
   "source": [
    "earthquakes[\"status\"].unique()"
   ]
  },
  {
   "cell_type": "code",
   "execution_count": 23,
   "id": "d25f21f0",
   "metadata": {},
   "outputs": [
    {
     "data": {
      "text/plain": [
       "array(['earthquake', 'ice quake', 'explosion', 'mining explosion',\n",
       "       'quarry blast', 'volcanic eruption', 'other event'], dtype=object)"
      ]
     },
     "execution_count": 23,
     "metadata": {},
     "output_type": "execute_result"
    }
   ],
   "source": [
    "earthquakes[\"type\"].unique()"
   ]
  },
  {
   "cell_type": "code",
   "execution_count": 24,
   "id": "789667b6",
   "metadata": {},
   "outputs": [
    {
     "data": {
      "text/plain": [
       "array(['ml', 'md', 'mb', 'mw', 'mww', 'mb_lg', 'mwr', 'mh', nan, 'ms_20',\n",
       "       'mwb'], dtype=object)"
      ]
     },
     "execution_count": 24,
     "metadata": {},
     "output_type": "execute_result"
    }
   ],
   "source": [
    "earthquakes[\"magType\"].unique()"
   ]
  },
  {
   "cell_type": "markdown",
   "id": "6c6bf431",
   "metadata": {},
   "source": [
    "## Converting values to appropriate data types"
   ]
  },
  {
   "cell_type": "code",
   "execution_count": 25,
   "id": "97781f0b",
   "metadata": {},
   "outputs": [],
   "source": [
    "earthquakes[\"status\"] = earthquakes[\"status\"].astype(\"category\")\n",
    "earthquakes[\"locationSource\"] = earthquakes[\"locationSource\"].astype(\"category\")\n",
    "earthquakes[\"type\"] = earthquakes[\"type\"].astype(\"category\")\n",
    "earthquakes[\"magType\"] = earthquakes[\"magType\"].astype(\"category\")"
   ]
  },
  {
   "cell_type": "markdown",
   "id": "44c1d175",
   "metadata": {},
   "source": [
    "## Checking for missing values"
   ]
  },
  {
   "cell_type": "code",
   "execution_count": 26,
   "id": "1d6b0da9",
   "metadata": {},
   "outputs": [
    {
     "data": {
      "text/plain": [
       "(35919, 9)"
      ]
     },
     "execution_count": 26,
     "metadata": {},
     "output_type": "execute_result"
    }
   ],
   "source": [
    "earthquakes.shape"
   ]
  },
  {
   "cell_type": "code",
   "execution_count": 27,
   "id": "d809df8a",
   "metadata": {},
   "outputs": [
    {
     "name": "stdout",
     "output_type": "stream",
     "text": [
      "<class 'pandas.core.frame.DataFrame'>\n",
      "Index: 35919 entries, ok2022ccvb to uw61819426\n",
      "Data columns (total 9 columns):\n",
      " #   Column          Non-Null Count  Dtype              \n",
      "---  ------          --------------  -----              \n",
      " 0   time            35919 non-null  datetime64[ns, UTC]\n",
      " 1   latitude        35919 non-null  float64            \n",
      " 2   longitude       35919 non-null  float64            \n",
      " 3   mag             35916 non-null  float64            \n",
      " 4   magType         35916 non-null  category           \n",
      " 5   place           35784 non-null  object             \n",
      " 6   type            35919 non-null  category           \n",
      " 7   status          35919 non-null  category           \n",
      " 8   locationSource  35919 non-null  category           \n",
      "dtypes: category(4), datetime64[ns, UTC](1), float64(3), object(1)\n",
      "memory usage: 1.8+ MB\n"
     ]
    }
   ],
   "source": [
    "earthquakes.info()"
   ]
  },
  {
   "cell_type": "code",
   "execution_count": 28,
   "id": "44ee23fb",
   "metadata": {},
   "outputs": [
    {
     "data": {
      "text/plain": [
       "time              2022-01-30 11:14:16.340000+00:00\n",
       "latitude                                   61.3634\n",
       "longitude                                 -149.574\n",
       "mag                                            1.2\n",
       "magType                                         ml\n",
       "place                                          NaN\n",
       "type                                    earthquake\n",
       "status                                    reviewed\n",
       "locationSource                                  ak\n",
       "Name: ak0221dsr7ph, dtype: object"
      ]
     },
     "execution_count": 28,
     "metadata": {},
     "output_type": "execute_result"
    }
   ],
   "source": [
    "earthquakes[earthquakes[\"place\"].isnull()].iloc[0]"
   ]
  },
  {
   "cell_type": "code",
   "execution_count": 29,
   "id": "5031dd35",
   "metadata": {},
   "outputs": [
    {
     "data": {
      "text/html": [
       "<div>\n",
       "<style scoped>\n",
       "    .dataframe tbody tr th:only-of-type {\n",
       "        vertical-align: middle;\n",
       "    }\n",
       "\n",
       "    .dataframe tbody tr th {\n",
       "        vertical-align: top;\n",
       "    }\n",
       "\n",
       "    .dataframe thead th {\n",
       "        text-align: right;\n",
       "    }\n",
       "</style>\n",
       "<table border=\"1\" class=\"dataframe\">\n",
       "  <thead>\n",
       "    <tr style=\"text-align: right;\">\n",
       "      <th></th>\n",
       "      <th>time</th>\n",
       "      <th>latitude</th>\n",
       "      <th>longitude</th>\n",
       "      <th>mag</th>\n",
       "      <th>magType</th>\n",
       "      <th>place</th>\n",
       "      <th>type</th>\n",
       "      <th>status</th>\n",
       "      <th>locationSource</th>\n",
       "    </tr>\n",
       "    <tr>\n",
       "      <th>id</th>\n",
       "      <th></th>\n",
       "      <th></th>\n",
       "      <th></th>\n",
       "      <th></th>\n",
       "      <th></th>\n",
       "      <th></th>\n",
       "      <th></th>\n",
       "      <th></th>\n",
       "      <th></th>\n",
       "    </tr>\n",
       "  </thead>\n",
       "  <tbody>\n",
       "    <tr>\n",
       "      <th>nc71127084</th>\n",
       "      <td>2022-01-18 14:50:55.480000+00:00</td>\n",
       "      <td>35.975333</td>\n",
       "      <td>-120.371000</td>\n",
       "      <td>NaN</td>\n",
       "      <td>NaN</td>\n",
       "      <td>10km NNE of Parkfield, CA</td>\n",
       "      <td>earthquake</td>\n",
       "      <td>reviewed</td>\n",
       "      <td>nc</td>\n",
       "    </tr>\n",
       "    <tr>\n",
       "      <th>nc73674341</th>\n",
       "      <td>2022-01-06 06:11:48.790000+00:00</td>\n",
       "      <td>38.798500</td>\n",
       "      <td>-122.701500</td>\n",
       "      <td>NaN</td>\n",
       "      <td>NaN</td>\n",
       "      <td>3km NNW of Anderson Springs, CA</td>\n",
       "      <td>earthquake</td>\n",
       "      <td>reviewed</td>\n",
       "      <td>nc</td>\n",
       "    </tr>\n",
       "    <tr>\n",
       "      <th>pr71336423</th>\n",
       "      <td>2022-02-21 21:01:10.020000+00:00</td>\n",
       "      <td>17.956500</td>\n",
       "      <td>-66.928167</td>\n",
       "      <td>NaN</td>\n",
       "      <td>NaN</td>\n",
       "      <td>2 km SW of Guánica, Puerto Rico</td>\n",
       "      <td>earthquake</td>\n",
       "      <td>reviewed</td>\n",
       "      <td>pr</td>\n",
       "    </tr>\n",
       "  </tbody>\n",
       "</table>\n",
       "</div>"
      ],
      "text/plain": [
       "                                       time   latitude   longitude  mag  \\\n",
       "id                                                                        \n",
       "nc71127084 2022-01-18 14:50:55.480000+00:00  35.975333 -120.371000  NaN   \n",
       "nc73674341 2022-01-06 06:11:48.790000+00:00  38.798500 -122.701500  NaN   \n",
       "pr71336423 2022-02-21 21:01:10.020000+00:00  17.956500  -66.928167  NaN   \n",
       "\n",
       "           magType                            place        type    status  \\\n",
       "id                                                                          \n",
       "nc71127084     NaN        10km NNE of Parkfield, CA  earthquake  reviewed   \n",
       "nc73674341     NaN  3km NNW of Anderson Springs, CA  earthquake  reviewed   \n",
       "pr71336423     NaN  2 km SW of Guánica, Puerto Rico  earthquake  reviewed   \n",
       "\n",
       "           locationSource  \n",
       "id                         \n",
       "nc71127084             nc  \n",
       "nc73674341             nc  \n",
       "pr71336423             pr  "
      ]
     },
     "execution_count": 29,
     "metadata": {},
     "output_type": "execute_result"
    }
   ],
   "source": [
    "earthquakes[earthquakes[\"mag\"].isnull()]"
   ]
  },
  {
   "cell_type": "markdown",
   "id": "b11ab16d",
   "metadata": {},
   "source": [
    "## Dropping earthquakes with no magnitudes for which no values could be found"
   ]
  },
  {
   "cell_type": "code",
   "execution_count": 30,
   "id": "edaddb3e",
   "metadata": {},
   "outputs": [],
   "source": [
    "earthquakes = earthquakes.dropna(subset=[\"mag\"])"
   ]
  },
  {
   "cell_type": "code",
   "execution_count": 31,
   "id": "e32403c9",
   "metadata": {},
   "outputs": [
    {
     "data": {
      "text/plain": [
       "(35916, 9)"
      ]
     },
     "execution_count": 31,
     "metadata": {},
     "output_type": "execute_result"
    }
   ],
   "source": [
    "earthquakes.shape"
   ]
  },
  {
   "cell_type": "markdown",
   "id": "9900df2a",
   "metadata": {},
   "source": [
    "## Extracting month from the `time` attribute"
   ]
  },
  {
   "cell_type": "code",
   "execution_count": 32,
   "id": "1278f647",
   "metadata": {},
   "outputs": [],
   "source": [
    "earthquakes[\"month\"] = earthquakes[\"time\"].dt.month_name()"
   ]
  },
  {
   "cell_type": "code",
   "execution_count": 33,
   "id": "d94f1d53",
   "metadata": {},
   "outputs": [
    {
     "data": {
      "text/plain": [
       "January     12421\n",
       "March       12313\n",
       "February    11182\n",
       "Name: month, dtype: int64"
      ]
     },
     "execution_count": 33,
     "metadata": {},
     "output_type": "execute_result"
    }
   ],
   "source": [
    "earthquakes[\"month\"].value_counts()"
   ]
  },
  {
   "cell_type": "markdown",
   "id": "d8942e92",
   "metadata": {},
   "source": [
    "## Extracting state from the `longitude` and `latitude` attributes"
   ]
  },
  {
   "cell_type": "code",
   "execution_count": 34,
   "id": "2de073d0",
   "metadata": {},
   "outputs": [],
   "source": [
    "states = earthquakes[\"place\"].str.split(\n",
    "    pat=\",\",\n",
    "    n=1,\n",
    ").str.get(-1)"
   ]
  },
  {
   "cell_type": "code",
   "execution_count": 35,
   "id": "dd6dbe8e",
   "metadata": {},
   "outputs": [
    {
     "data": {
      "text/plain": [
       "id\n",
       "ok2022ccvb            Oklahoma\n",
       "ak0221e05fgq    Central Alaska\n",
       "ak0221e051u3            Alaska\n",
       "ak0221e050xt            Alaska\n",
       "ak0221e04enn            Alaska\n",
       "                     ...      \n",
       "ak0222r8d3ze            Alaska\n",
       "nc73699171                  CA\n",
       "ak0222r8acmt            Alaska\n",
       "uu60483552                Utah\n",
       "uw61819426              Canada\n",
       "Name: place, Length: 35916, dtype: object"
      ]
     },
     "execution_count": 35,
     "metadata": {},
     "output_type": "execute_result"
    }
   ],
   "source": [
    "states"
   ]
  },
  {
   "cell_type": "code",
   "execution_count": 36,
   "id": "893eb104",
   "metadata": {},
   "outputs": [
    {
     "name": "stdout",
     "output_type": "stream",
     "text": [
      "<class 'pandas.core.series.Series'>\n",
      "Index: 35916 entries, ok2022ccvb to uw61819426\n",
      "Series name: place\n",
      "Non-Null Count  Dtype \n",
      "--------------  ----- \n",
      "35781 non-null  object\n",
      "dtypes: object(1)\n",
      "memory usage: 1.6+ MB\n"
     ]
    }
   ],
   "source": [
    "states.info()"
   ]
  },
  {
   "cell_type": "code",
   "execution_count": 37,
   "id": "a42d3575",
   "metadata": {},
   "outputs": [],
   "source": [
    "temp = earthquakes[earthquakes[\"place\"].isnull()]"
   ]
  },
  {
   "cell_type": "code",
   "execution_count": 38,
   "id": "83448451",
   "metadata": {},
   "outputs": [
    {
     "data": {
      "text/html": [
       "<div>\n",
       "<style scoped>\n",
       "    .dataframe tbody tr th:only-of-type {\n",
       "        vertical-align: middle;\n",
       "    }\n",
       "\n",
       "    .dataframe tbody tr th {\n",
       "        vertical-align: top;\n",
       "    }\n",
       "\n",
       "    .dataframe thead th {\n",
       "        text-align: right;\n",
       "    }\n",
       "</style>\n",
       "<table border=\"1\" class=\"dataframe\">\n",
       "  <thead>\n",
       "    <tr style=\"text-align: right;\">\n",
       "      <th></th>\n",
       "      <th>time</th>\n",
       "      <th>latitude</th>\n",
       "      <th>longitude</th>\n",
       "      <th>mag</th>\n",
       "      <th>magType</th>\n",
       "      <th>place</th>\n",
       "      <th>type</th>\n",
       "      <th>status</th>\n",
       "      <th>locationSource</th>\n",
       "      <th>month</th>\n",
       "    </tr>\n",
       "    <tr>\n",
       "      <th>id</th>\n",
       "      <th></th>\n",
       "      <th></th>\n",
       "      <th></th>\n",
       "      <th></th>\n",
       "      <th></th>\n",
       "      <th></th>\n",
       "      <th></th>\n",
       "      <th></th>\n",
       "      <th></th>\n",
       "      <th></th>\n",
       "    </tr>\n",
       "  </thead>\n",
       "  <tbody>\n",
       "    <tr>\n",
       "      <th>ak0221dsr7ph</th>\n",
       "      <td>2022-01-30 11:14:16.340000+00:00</td>\n",
       "      <td>61.363400</td>\n",
       "      <td>-149.574000</td>\n",
       "      <td>1.20</td>\n",
       "      <td>ml</td>\n",
       "      <td>NaN</td>\n",
       "      <td>earthquake</td>\n",
       "      <td>reviewed</td>\n",
       "      <td>ak</td>\n",
       "      <td>January</td>\n",
       "    </tr>\n",
       "    <tr>\n",
       "      <th>tx2022byde</th>\n",
       "      <td>2022-01-28 10:23:37.233000+00:00</td>\n",
       "      <td>31.707534</td>\n",
       "      <td>-103.995351</td>\n",
       "      <td>2.50</td>\n",
       "      <td>ml</td>\n",
       "      <td>NaN</td>\n",
       "      <td>earthquake</td>\n",
       "      <td>reviewed</td>\n",
       "      <td>tx</td>\n",
       "      <td>January</td>\n",
       "    </tr>\n",
       "    <tr>\n",
       "      <th>ak0221afcyv4</th>\n",
       "      <td>2022-01-28 07:24:33.861000+00:00</td>\n",
       "      <td>53.216700</td>\n",
       "      <td>-166.734500</td>\n",
       "      <td>1.70</td>\n",
       "      <td>ml</td>\n",
       "      <td>NaN</td>\n",
       "      <td>earthquake</td>\n",
       "      <td>reviewed</td>\n",
       "      <td>ak</td>\n",
       "      <td>January</td>\n",
       "    </tr>\n",
       "    <tr>\n",
       "      <th>ak022191gw7r</th>\n",
       "      <td>2022-01-27 23:44:58.569000+00:00</td>\n",
       "      <td>60.281600</td>\n",
       "      <td>-152.497100</td>\n",
       "      <td>1.90</td>\n",
       "      <td>ml</td>\n",
       "      <td>NaN</td>\n",
       "      <td>earthquake</td>\n",
       "      <td>reviewed</td>\n",
       "      <td>ak</td>\n",
       "      <td>January</td>\n",
       "    </tr>\n",
       "    <tr>\n",
       "      <th>ak02218o8kpq</th>\n",
       "      <td>2022-01-27 01:22:26.695000+00:00</td>\n",
       "      <td>61.327600</td>\n",
       "      <td>-150.872700</td>\n",
       "      <td>1.60</td>\n",
       "      <td>ml</td>\n",
       "      <td>NaN</td>\n",
       "      <td>earthquake</td>\n",
       "      <td>reviewed</td>\n",
       "      <td>ak</td>\n",
       "      <td>January</td>\n",
       "    </tr>\n",
       "    <tr>\n",
       "      <th>...</th>\n",
       "      <td>...</td>\n",
       "      <td>...</td>\n",
       "      <td>...</td>\n",
       "      <td>...</td>\n",
       "      <td>...</td>\n",
       "      <td>...</td>\n",
       "      <td>...</td>\n",
       "      <td>...</td>\n",
       "      <td>...</td>\n",
       "      <td>...</td>\n",
       "    </tr>\n",
       "    <tr>\n",
       "      <th>pr71338438</th>\n",
       "      <td>2022-03-02 03:49:23.630000+00:00</td>\n",
       "      <td>18.042667</td>\n",
       "      <td>-66.894167</td>\n",
       "      <td>1.51</td>\n",
       "      <td>md</td>\n",
       "      <td>NaN</td>\n",
       "      <td>earthquake</td>\n",
       "      <td>reviewed</td>\n",
       "      <td>pr</td>\n",
       "      <td>March</td>\n",
       "    </tr>\n",
       "    <tr>\n",
       "      <th>us6000h23r</th>\n",
       "      <td>2022-03-01 04:52:18.615000+00:00</td>\n",
       "      <td>-7.162000</td>\n",
       "      <td>156.382800</td>\n",
       "      <td>4.30</td>\n",
       "      <td>mb</td>\n",
       "      <td>NaN</td>\n",
       "      <td>earthquake</td>\n",
       "      <td>reviewed</td>\n",
       "      <td>us</td>\n",
       "      <td>March</td>\n",
       "    </tr>\n",
       "    <tr>\n",
       "      <th>ak0222rabwus</th>\n",
       "      <td>2022-03-01 03:50:34.211000+00:00</td>\n",
       "      <td>60.655000</td>\n",
       "      <td>-152.423100</td>\n",
       "      <td>1.10</td>\n",
       "      <td>ml</td>\n",
       "      <td>NaN</td>\n",
       "      <td>earthquake</td>\n",
       "      <td>reviewed</td>\n",
       "      <td>ak</td>\n",
       "      <td>March</td>\n",
       "    </tr>\n",
       "    <tr>\n",
       "      <th>us6000h23y</th>\n",
       "      <td>2022-03-01 03:37:44.437000+00:00</td>\n",
       "      <td>-2.067800</td>\n",
       "      <td>127.825500</td>\n",
       "      <td>4.40</td>\n",
       "      <td>mb</td>\n",
       "      <td>NaN</td>\n",
       "      <td>earthquake</td>\n",
       "      <td>reviewed</td>\n",
       "      <td>us</td>\n",
       "      <td>March</td>\n",
       "    </tr>\n",
       "    <tr>\n",
       "      <th>ak0222ra8w07</th>\n",
       "      <td>2022-03-01 03:36:22.903000+00:00</td>\n",
       "      <td>63.195100</td>\n",
       "      <td>-151.359400</td>\n",
       "      <td>1.60</td>\n",
       "      <td>ml</td>\n",
       "      <td>NaN</td>\n",
       "      <td>earthquake</td>\n",
       "      <td>reviewed</td>\n",
       "      <td>ak</td>\n",
       "      <td>March</td>\n",
       "    </tr>\n",
       "  </tbody>\n",
       "</table>\n",
       "<p>135 rows × 10 columns</p>\n",
       "</div>"
      ],
      "text/plain": [
       "                                         time   latitude   longitude   mag  \\\n",
       "id                                                                           \n",
       "ak0221dsr7ph 2022-01-30 11:14:16.340000+00:00  61.363400 -149.574000  1.20   \n",
       "tx2022byde   2022-01-28 10:23:37.233000+00:00  31.707534 -103.995351  2.50   \n",
       "ak0221afcyv4 2022-01-28 07:24:33.861000+00:00  53.216700 -166.734500  1.70   \n",
       "ak022191gw7r 2022-01-27 23:44:58.569000+00:00  60.281600 -152.497100  1.90   \n",
       "ak02218o8kpq 2022-01-27 01:22:26.695000+00:00  61.327600 -150.872700  1.60   \n",
       "...                                       ...        ...         ...   ...   \n",
       "pr71338438   2022-03-02 03:49:23.630000+00:00  18.042667  -66.894167  1.51   \n",
       "us6000h23r   2022-03-01 04:52:18.615000+00:00  -7.162000  156.382800  4.30   \n",
       "ak0222rabwus 2022-03-01 03:50:34.211000+00:00  60.655000 -152.423100  1.10   \n",
       "us6000h23y   2022-03-01 03:37:44.437000+00:00  -2.067800  127.825500  4.40   \n",
       "ak0222ra8w07 2022-03-01 03:36:22.903000+00:00  63.195100 -151.359400  1.60   \n",
       "\n",
       "             magType place        type    status locationSource    month  \n",
       "id                                                                        \n",
       "ak0221dsr7ph      ml   NaN  earthquake  reviewed             ak  January  \n",
       "tx2022byde        ml   NaN  earthquake  reviewed             tx  January  \n",
       "ak0221afcyv4      ml   NaN  earthquake  reviewed             ak  January  \n",
       "ak022191gw7r      ml   NaN  earthquake  reviewed             ak  January  \n",
       "ak02218o8kpq      ml   NaN  earthquake  reviewed             ak  January  \n",
       "...              ...   ...         ...       ...            ...      ...  \n",
       "pr71338438        md   NaN  earthquake  reviewed             pr    March  \n",
       "us6000h23r        mb   NaN  earthquake  reviewed             us    March  \n",
       "ak0222rabwus      ml   NaN  earthquake  reviewed             ak    March  \n",
       "us6000h23y        mb   NaN  earthquake  reviewed             us    March  \n",
       "ak0222ra8w07      ml   NaN  earthquake  reviewed             ak    March  \n",
       "\n",
       "[135 rows x 10 columns]"
      ]
     },
     "execution_count": 38,
     "metadata": {},
     "output_type": "execute_result"
    }
   ],
   "source": [
    "temp"
   ]
  },
  {
   "cell_type": "code",
   "execution_count": 39,
   "id": "c743695a",
   "metadata": {},
   "outputs": [],
   "source": [
    "import geocoder"
   ]
  },
  {
   "cell_type": "code",
   "execution_count": 40,
   "id": "5a6b1a20",
   "metadata": {},
   "outputs": [],
   "source": [
    "def get_state(df):\n",
    "    g = geocoder.osm([df[\"latitude\"], df[\"longitude\"]], method=\"reverse\")\n",
    "    if g.ok:\n",
    "        geojson = g.geojson\n",
    "        address = geojson[\"features\"][0][\"properties\"][\"raw\"][\"address\"]\n",
    "        return address.get(\"ISO3166-2-lvl4\")\n",
    "    return \"\""
   ]
  },
  {
   "cell_type": "code",
   "execution_count": 41,
   "id": "ff30060c",
   "metadata": {},
   "outputs": [
    {
     "name": "stdout",
     "output_type": "stream",
     "text": [
      "Defaulting to user installation because normal site-packages is not writeable\n",
      "Requirement already satisfied: geocoder in /home/sabinthapa/.local/lib/python3.10/site-packages (1.38.1)\n",
      "Requirement already satisfied: future in /home/sabinthapa/.local/lib/python3.10/site-packages (from geocoder) (0.18.2)\n",
      "Requirement already satisfied: requests in /home/sabinthapa/.local/lib/python3.10/site-packages (from geocoder) (2.28.1)\n",
      "Requirement already satisfied: ratelim in /home/sabinthapa/.local/lib/python3.10/site-packages (from geocoder) (0.1.6)\n",
      "Requirement already satisfied: click in /usr/lib/python3/dist-packages (from geocoder) (8.0.3)\n",
      "Requirement already satisfied: six in /usr/lib/python3/dist-packages (from geocoder) (1.16.0)\n",
      "Requirement already satisfied: decorator in /home/sabinthapa/.local/lib/python3.10/site-packages (from ratelim->geocoder) (5.1.1)\n",
      "Requirement already satisfied: certifi>=2017.4.17 in /usr/lib/python3/dist-packages (from requests->geocoder) (2020.6.20)\n",
      "Requirement already satisfied: idna<4,>=2.5 in /usr/lib/python3/dist-packages (from requests->geocoder) (3.3)\n",
      "Requirement already satisfied: charset-normalizer<3,>=2 in /home/sabinthapa/.local/lib/python3.10/site-packages (from requests->geocoder) (2.1.1)\n",
      "Requirement already satisfied: urllib3<1.27,>=1.21.1 in /usr/lib/python3/dist-packages (from requests->geocoder) (1.26.5)\n",
      "\n",
      "\u001b[1m[\u001b[0m\u001b[34;49mnotice\u001b[0m\u001b[1;39;49m]\u001b[0m\u001b[39;49m A new release of pip available: \u001b[0m\u001b[31;49m22.3\u001b[0m\u001b[39;49m -> \u001b[0m\u001b[32;49m22.3.1\u001b[0m\n",
      "\u001b[1m[\u001b[0m\u001b[34;49mnotice\u001b[0m\u001b[1;39;49m]\u001b[0m\u001b[39;49m To update, run: \u001b[0m\u001b[32;49mpython3 -m pip install --upgrade pip\u001b[0m\n"
     ]
    }
   ],
   "source": [
    "!pip install geocoder\n"
   ]
  },
  {
   "cell_type": "code",
   "execution_count": null,
   "id": "68596d5b",
   "metadata": {},
   "outputs": [],
   "source": [
    "res = temp[[\"latitude\", \"longitude\"]].apply(get_state, axis=1)"
   ]
  },
  {
   "cell_type": "code",
   "execution_count": null,
   "id": "02a1f322",
   "metadata": {},
   "outputs": [],
   "source": [
    "res.isnull().value_counts()"
   ]
  },
  {
   "cell_type": "code",
   "execution_count": null,
   "id": "bc178c81",
   "metadata": {},
   "outputs": [],
   "source": [
    "# We actually get a lot of the missing values. So it can be applied on the original dataframe."
   ]
  },
  {
   "cell_type": "code",
   "execution_count": null,
   "id": "eb23865f",
   "metadata": {},
   "outputs": [],
   "source": [
    "import pandas as pd"
   ]
  },
  {
   "cell_type": "code",
   "execution_count": null,
   "id": "6f0ee7cc",
   "metadata": {},
   "outputs": [],
   "source": [
    "def csv_to_df(file):\n",
    "    return pd.read_csv(\n",
    "        file,\n",
    "        parse_dates=[\"time\"],\n",
    "        usecols=[\n",
    "            \"id\",\n",
    "            \"time\",\n",
    "            \"latitude\",\n",
    "            \"longitude\",\n",
    "            \"mag\",\n",
    "            \"magType\",\n",
    "            \"place\",\n",
    "            \"type\",\n",
    "            \"status\",\n",
    "            \"locationSource\",\n",
    "            \"state\",\n",
    "        ],\n",
    "        index_col=\"id\"\n",
    "    )"
   ]
  },
  {
   "cell_type": "code",
   "execution_count": null,
   "id": "7e1f54f5",
   "metadata": {},
   "outputs": [],
   "source": [
    "jan = csv_to_df(\"datasets/jan-enriched.csv\")\n",
    "feb = csv_to_df(\"datasets/feb-enriched.csv\")\n",
    "mar = csv_to_df(\"datasets/mar-enriched.csv\")"
   ]
  },
  {
   "cell_type": "code",
   "execution_count": null,
   "id": "4e3366b8",
   "metadata": {},
   "outputs": [],
   "source": [
    "sum(size for (size, _) in (jan.shape, feb.shape, mar.shape))"
   ]
  },
  {
   "cell_type": "code",
   "execution_count": null,
   "id": "c45fa56f",
   "metadata": {},
   "outputs": [],
   "source": [
    "earthquakes = pd.concat([jan, feb, mar])"
   ]
  },
  {
   "cell_type": "code",
   "execution_count": null,
   "id": "959c28bd",
   "metadata": {},
   "outputs": [],
   "source": [
    "earthquakes[\"state\"].str.startswith(\"CA\").value_counts()"
   ]
  },
  {
   "cell_type": "code",
   "execution_count": null,
   "id": "cfb98c6e",
   "metadata": {},
   "outputs": [],
   "source": [
    "# Dropping Canadian states\n",
    "earthquakes = earthquakes[~earthquakes[\"state\"].str.startswith(\"CA\", na=False)]"
   ]
  },
  {
   "cell_type": "code",
   "execution_count": null,
   "id": "ca305085",
   "metadata": {},
   "outputs": [],
   "source": [
    "earthquakes.shape"
   ]
  },
  {
   "cell_type": "code",
   "execution_count": null,
   "id": "56dd0294",
   "metadata": {},
   "outputs": [],
   "source": [
    "earthquakes[earthquakes[\"state\"].isnull()].shape"
   ]
  },
  {
   "cell_type": "code",
   "execution_count": null,
   "id": "acb0c461",
   "metadata": {},
   "outputs": [],
   "source": [
    "earthquakes.dropna(subset=[\"state\"]).shape"
   ]
  },
  {
   "cell_type": "code",
   "execution_count": null,
   "id": "0da76700",
   "metadata": {},
   "outputs": [],
   "source": [
    "35632 - 4544"
   ]
  },
  {
   "cell_type": "code",
   "execution_count": null,
   "id": "4e1bc689",
   "metadata": {},
   "outputs": [],
   "source": [
    "# Dropping the islands stuff\n",
    "earthquakes = earthquakes.dropna(subset=[\"state\"])"
   ]
  },
  {
   "cell_type": "code",
   "execution_count": null,
   "id": "b8ab0b72",
   "metadata": {},
   "outputs": [],
   "source": [
    "earthquakes.head()"
   ]
  },
  {
   "cell_type": "code",
   "execution_count": null,
   "id": "8f73ee5e",
   "metadata": {},
   "outputs": [],
   "source": [
    "earthquakes.info()"
   ]
  },
  {
   "cell_type": "code",
   "execution_count": null,
   "id": "c0162da9",
   "metadata": {},
   "outputs": [],
   "source": [
    "earthquakes[earthquakes[\"mag\"].isnull()]"
   ]
  },
  {
   "cell_type": "code",
   "execution_count": null,
   "id": "9e424b5f",
   "metadata": {},
   "outputs": [],
   "source": [
    "earthquakes = earthquakes.dropna(subset=[\"mag\"])"
   ]
  },
  {
   "cell_type": "code",
   "execution_count": null,
   "id": "8697e637",
   "metadata": {},
   "outputs": [],
   "source": [
    "earthquakes.info()"
   ]
  },
  {
   "cell_type": "code",
   "execution_count": null,
   "id": "afe7df58",
   "metadata": {},
   "outputs": [],
   "source": [
    "earthquakes = earthquakes.assign(\n",
    "    state_code=earthquakes[\"state\"].str.split(\"-\").str.get(-1).str.strip(),\n",
    "    month=earthquakes[\"time\"].dt.month_name() \n",
    ")"
   ]
  },
  {
   "cell_type": "code",
   "execution_count": null,
   "id": "90f15687",
   "metadata": {},
   "outputs": [],
   "source": [
    "earthquakes.head()"
   ]
  },
  {
   "cell_type": "code",
   "execution_count": null,
   "id": "aff5431e",
   "metadata": {},
   "outputs": [],
   "source": [
    "earthquakes.info()"
   ]
  },
  {
   "cell_type": "code",
   "execution_count": null,
   "id": "79a82eda",
   "metadata": {},
   "outputs": [],
   "source": [
    "earthquakes.nunique()"
   ]
  },
  {
   "cell_type": "code",
   "execution_count": null,
   "id": "12ef8bf9",
   "metadata": {},
   "outputs": [],
   "source": [
    "earthquakes[\"state\"].unique()"
   ]
  },
  {
   "cell_type": "code",
   "execution_count": null,
   "id": "471d184c",
   "metadata": {},
   "outputs": [],
   "source": [
    "# Converting values to appropriate data types\n",
    "earthquakes[\"magType\"] = earthquakes[\"magType\"].astype(\"category\")\n",
    "earthquakes[\"type\"] = earthquakes[\"type\"].astype(\"category\")\n",
    "earthquakes[\"status\"] = earthquakes[\"status\"].astype(\"category\")\n",
    "earthquakes[\"locationSource\"] = earthquakes[\"locationSource\"].astype(\"category\")\n",
    "earthquakes[\"state\"]\n"
   ]
  },
  {
   "cell_type": "markdown",
   "id": "f04aa2c9",
   "metadata": {},
   "source": [
    "# Selecting Data for Plotting"
   ]
  },
  {
   "cell_type": "code",
   "execution_count": null,
   "id": "29c87ec8",
   "metadata": {},
   "outputs": [],
   "source": [
    "import pandas as pd"
   ]
  },
  {
   "cell_type": "code",
   "execution_count": null,
   "id": "f948030c",
   "metadata": {},
   "outputs": [],
   "source": []
  },
  {
   "cell_type": "code",
   "execution_count": null,
   "id": "4df22026",
   "metadata": {},
   "outputs": [],
   "source": []
  },
  {
   "cell_type": "code",
   "execution_count": null,
   "id": "531dda26",
   "metadata": {},
   "outputs": [],
   "source": [
    "earthquakes = pd.read_csv(\n",
    "    \"datasets/us_earthquakes.csv\",\n",
    "    parse_dates=[\"time\"],\n",
    ")"
   ]
  },
  {
   "cell_type": "code",
   "execution_count": null,
   "id": "f437f0dc",
   "metadata": {},
   "outputs": [],
   "source": [
    "earthquakes.info()"
   ]
  },
  {
   "cell_type": "code",
   "execution_count": null,
   "id": "dc6a7bf2",
   "metadata": {},
   "outputs": [],
   "source": [
    "earthquakes[\"magType\"] = earthquakes[\"magType\"].astype(\"category\")\n",
    "earthquakes[\"type\"] = earthquakes[\"type\"].astype(\"category\")\n",
    "earthquakes[\"status\"] = earthquakes[\"status\"].astype(\"category\")\n",
    "earthquakes[\"locationSource\"] = earthquakes[\"locationSource\"].astype(\"category\")\n",
    "earthquakes[\"state\"] = earthquakes[\"state\"].astype(\"category\")\n",
    "earthquakes[\"state_code\"] = earthquakes[\"state_code\"].astype(\"category\")\n",
    "earthquakes[\"month\"] = earthquakes[\"month\"].astype(\"category\")"
   ]
  },
  {
   "cell_type": "code",
   "execution_count": null,
   "id": "4517cf02",
   "metadata": {},
   "outputs": [],
   "source": [
    "earthquakes.info()"
   ]
  },
  {
   "cell_type": "code",
   "execution_count": null,
   "id": "6473b80d",
   "metadata": {},
   "outputs": [],
   "source": [
    "df = earthquakes.copy()"
   ]
  },
  {
   "cell_type": "code",
   "execution_count": null,
   "id": "b5f895a6",
   "metadata": {},
   "outputs": [],
   "source": [
    "df.groupby([\"month\", \"state_code\"]).groups.keys()"
   ]
  },
  {
   "cell_type": "code",
   "execution_count": null,
   "id": "2ea5b8a1",
   "metadata": {},
   "outputs": [],
   "source": [
    "df = df.groupby([\"month\", \"state_code\"]).agg(earthquakes=(\"id\", \"count\")).reset_index()"
   ]
  },
  {
   "cell_type": "code",
   "execution_count": null,
   "id": "067ba671",
   "metadata": {},
   "outputs": [],
   "source": [
    "df.sample(10)"
   ]
  },
  {
   "cell_type": "code",
   "execution_count": null,
   "id": "0d7ee2e8",
   "metadata": {},
   "outputs": [],
   "source": [
    "df[df[\"month\"]==\"January\"]"
   ]
  },
  {
   "cell_type": "code",
   "execution_count": null,
   "id": "9fbb76b8",
   "metadata": {},
   "outputs": [],
   "source": [
    "earthquakes.info()"
   ]
  },
  {
   "cell_type": "code",
   "execution_count": null,
   "id": "f5ea8f20",
   "metadata": {},
   "outputs": [],
   "source": [
    "earthquakes[\"type\"].value_counts(normalize=True)"
   ]
  },
  {
   "cell_type": "code",
   "execution_count": null,
   "id": "426f173f",
   "metadata": {},
   "outputs": [],
   "source": [
    "earthquakes[\"status\"].value_counts()"
   ]
  },
  {
   "cell_type": "code",
   "execution_count": null,
   "id": "dcca5865",
   "metadata": {},
   "outputs": [],
   "source": [
    "earthquakes.head()"
   ]
  },
  {
   "cell_type": "code",
   "execution_count": null,
   "id": "4e163b92",
   "metadata": {},
   "outputs": [],
   "source": [
    "df_scatter = earthquakes[[\"id\", \"time\", \"latitude\", \"longitude\", \"mag\", \"place\", \"type\", \"state_code\"]]"
   ]
  },
  {
   "cell_type": "code",
   "execution_count": null,
   "id": "f8c1b295",
   "metadata": {},
   "outputs": [],
   "source": [
    "df_scatter = df_scatter.assign(\n",
    "    date=df_scatter[\"time\"].dt.date\n",
    ")"
   ]
  },
  {
   "cell_type": "code",
   "execution_count": null,
   "id": "699bd769",
   "metadata": {},
   "outputs": [],
   "source": [
    "df_scatter.sample(5)"
   ]
  },
  {
   "cell_type": "code",
   "execution_count": null,
   "id": "9b6f5ca9",
   "metadata": {},
   "outputs": [],
   "source": [
    "df_scatter.sort_values(by=[\"mag\"], ascending=False).head(10)"
   ]
  },
  {
   "cell_type": "code",
   "execution_count": null,
   "id": "ddf9f119",
   "metadata": {},
   "outputs": [],
   "source": [
    "df_scatter[\"label\"] = \"id: \" + df_scatter[\"id\"] + \", mag: \" + df_scatter[\"mag\"].astype(str) + \", \" + df_scatter[\"place\"] + \", \" + df_scatter[\"date\"].astype(str)"
   ]
  },
  {
   "cell_type": "code",
   "execution_count": null,
   "id": "61e6b1de",
   "metadata": {},
   "outputs": [],
   "source": [
    "df_scatter"
   ]
  },
  {
   "cell_type": "code",
   "execution_count": null,
   "id": "609a940a",
   "metadata": {},
   "outputs": [],
   "source": [
    "df_chart = earthquakes.copy()"
   ]
  },
  {
   "cell_type": "code",
   "execution_count": null,
   "id": "5f0a2d80",
   "metadata": {},
   "outputs": [],
   "source": [
    "df_chart = df_chart[\"type\"].value_counts().to_frame().reset_index().rename(columns={\"index\": \"Type\", \"type\": \"Count\"})"
   ]
  },
  {
   "cell_type": "code",
   "execution_count": null,
   "id": "376de884",
   "metadata": {},
   "outputs": [],
   "source": [
    "df_chart"
   ]
  },
  {
   "cell_type": "code",
   "execution_count": null,
   "id": "d6bd7f3a",
   "metadata": {},
   "outputs": [],
   "source": [
    "import plotly.express as px"
   ]
  },
  {
   "cell_type": "code",
   "execution_count": null,
   "id": "bce43ff4",
   "metadata": {},
   "outputs": [],
   "source": [
    "fig = px.bar(df_chart, x=\"Type\", y=\"Count\", title=\"Wide-Form Input\")"
   ]
  },
  {
   "cell_type": "code",
   "execution_count": null,
   "id": "cab6c9b5",
   "metadata": {},
   "outputs": [],
   "source": [
    "fig.show()"
   ]
  },
  {
   "cell_type": "code",
   "execution_count": null,
   "id": "8d031ed5",
   "metadata": {},
   "outputs": [],
   "source": [
    "fig = px.pie(df_chart, values=\"Count\", names=\"Type\", hole=.3)"
   ]
  },
  {
   "cell_type": "code",
   "execution_count": null,
   "id": "339bedd3",
   "metadata": {},
   "outputs": [],
   "source": [
    "fig.show()"
   ]
  },
  {
   "cell_type": "code",
   "execution_count": null,
   "id": "22d7b5bc",
   "metadata": {},
   "outputs": [],
   "source": []
  }
 ],
 "metadata": {
  "kernelspec": {
   "display_name": "Python 3 (ipykernel)",
   "language": "python",
   "name": "python3"
  },
  "language_info": {
   "codemirror_mode": {
    "name": "ipython",
    "version": 3
   },
   "file_extension": ".py",
   "mimetype": "text/x-python",
   "name": "python",
   "nbconvert_exporter": "python",
   "pygments_lexer": "ipython3",
   "version": "3.10.6"
  }
 },
 "nbformat": 4,
 "nbformat_minor": 5
}
