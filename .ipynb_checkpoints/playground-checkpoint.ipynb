{
 "cells": [
  {
   "cell_type": "code",
   "execution_count": 1,
   "id": "d0db8e06",
   "metadata": {},
   "outputs": [],
   "source": [
    "import pandas as pd\n",
    "import datetime"
   ]
  },
  {
   "cell_type": "markdown",
   "id": "ab21c6d9",
   "metadata": {},
   "source": [
    "## Data Exploration"
   ]
  },
  {
   "cell_type": "code",
   "execution_count": 2,
   "id": "a6afc861",
   "metadata": {},
   "outputs": [],
   "source": [
    "def csv_to_df(file):\n",
    "    return pd.read_csv(\n",
    "        file,\n",
    "        parse_dates=[\"time\"]\n",
    "    )"
   ]
  },
  {
   "cell_type": "code",
   "execution_count": 3,
   "id": "29adbcf8",
   "metadata": {},
   "outputs": [],
   "source": [
    "jan = csv_to_df(\"datasets/january.csv\")\n",
    "feb = csv_to_df(\"datasets/february.csv\")\n",
    "mar = csv_to_df(\"datasets/march.csv\")"
   ]
  },
  {
   "cell_type": "code",
   "execution_count": 4,
   "id": "54f16c3f",
   "metadata": {},
   "outputs": [
    {
     "data": {
      "text/plain": [
       "35919"
      ]
     },
     "execution_count": 4,
     "metadata": {},
     "output_type": "execute_result"
    }
   ],
   "source": [
    "sum(size for (size, _) in (jan.shape, feb.shape, mar.shape))"
   ]
  },
  {
   "cell_type": "code",
   "execution_count": 5,
   "id": "aac330a7",
   "metadata": {},
   "outputs": [],
   "source": [
    "earthquakes = pd.concat([jan, feb, mar])"
   ]
  },
  {
   "cell_type": "code",
   "execution_count": 6,
   "id": "f50dc802",
   "metadata": {},
   "outputs": [
    {
     "data": {
      "text/plain": [
       "(35919, 22)"
      ]
     },
     "execution_count": 6,
     "metadata": {},
     "output_type": "execute_result"
    }
   ],
   "source": [
    "earthquakes.shape"
   ]
  },
  {
   "cell_type": "code",
   "execution_count": 7,
   "id": "6e899178",
   "metadata": {},
   "outputs": [
    {
     "name": "stdout",
     "output_type": "stream",
     "text": [
      "<class 'pandas.core.frame.DataFrame'>\n",
      "Int64Index: 35919 entries, 0 to 12312\n",
      "Data columns (total 22 columns):\n",
      " #   Column           Non-Null Count  Dtype              \n",
      "---  ------           --------------  -----              \n",
      " 0   time             35919 non-null  datetime64[ns, UTC]\n",
      " 1   latitude         35919 non-null  float64            \n",
      " 2   longitude        35919 non-null  float64            \n",
      " 3   depth            35919 non-null  float64            \n",
      " 4   mag              35916 non-null  float64            \n",
      " 5   magType          35916 non-null  object             \n",
      " 6   nst              21283 non-null  float64            \n",
      " 7   gap              26711 non-null  float64            \n",
      " 8   dmin             22113 non-null  float64            \n",
      " 9   rms              35919 non-null  float64            \n",
      " 10  net              35919 non-null  object             \n",
      " 11  id               35919 non-null  object             \n",
      " 12  updated          35919 non-null  object             \n",
      " 13  place            35784 non-null  object             \n",
      " 14  type             35919 non-null  object             \n",
      " 15  horizontalError  23893 non-null  float64            \n",
      " 16  depthError       35919 non-null  float64            \n",
      " 17  magError         25175 non-null  float64            \n",
      " 18  magNst           26684 non-null  float64            \n",
      " 19  status           35919 non-null  object             \n",
      " 20  locationSource   35919 non-null  object             \n",
      " 21  magSource        35919 non-null  object             \n",
      "dtypes: datetime64[ns, UTC](1), float64(12), object(9)\n",
      "memory usage: 6.3+ MB\n"
     ]
    }
   ],
   "source": [
    "earthquakes.info()"
   ]
  },
  {
   "cell_type": "code",
   "execution_count": 8,
   "id": "dede6092",
   "metadata": {},
   "outputs": [
    {
     "data": {
      "text/html": [
       "<div>\n",
       "<style scoped>\n",
       "    .dataframe tbody tr th:only-of-type {\n",
       "        vertical-align: middle;\n",
       "    }\n",
       "\n",
       "    .dataframe tbody tr th {\n",
       "        vertical-align: top;\n",
       "    }\n",
       "\n",
       "    .dataframe thead th {\n",
       "        text-align: right;\n",
       "    }\n",
       "</style>\n",
       "<table border=\"1\" class=\"dataframe\">\n",
       "  <thead>\n",
       "    <tr style=\"text-align: right;\">\n",
       "      <th></th>\n",
       "      <th>time</th>\n",
       "      <th>latitude</th>\n",
       "      <th>longitude</th>\n",
       "      <th>depth</th>\n",
       "      <th>mag</th>\n",
       "      <th>magType</th>\n",
       "      <th>net</th>\n",
       "      <th>id</th>\n",
       "      <th>place</th>\n",
       "      <th>type</th>\n",
       "      <th>status</th>\n",
       "      <th>locationSource</th>\n",
       "      <th>magSource</th>\n",
       "    </tr>\n",
       "  </thead>\n",
       "  <tbody>\n",
       "    <tr>\n",
       "      <th>0</th>\n",
       "      <td>2022-01-30 23:58:39.500000+00:00</td>\n",
       "      <td>34.879167</td>\n",
       "      <td>-97.8520</td>\n",
       "      <td>14.67</td>\n",
       "      <td>0.99</td>\n",
       "      <td>ml</td>\n",
       "      <td>ok</td>\n",
       "      <td>ok2022ccvb</td>\n",
       "      <td>7 km WSW of Alex, Oklahoma</td>\n",
       "      <td>earthquake</td>\n",
       "      <td>reviewed</td>\n",
       "      <td>ok</td>\n",
       "      <td>ok</td>\n",
       "    </tr>\n",
       "    <tr>\n",
       "      <th>1</th>\n",
       "      <td>2022-01-30 23:56:19.237000+00:00</td>\n",
       "      <td>62.910000</td>\n",
       "      <td>-151.1774</td>\n",
       "      <td>107.60</td>\n",
       "      <td>1.40</td>\n",
       "      <td>ml</td>\n",
       "      <td>ak</td>\n",
       "      <td>ak0221e05fgq</td>\n",
       "      <td>Central Alaska</td>\n",
       "      <td>earthquake</td>\n",
       "      <td>reviewed</td>\n",
       "      <td>ak</td>\n",
       "      <td>ak</td>\n",
       "    </tr>\n",
       "    <tr>\n",
       "      <th>2</th>\n",
       "      <td>2022-01-30 23:54:44.477000+00:00</td>\n",
       "      <td>63.304800</td>\n",
       "      <td>-151.2721</td>\n",
       "      <td>8.80</td>\n",
       "      <td>1.10</td>\n",
       "      <td>ml</td>\n",
       "      <td>ak</td>\n",
       "      <td>ak0221e051u3</td>\n",
       "      <td>34 km SE of Denali National Park, Alaska</td>\n",
       "      <td>earthquake</td>\n",
       "      <td>reviewed</td>\n",
       "      <td>ak</td>\n",
       "      <td>ak</td>\n",
       "    </tr>\n",
       "    <tr>\n",
       "      <th>3</th>\n",
       "      <td>2022-01-30 23:54:32.973000+00:00</td>\n",
       "      <td>51.557800</td>\n",
       "      <td>-176.6738</td>\n",
       "      <td>39.60</td>\n",
       "      <td>1.80</td>\n",
       "      <td>ml</td>\n",
       "      <td>ak</td>\n",
       "      <td>ak0221e050xt</td>\n",
       "      <td>35 km S of Adak, Alaska</td>\n",
       "      <td>earthquake</td>\n",
       "      <td>reviewed</td>\n",
       "      <td>ak</td>\n",
       "      <td>ak</td>\n",
       "    </tr>\n",
       "    <tr>\n",
       "      <th>4</th>\n",
       "      <td>2022-01-30 23:51:44.207000+00:00</td>\n",
       "      <td>63.291700</td>\n",
       "      <td>-151.3217</td>\n",
       "      <td>9.90</td>\n",
       "      <td>1.10</td>\n",
       "      <td>ml</td>\n",
       "      <td>ak</td>\n",
       "      <td>ak0221e04enn</td>\n",
       "      <td>34 km SE of Denali National Park, Alaska</td>\n",
       "      <td>earthquake</td>\n",
       "      <td>reviewed</td>\n",
       "      <td>ak</td>\n",
       "      <td>ak</td>\n",
       "    </tr>\n",
       "  </tbody>\n",
       "</table>\n",
       "</div>"
      ],
      "text/plain": [
       "                              time   latitude  longitude   depth   mag  \\\n",
       "0 2022-01-30 23:58:39.500000+00:00  34.879167   -97.8520   14.67  0.99   \n",
       "1 2022-01-30 23:56:19.237000+00:00  62.910000  -151.1774  107.60  1.40   \n",
       "2 2022-01-30 23:54:44.477000+00:00  63.304800  -151.2721    8.80  1.10   \n",
       "3 2022-01-30 23:54:32.973000+00:00  51.557800  -176.6738   39.60  1.80   \n",
       "4 2022-01-30 23:51:44.207000+00:00  63.291700  -151.3217    9.90  1.10   \n",
       "\n",
       "  magType net            id                                     place  \\\n",
       "0      ml  ok    ok2022ccvb                7 km WSW of Alex, Oklahoma   \n",
       "1      ml  ak  ak0221e05fgq                            Central Alaska   \n",
       "2      ml  ak  ak0221e051u3  34 km SE of Denali National Park, Alaska   \n",
       "3      ml  ak  ak0221e050xt                   35 km S of Adak, Alaska   \n",
       "4      ml  ak  ak0221e04enn  34 km SE of Denali National Park, Alaska   \n",
       "\n",
       "         type    status locationSource magSource  \n",
       "0  earthquake  reviewed             ok        ok  \n",
       "1  earthquake  reviewed             ak        ak  \n",
       "2  earthquake  reviewed             ak        ak  \n",
       "3  earthquake  reviewed             ak        ak  \n",
       "4  earthquake  reviewed             ak        ak  "
      ]
     },
     "execution_count": 8,
     "metadata": {},
     "output_type": "execute_result"
    }
   ],
   "source": [
    "# Dropping unnecessary columns\n",
    "earthquakes.drop(\n",
    "    [\"nst\", \"gap\", \"dmin\", \"rms\", \"updated\", \"horizontalError\", \"depthError\", \"magError\", \"magNst\"],\n",
    "    axis=1\n",
    ").head()"
   ]
  },
  {
   "cell_type": "code",
   "execution_count": 9,
   "id": "149c52ef",
   "metadata": {},
   "outputs": [
    {
     "data": {
      "text/plain": [
       "array(['ok', 'ak', 'nc', 'us', 'av', 'hv', 'pr', 'ci', 'uw', 'nm', 'nn',\n",
       "       'uu', 'tx', 'mb', 'se'], dtype=object)"
      ]
     },
     "execution_count": 9,
     "metadata": {},
     "output_type": "execute_result"
    }
   ],
   "source": [
    "earthquakes[\"net\"].unique()"
   ]
  },
  {
   "cell_type": "code",
   "execution_count": 10,
   "id": "3526d057",
   "metadata": {},
   "outputs": [
    {
     "data": {
      "text/plain": [
       "array(['ok', 'ak', 'nc', 'us', 'av', 'hv', 'pr', 'ci', 'uw', 'nm', 'nn',\n",
       "       'uu', 'tx', 'mb', 'se'], dtype=object)"
      ]
     },
     "execution_count": 10,
     "metadata": {},
     "output_type": "execute_result"
    }
   ],
   "source": [
    "earthquakes[\"locationSource\"].unique()"
   ]
  },
  {
   "cell_type": "code",
   "execution_count": 11,
   "id": "286513ee",
   "metadata": {},
   "outputs": [
    {
     "data": {
      "text/plain": [
       "26.288167243528935"
      ]
     },
     "execution_count": 11,
     "metadata": {},
     "output_type": "execute_result"
    }
   ],
   "source": [
    "earthquakes[\"depth\"].mean()"
   ]
  },
  {
   "cell_type": "code",
   "execution_count": 12,
   "id": "18660e85",
   "metadata": {},
   "outputs": [
    {
     "data": {
      "text/plain": [
       "array(['reviewed', 'automatic'], dtype=object)"
      ]
     },
     "execution_count": 12,
     "metadata": {},
     "output_type": "execute_result"
    }
   ],
   "source": [
    "earthquakes[\"status\"].unique()"
   ]
  },
  {
   "cell_type": "code",
   "execution_count": 13,
   "id": "a95605d4",
   "metadata": {},
   "outputs": [
    {
     "data": {
      "text/plain": [
       "array(['earthquake', 'ice quake', 'explosion', 'mining explosion',\n",
       "       'quarry blast', 'volcanic eruption', 'other event'], dtype=object)"
      ]
     },
     "execution_count": 13,
     "metadata": {},
     "output_type": "execute_result"
    }
   ],
   "source": [
    "earthquakes[\"type\"].unique()"
   ]
  },
  {
   "cell_type": "markdown",
   "id": "2a33e78e",
   "metadata": {},
   "source": [
    "# Data Loading"
   ]
  },
  {
   "cell_type": "code",
   "execution_count": 14,
   "id": "4b38a327",
   "metadata": {},
   "outputs": [],
   "source": [
    "# Loading only columns necessary for visualization.\n",
    "def csv_to_df(file):\n",
    "    return pd.read_csv(\n",
    "        file,\n",
    "        parse_dates=[\"time\"],\n",
    "        usecols=[\n",
    "            \"id\",\n",
    "            \"time\",\n",
    "            \"latitude\",\n",
    "            \"longitude\",\n",
    "            \"mag\",\n",
    "            \"magType\",\n",
    "            \"place\",\n",
    "            \"type\",\n",
    "            \"status\",\n",
    "            \"locationSource\"\n",
    "        ],\n",
    "        index_col=\"id\"\n",
    "    )"
   ]
  },
  {
   "cell_type": "code",
   "execution_count": 15,
   "id": "82687859",
   "metadata": {},
   "outputs": [],
   "source": [
    "jan = csv_to_df(\"datasets/january.csv\")\n",
    "feb = csv_to_df(\"datasets/february.csv\")\n",
    "mar = csv_to_df(\"datasets/march.csv\")"
   ]
  },
  {
   "cell_type": "code",
   "execution_count": 16,
   "id": "e336c5af",
   "metadata": {},
   "outputs": [
    {
     "data": {
      "text/plain": [
       "35919"
      ]
     },
     "execution_count": 16,
     "metadata": {},
     "output_type": "execute_result"
    }
   ],
   "source": [
    "sum(size for (size, _) in (jan.shape, feb.shape, mar.shape))"
   ]
  },
  {
   "cell_type": "code",
   "execution_count": 17,
   "id": "5b1896db",
   "metadata": {},
   "outputs": [],
   "source": [
    "earthquakes = pd.concat([jan, feb, mar])"
   ]
  },
  {
   "cell_type": "code",
   "execution_count": 18,
   "id": "53fee270",
   "metadata": {},
   "outputs": [
    {
     "data": {
      "text/plain": [
       "(35919, 9)"
      ]
     },
     "execution_count": 18,
     "metadata": {},
     "output_type": "execute_result"
    }
   ],
   "source": [
    "earthquakes.shape"
   ]
  },
  {
   "cell_type": "code",
   "execution_count": 19,
   "id": "9b4ab236",
   "metadata": {},
   "outputs": [
    {
     "name": "stdout",
     "output_type": "stream",
     "text": [
      "<class 'pandas.core.frame.DataFrame'>\n",
      "Index: 35919 entries, ok2022ccvb to uw61819426\n",
      "Data columns (total 9 columns):\n",
      " #   Column          Non-Null Count  Dtype              \n",
      "---  ------          --------------  -----              \n",
      " 0   time            35919 non-null  datetime64[ns, UTC]\n",
      " 1   latitude        35919 non-null  float64            \n",
      " 2   longitude       35919 non-null  float64            \n",
      " 3   mag             35916 non-null  float64            \n",
      " 4   magType         35916 non-null  object             \n",
      " 5   place           35784 non-null  object             \n",
      " 6   type            35919 non-null  object             \n",
      " 7   status          35919 non-null  object             \n",
      " 8   locationSource  35919 non-null  object             \n",
      "dtypes: datetime64[ns, UTC](1), float64(3), object(5)\n",
      "memory usage: 2.7+ MB\n"
     ]
    }
   ],
   "source": [
    "earthquakes.info()"
   ]
  },
  {
   "cell_type": "markdown",
   "id": "c6477f3e",
   "metadata": {},
   "source": [
    "# Data Wrangling"
   ]
  },
  {
   "cell_type": "code",
   "execution_count": 20,
   "id": "78ab1057",
   "metadata": {},
   "outputs": [
    {
     "data": {
      "text/plain": [
       "time              35914\n",
       "latitude          28270\n",
       "longitude         29491\n",
       "mag                 635\n",
       "magType              10\n",
       "place             16335\n",
       "type                  7\n",
       "status                2\n",
       "locationSource       15\n",
       "dtype: int64"
      ]
     },
     "execution_count": 20,
     "metadata": {},
     "output_type": "execute_result"
    }
   ],
   "source": [
    "earthquakes.nunique()"
   ]
  },
  {
   "cell_type": "code",
   "execution_count": 21,
   "id": "373cc38c",
   "metadata": {},
   "outputs": [
    {
     "data": {
      "text/plain": [
       "array(['ok', 'ak', 'nc', 'us', 'av', 'hv', 'pr', 'ci', 'uw', 'nm', 'nn',\n",
       "       'uu', 'tx', 'mb', 'se'], dtype=object)"
      ]
     },
     "execution_count": 21,
     "metadata": {},
     "output_type": "execute_result"
    }
   ],
   "source": [
    "earthquakes[\"locationSource\"].unique()"
   ]
  },
  {
   "cell_type": "code",
   "execution_count": 22,
   "id": "daf669e3",
   "metadata": {},
   "outputs": [
    {
     "data": {
      "text/plain": [
       "array(['reviewed', 'automatic'], dtype=object)"
      ]
     },
     "execution_count": 22,
     "metadata": {},
     "output_type": "execute_result"
    }
   ],
   "source": [
    "earthquakes[\"status\"].unique()"
   ]
  },
  {
   "cell_type": "code",
   "execution_count": 23,
   "id": "d25f21f0",
   "metadata": {},
   "outputs": [
    {
     "data": {
      "text/plain": [
       "array(['earthquake', 'ice quake', 'explosion', 'mining explosion',\n",
       "       'quarry blast', 'volcanic eruption', 'other event'], dtype=object)"
      ]
     },
     "execution_count": 23,
     "metadata": {},
     "output_type": "execute_result"
    }
   ],
   "source": [
    "earthquakes[\"type\"].unique()"
   ]
  },
  {
   "cell_type": "code",
   "execution_count": 24,
   "id": "789667b6",
   "metadata": {},
   "outputs": [
    {
     "data": {
      "text/plain": [
       "array(['ml', 'md', 'mb', 'mw', 'mww', 'mb_lg', 'mwr', 'mh', nan, 'ms_20',\n",
       "       'mwb'], dtype=object)"
      ]
     },
     "execution_count": 24,
     "metadata": {},
     "output_type": "execute_result"
    }
   ],
   "source": [
    "earthquakes[\"magType\"].unique()"
   ]
  },
  {
   "cell_type": "markdown",
   "id": "6c6bf431",
   "metadata": {},
   "source": [
    "## Converting values to appropriate data types"
   ]
  },
  {
   "cell_type": "code",
   "execution_count": 25,
   "id": "97781f0b",
   "metadata": {},
   "outputs": [],
   "source": [
    "earthquakes[\"status\"] = earthquakes[\"status\"].astype(\"category\")\n",
    "earthquakes[\"locationSource\"] = earthquakes[\"locationSource\"].astype(\"category\")\n",
    "earthquakes[\"type\"] = earthquakes[\"type\"].astype(\"category\")\n",
    "earthquakes[\"magType\"] = earthquakes[\"magType\"].astype(\"category\")"
   ]
  },
  {
   "cell_type": "markdown",
   "id": "44c1d175",
   "metadata": {},
   "source": [
    "## Checking for missing values"
   ]
  },
  {
   "cell_type": "code",
   "execution_count": 26,
   "id": "1d6b0da9",
   "metadata": {},
   "outputs": [
    {
     "data": {
      "text/plain": [
       "(35919, 9)"
      ]
     },
     "execution_count": 26,
     "metadata": {},
     "output_type": "execute_result"
    }
   ],
   "source": [
    "earthquakes.shape"
   ]
  },
  {
   "cell_type": "code",
   "execution_count": 27,
   "id": "d809df8a",
   "metadata": {},
   "outputs": [
    {
     "name": "stdout",
     "output_type": "stream",
     "text": [
      "<class 'pandas.core.frame.DataFrame'>\n",
      "Index: 35919 entries, ok2022ccvb to uw61819426\n",
      "Data columns (total 9 columns):\n",
      " #   Column          Non-Null Count  Dtype              \n",
      "---  ------          --------------  -----              \n",
      " 0   time            35919 non-null  datetime64[ns, UTC]\n",
      " 1   latitude        35919 non-null  float64            \n",
      " 2   longitude       35919 non-null  float64            \n",
      " 3   mag             35916 non-null  float64            \n",
      " 4   magType         35916 non-null  category           \n",
      " 5   place           35784 non-null  object             \n",
      " 6   type            35919 non-null  category           \n",
      " 7   status          35919 non-null  category           \n",
      " 8   locationSource  35919 non-null  category           \n",
      "dtypes: category(4), datetime64[ns, UTC](1), float64(3), object(1)\n",
      "memory usage: 1.8+ MB\n"
     ]
    }
   ],
   "source": [
    "earthquakes.info()"
   ]
  },
  {
   "cell_type": "code",
   "execution_count": 28,
   "id": "44ee23fb",
   "metadata": {},
   "outputs": [
    {
     "data": {
      "text/plain": [
       "time              2022-01-30 11:14:16.340000+00:00\n",
       "latitude                                   61.3634\n",
       "longitude                                 -149.574\n",
       "mag                                            1.2\n",
       "magType                                         ml\n",
       "place                                          NaN\n",
       "type                                    earthquake\n",
       "status                                    reviewed\n",
       "locationSource                                  ak\n",
       "Name: ak0221dsr7ph, dtype: object"
      ]
     },
     "execution_count": 28,
     "metadata": {},
     "output_type": "execute_result"
    }
   ],
   "source": [
    "earthquakes[earthquakes[\"place\"].isnull()].iloc[0]"
   ]
  },
  {
   "cell_type": "code",
   "execution_count": 29,
   "id": "5031dd35",
   "metadata": {},
   "outputs": [
    {
     "data": {
      "text/html": [
       "<div>\n",
       "<style scoped>\n",
       "    .dataframe tbody tr th:only-of-type {\n",
       "        vertical-align: middle;\n",
       "    }\n",
       "\n",
       "    .dataframe tbody tr th {\n",
       "        vertical-align: top;\n",
       "    }\n",
       "\n",
       "    .dataframe thead th {\n",
       "        text-align: right;\n",
       "    }\n",
       "</style>\n",
       "<table border=\"1\" class=\"dataframe\">\n",
       "  <thead>\n",
       "    <tr style=\"text-align: right;\">\n",
       "      <th></th>\n",
       "      <th>time</th>\n",
       "      <th>latitude</th>\n",
       "      <th>longitude</th>\n",
       "      <th>mag</th>\n",
       "      <th>magType</th>\n",
       "      <th>place</th>\n",
       "      <th>type</th>\n",
       "      <th>status</th>\n",
       "      <th>locationSource</th>\n",
       "    </tr>\n",
       "    <tr>\n",
       "      <th>id</th>\n",
       "      <th></th>\n",
       "      <th></th>\n",
       "      <th></th>\n",
       "      <th></th>\n",
       "      <th></th>\n",
       "      <th></th>\n",
       "      <th></th>\n",
       "      <th></th>\n",
       "      <th></th>\n",
       "    </tr>\n",
       "  </thead>\n",
       "  <tbody>\n",
       "    <tr>\n",
       "      <th>nc71127084</th>\n",
       "      <td>2022-01-18 14:50:55.480000+00:00</td>\n",
       "      <td>35.975333</td>\n",
       "      <td>-120.371000</td>\n",
       "      <td>NaN</td>\n",
       "      <td>NaN</td>\n",
       "      <td>10km NNE of Parkfield, CA</td>\n",
       "      <td>earthquake</td>\n",
       "      <td>reviewed</td>\n",
       "      <td>nc</td>\n",
       "    </tr>\n",
       "    <tr>\n",
       "      <th>nc73674341</th>\n",
       "      <td>2022-01-06 06:11:48.790000+00:00</td>\n",
       "      <td>38.798500</td>\n",
       "      <td>-122.701500</td>\n",
       "      <td>NaN</td>\n",
       "      <td>NaN</td>\n",
       "      <td>3km NNW of Anderson Springs, CA</td>\n",
       "      <td>earthquake</td>\n",
       "      <td>reviewed</td>\n",
       "      <td>nc</td>\n",
       "    </tr>\n",
       "    <tr>\n",
       "      <th>pr71336423</th>\n",
       "      <td>2022-02-21 21:01:10.020000+00:00</td>\n",
       "      <td>17.956500</td>\n",
       "      <td>-66.928167</td>\n",
       "      <td>NaN</td>\n",
       "      <td>NaN</td>\n",
       "      <td>2 km SW of Guánica, Puerto Rico</td>\n",
       "      <td>earthquake</td>\n",
       "      <td>reviewed</td>\n",
       "      <td>pr</td>\n",
       "    </tr>\n",
       "  </tbody>\n",
       "</table>\n",
       "</div>"
      ],
      "text/plain": [
       "                                       time   latitude   longitude  mag  \\\n",
       "id                                                                        \n",
       "nc71127084 2022-01-18 14:50:55.480000+00:00  35.975333 -120.371000  NaN   \n",
       "nc73674341 2022-01-06 06:11:48.790000+00:00  38.798500 -122.701500  NaN   \n",
       "pr71336423 2022-02-21 21:01:10.020000+00:00  17.956500  -66.928167  NaN   \n",
       "\n",
       "           magType                            place        type    status  \\\n",
       "id                                                                          \n",
       "nc71127084     NaN        10km NNE of Parkfield, CA  earthquake  reviewed   \n",
       "nc73674341     NaN  3km NNW of Anderson Springs, CA  earthquake  reviewed   \n",
       "pr71336423     NaN  2 km SW of Guánica, Puerto Rico  earthquake  reviewed   \n",
       "\n",
       "           locationSource  \n",
       "id                         \n",
       "nc71127084             nc  \n",
       "nc73674341             nc  \n",
       "pr71336423             pr  "
      ]
     },
     "execution_count": 29,
     "metadata": {},
     "output_type": "execute_result"
    }
   ],
   "source": [
    "earthquakes[earthquakes[\"mag\"].isnull()]"
   ]
  },
  {
   "cell_type": "markdown",
   "id": "b11ab16d",
   "metadata": {},
   "source": [
    "## Dropping earthquakes with no magnitudes for which no values could be found"
   ]
  },
  {
   "cell_type": "code",
   "execution_count": 30,
   "id": "edaddb3e",
   "metadata": {},
   "outputs": [],
   "source": [
    "earthquakes = earthquakes.dropna(subset=[\"mag\"])"
   ]
  },
  {
   "cell_type": "code",
   "execution_count": 31,
   "id": "e32403c9",
   "metadata": {},
   "outputs": [
    {
     "data": {
      "text/plain": [
       "(35916, 9)"
      ]
     },
     "execution_count": 31,
     "metadata": {},
     "output_type": "execute_result"
    }
   ],
   "source": [
    "earthquakes.shape"
   ]
  },
  {
   "cell_type": "markdown",
   "id": "9900df2a",
   "metadata": {},
   "source": [
    "## Extracting month from the `time` attribute"
   ]
  },
  {
   "cell_type": "code",
   "execution_count": 32,
   "id": "1278f647",
   "metadata": {},
   "outputs": [],
   "source": [
    "earthquakes[\"month\"] = earthquakes[\"time\"].dt.month_name()"
   ]
  },
  {
   "cell_type": "code",
   "execution_count": 33,
   "id": "d94f1d53",
   "metadata": {},
   "outputs": [
    {
     "data": {
      "text/plain": [
       "January     12421\n",
       "March       12313\n",
       "February    11182\n",
       "Name: month, dtype: int64"
      ]
     },
     "execution_count": 33,
     "metadata": {},
     "output_type": "execute_result"
    }
   ],
   "source": [
    "earthquakes[\"month\"].value_counts()"
   ]
  },
  {
   "cell_type": "markdown",
   "id": "d8942e92",
   "metadata": {},
   "source": [
    "## Extracting state from the `longitude` and `latitude` attributes"
   ]
  },
  {
   "cell_type": "code",
   "execution_count": 34,
   "id": "2de073d0",
   "metadata": {},
   "outputs": [],
   "source": [
    "states = earthquakes[\"place\"].str.split(\n",
    "    pat=\",\",\n",
    "    n=1,\n",
    ").str.get(-1)"
   ]
  },
  {
   "cell_type": "code",
   "execution_count": 35,
   "id": "dd6dbe8e",
   "metadata": {},
   "outputs": [
    {
     "data": {
      "text/plain": [
       "id\n",
       "ok2022ccvb            Oklahoma\n",
       "ak0221e05fgq    Central Alaska\n",
       "ak0221e051u3            Alaska\n",
       "ak0221e050xt            Alaska\n",
       "ak0221e04enn            Alaska\n",
       "                     ...      \n",
       "ak0222r8d3ze            Alaska\n",
       "nc73699171                  CA\n",
       "ak0222r8acmt            Alaska\n",
       "uu60483552                Utah\n",
       "uw61819426              Canada\n",
       "Name: place, Length: 35916, dtype: object"
      ]
     },
     "execution_count": 35,
     "metadata": {},
     "output_type": "execute_result"
    }
   ],
   "source": [
    "states"
   ]
  },
  {
   "cell_type": "code",
   "execution_count": 36,
   "id": "893eb104",
   "metadata": {},
   "outputs": [
    {
     "name": "stdout",
     "output_type": "stream",
     "text": [
      "<class 'pandas.core.series.Series'>\n",
      "Index: 35916 entries, ok2022ccvb to uw61819426\n",
      "Series name: place\n",
      "Non-Null Count  Dtype \n",
      "--------------  ----- \n",
      "35781 non-null  object\n",
      "dtypes: object(1)\n",
      "memory usage: 1.6+ MB\n"
     ]
    }
   ],
   "source": [
    "states.info()"
   ]
  },
  {
   "cell_type": "code",
   "execution_count": 44,
   "id": "a42d3575",
   "metadata": {},
   "outputs": [],
   "source": [
    "temp = earthquakes[earthquakes[\"place\"].isnull()]"
   ]
  },
  {
   "cell_type": "code",
   "execution_count": 45,
   "id": "83448451",
   "metadata": {},
   "outputs": [
    {
     "data": {
      "text/html": [
       "<div>\n",
       "<style scoped>\n",
       "    .dataframe tbody tr th:only-of-type {\n",
       "        vertical-align: middle;\n",
       "    }\n",
       "\n",
       "    .dataframe tbody tr th {\n",
       "        vertical-align: top;\n",
       "    }\n",
       "\n",
       "    .dataframe thead th {\n",
       "        text-align: right;\n",
       "    }\n",
       "</style>\n",
       "<table border=\"1\" class=\"dataframe\">\n",
       "  <thead>\n",
       "    <tr style=\"text-align: right;\">\n",
       "      <th></th>\n",
       "      <th>time</th>\n",
       "      <th>latitude</th>\n",
       "      <th>longitude</th>\n",
       "      <th>mag</th>\n",
       "      <th>magType</th>\n",
       "      <th>place</th>\n",
       "      <th>type</th>\n",
       "      <th>status</th>\n",
       "      <th>locationSource</th>\n",
       "      <th>month</th>\n",
       "    </tr>\n",
       "    <tr>\n",
       "      <th>id</th>\n",
       "      <th></th>\n",
       "      <th></th>\n",
       "      <th></th>\n",
       "      <th></th>\n",
       "      <th></th>\n",
       "      <th></th>\n",
       "      <th></th>\n",
       "      <th></th>\n",
       "      <th></th>\n",
       "      <th></th>\n",
       "    </tr>\n",
       "  </thead>\n",
       "  <tbody>\n",
       "    <tr>\n",
       "      <th>ak0221dsr7ph</th>\n",
       "      <td>2022-01-30 11:14:16.340000+00:00</td>\n",
       "      <td>61.363400</td>\n",
       "      <td>-149.574000</td>\n",
       "      <td>1.20</td>\n",
       "      <td>ml</td>\n",
       "      <td>NaN</td>\n",
       "      <td>earthquake</td>\n",
       "      <td>reviewed</td>\n",
       "      <td>ak</td>\n",
       "      <td>January</td>\n",
       "    </tr>\n",
       "    <tr>\n",
       "      <th>tx2022byde</th>\n",
       "      <td>2022-01-28 10:23:37.233000+00:00</td>\n",
       "      <td>31.707534</td>\n",
       "      <td>-103.995351</td>\n",
       "      <td>2.50</td>\n",
       "      <td>ml</td>\n",
       "      <td>NaN</td>\n",
       "      <td>earthquake</td>\n",
       "      <td>reviewed</td>\n",
       "      <td>tx</td>\n",
       "      <td>January</td>\n",
       "    </tr>\n",
       "    <tr>\n",
       "      <th>ak0221afcyv4</th>\n",
       "      <td>2022-01-28 07:24:33.861000+00:00</td>\n",
       "      <td>53.216700</td>\n",
       "      <td>-166.734500</td>\n",
       "      <td>1.70</td>\n",
       "      <td>ml</td>\n",
       "      <td>NaN</td>\n",
       "      <td>earthquake</td>\n",
       "      <td>reviewed</td>\n",
       "      <td>ak</td>\n",
       "      <td>January</td>\n",
       "    </tr>\n",
       "    <tr>\n",
       "      <th>ak022191gw7r</th>\n",
       "      <td>2022-01-27 23:44:58.569000+00:00</td>\n",
       "      <td>60.281600</td>\n",
       "      <td>-152.497100</td>\n",
       "      <td>1.90</td>\n",
       "      <td>ml</td>\n",
       "      <td>NaN</td>\n",
       "      <td>earthquake</td>\n",
       "      <td>reviewed</td>\n",
       "      <td>ak</td>\n",
       "      <td>January</td>\n",
       "    </tr>\n",
       "    <tr>\n",
       "      <th>ak02218o8kpq</th>\n",
       "      <td>2022-01-27 01:22:26.695000+00:00</td>\n",
       "      <td>61.327600</td>\n",
       "      <td>-150.872700</td>\n",
       "      <td>1.60</td>\n",
       "      <td>ml</td>\n",
       "      <td>NaN</td>\n",
       "      <td>earthquake</td>\n",
       "      <td>reviewed</td>\n",
       "      <td>ak</td>\n",
       "      <td>January</td>\n",
       "    </tr>\n",
       "    <tr>\n",
       "      <th>...</th>\n",
       "      <td>...</td>\n",
       "      <td>...</td>\n",
       "      <td>...</td>\n",
       "      <td>...</td>\n",
       "      <td>...</td>\n",
       "      <td>...</td>\n",
       "      <td>...</td>\n",
       "      <td>...</td>\n",
       "      <td>...</td>\n",
       "      <td>...</td>\n",
       "    </tr>\n",
       "    <tr>\n",
       "      <th>pr71338438</th>\n",
       "      <td>2022-03-02 03:49:23.630000+00:00</td>\n",
       "      <td>18.042667</td>\n",
       "      <td>-66.894167</td>\n",
       "      <td>1.51</td>\n",
       "      <td>md</td>\n",
       "      <td>NaN</td>\n",
       "      <td>earthquake</td>\n",
       "      <td>reviewed</td>\n",
       "      <td>pr</td>\n",
       "      <td>March</td>\n",
       "    </tr>\n",
       "    <tr>\n",
       "      <th>us6000h23r</th>\n",
       "      <td>2022-03-01 04:52:18.615000+00:00</td>\n",
       "      <td>-7.162000</td>\n",
       "      <td>156.382800</td>\n",
       "      <td>4.30</td>\n",
       "      <td>mb</td>\n",
       "      <td>NaN</td>\n",
       "      <td>earthquake</td>\n",
       "      <td>reviewed</td>\n",
       "      <td>us</td>\n",
       "      <td>March</td>\n",
       "    </tr>\n",
       "    <tr>\n",
       "      <th>ak0222rabwus</th>\n",
       "      <td>2022-03-01 03:50:34.211000+00:00</td>\n",
       "      <td>60.655000</td>\n",
       "      <td>-152.423100</td>\n",
       "      <td>1.10</td>\n",
       "      <td>ml</td>\n",
       "      <td>NaN</td>\n",
       "      <td>earthquake</td>\n",
       "      <td>reviewed</td>\n",
       "      <td>ak</td>\n",
       "      <td>March</td>\n",
       "    </tr>\n",
       "    <tr>\n",
       "      <th>us6000h23y</th>\n",
       "      <td>2022-03-01 03:37:44.437000+00:00</td>\n",
       "      <td>-2.067800</td>\n",
       "      <td>127.825500</td>\n",
       "      <td>4.40</td>\n",
       "      <td>mb</td>\n",
       "      <td>NaN</td>\n",
       "      <td>earthquake</td>\n",
       "      <td>reviewed</td>\n",
       "      <td>us</td>\n",
       "      <td>March</td>\n",
       "    </tr>\n",
       "    <tr>\n",
       "      <th>ak0222ra8w07</th>\n",
       "      <td>2022-03-01 03:36:22.903000+00:00</td>\n",
       "      <td>63.195100</td>\n",
       "      <td>-151.359400</td>\n",
       "      <td>1.60</td>\n",
       "      <td>ml</td>\n",
       "      <td>NaN</td>\n",
       "      <td>earthquake</td>\n",
       "      <td>reviewed</td>\n",
       "      <td>ak</td>\n",
       "      <td>March</td>\n",
       "    </tr>\n",
       "  </tbody>\n",
       "</table>\n",
       "<p>135 rows × 10 columns</p>\n",
       "</div>"
      ],
      "text/plain": [
       "                                         time   latitude   longitude   mag  \\\n",
       "id                                                                           \n",
       "ak0221dsr7ph 2022-01-30 11:14:16.340000+00:00  61.363400 -149.574000  1.20   \n",
       "tx2022byde   2022-01-28 10:23:37.233000+00:00  31.707534 -103.995351  2.50   \n",
       "ak0221afcyv4 2022-01-28 07:24:33.861000+00:00  53.216700 -166.734500  1.70   \n",
       "ak022191gw7r 2022-01-27 23:44:58.569000+00:00  60.281600 -152.497100  1.90   \n",
       "ak02218o8kpq 2022-01-27 01:22:26.695000+00:00  61.327600 -150.872700  1.60   \n",
       "...                                       ...        ...         ...   ...   \n",
       "pr71338438   2022-03-02 03:49:23.630000+00:00  18.042667  -66.894167  1.51   \n",
       "us6000h23r   2022-03-01 04:52:18.615000+00:00  -7.162000  156.382800  4.30   \n",
       "ak0222rabwus 2022-03-01 03:50:34.211000+00:00  60.655000 -152.423100  1.10   \n",
       "us6000h23y   2022-03-01 03:37:44.437000+00:00  -2.067800  127.825500  4.40   \n",
       "ak0222ra8w07 2022-03-01 03:36:22.903000+00:00  63.195100 -151.359400  1.60   \n",
       "\n",
       "             magType place        type    status locationSource    month  \n",
       "id                                                                        \n",
       "ak0221dsr7ph      ml   NaN  earthquake  reviewed             ak  January  \n",
       "tx2022byde        ml   NaN  earthquake  reviewed             tx  January  \n",
       "ak0221afcyv4      ml   NaN  earthquake  reviewed             ak  January  \n",
       "ak022191gw7r      ml   NaN  earthquake  reviewed             ak  January  \n",
       "ak02218o8kpq      ml   NaN  earthquake  reviewed             ak  January  \n",
       "...              ...   ...         ...       ...            ...      ...  \n",
       "pr71338438        md   NaN  earthquake  reviewed             pr    March  \n",
       "us6000h23r        mb   NaN  earthquake  reviewed             us    March  \n",
       "ak0222rabwus      ml   NaN  earthquake  reviewed             ak    March  \n",
       "us6000h23y        mb   NaN  earthquake  reviewed             us    March  \n",
       "ak0222ra8w07      ml   NaN  earthquake  reviewed             ak    March  \n",
       "\n",
       "[135 rows x 10 columns]"
      ]
     },
     "execution_count": 45,
     "metadata": {},
     "output_type": "execute_result"
    }
   ],
   "source": [
    "temp"
   ]
  },
  {
   "cell_type": "code",
   "execution_count": 46,
   "id": "c743695a",
   "metadata": {},
   "outputs": [],
   "source": [
    "import geocoder"
   ]
  },
  {
   "cell_type": "code",
   "execution_count": 47,
   "id": "5a6b1a20",
   "metadata": {},
   "outputs": [],
   "source": [
    "def get_state(df):\n",
    "    g = geocoder.osm([df[\"latitude\"], df[\"longitude\"]], method=\"reverse\")\n",
    "    if g.ok:\n",
    "        geojson = g.geojson\n",
    "        address = geojson[\"features\"][0][\"properties\"][\"raw\"][\"address\"]\n",
    "        return address.get(\"ISO3166-2-lvl4\")\n",
    "    return \"\""
   ]
  },
  {
   "cell_type": "code",
   "execution_count": 52,
   "id": "68596d5b",
   "metadata": {},
   "outputs": [],
   "source": [
    "res = temp[[\"latitude\", \"longitude\"]].apply(get_state, axis=1)"
   ]
  },
  {
   "cell_type": "code",
   "execution_count": 59,
   "id": "02a1f322",
   "metadata": {},
   "outputs": [
    {
     "data": {
      "text/plain": [
       "False    132\n",
       "True       3\n",
       "dtype: int64"
      ]
     },
     "execution_count": 59,
     "metadata": {},
     "output_type": "execute_result"
    }
   ],
   "source": [
    "res.isnull().value_counts()"
   ]
  },
  {
   "cell_type": "code",
   "execution_count": 1,
   "id": "bc178c81",
   "metadata": {},
   "outputs": [],
   "source": [
    "# We actually get a lot of the missing values. So it can be applied on the original dataframe."
   ]
  },
  {
   "cell_type": "code",
   "execution_count": 2,
   "id": "eb23865f",
   "metadata": {},
   "outputs": [],
   "source": [
    "import pandas as pd"
   ]
  },
  {
   "cell_type": "code",
   "execution_count": 85,
   "id": "6f0ee7cc",
   "metadata": {},
   "outputs": [],
   "source": [
    "def csv_to_df(file):\n",
    "    return pd.read_csv(\n",
    "        file,\n",
    "        parse_dates=[\"time\"],\n",
    "        usecols=[\n",
    "            \"id\",\n",
    "            \"time\",\n",
    "            \"latitude\",\n",
    "            \"longitude\",\n",
    "            \"mag\",\n",
    "            \"magType\",\n",
    "            \"place\",\n",
    "            \"type\",\n",
    "            \"status\",\n",
    "            \"locationSource\",\n",
    "            \"state\",\n",
    "        ],\n",
    "        index_col=\"id\"\n",
    "    )"
   ]
  },
  {
   "cell_type": "code",
   "execution_count": 86,
   "id": "7e1f54f5",
   "metadata": {},
   "outputs": [],
   "source": [
    "jan = csv_to_df(\"datasets/jan-enriched.csv\")\n",
    "feb = csv_to_df(\"datasets/feb-enriched.csv\")\n",
    "mar = csv_to_df(\"datasets/mar-enriched.csv\")"
   ]
  },
  {
   "cell_type": "code",
   "execution_count": 87,
   "id": "4e3366b8",
   "metadata": {},
   "outputs": [
    {
     "data": {
      "text/plain": [
       "35919"
      ]
     },
     "execution_count": 87,
     "metadata": {},
     "output_type": "execute_result"
    }
   ],
   "source": [
    "sum(size for (size, _) in (jan.shape, feb.shape, mar.shape))"
   ]
  },
  {
   "cell_type": "code",
   "execution_count": 88,
   "id": "c45fa56f",
   "metadata": {},
   "outputs": [],
   "source": [
    "earthquakes = pd.concat([jan, feb, mar])"
   ]
  },
  {
   "cell_type": "code",
   "execution_count": 89,
   "id": "959c28bd",
   "metadata": {},
   "outputs": [
    {
     "data": {
      "text/plain": [
       "False    31088\n",
       "True       287\n",
       "Name: state, dtype: int64"
      ]
     },
     "execution_count": 89,
     "metadata": {},
     "output_type": "execute_result"
    }
   ],
   "source": [
    "earthquakes[\"state\"].str.startswith(\"CA\").value_counts()"
   ]
  },
  {
   "cell_type": "code",
   "execution_count": 90,
   "id": "cfb98c6e",
   "metadata": {},
   "outputs": [],
   "source": [
    "# Dropping Canadian states\n",
    "earthquakes = earthquakes[~earthquakes[\"state\"].str.startswith(\"CA\", na=False)]"
   ]
  },
  {
   "cell_type": "code",
   "execution_count": 91,
   "id": "ca305085",
   "metadata": {},
   "outputs": [
    {
     "data": {
      "text/plain": [
       "(35632, 10)"
      ]
     },
     "execution_count": 91,
     "metadata": {},
     "output_type": "execute_result"
    }
   ],
   "source": [
    "earthquakes.shape"
   ]
  },
  {
   "cell_type": "code",
   "execution_count": 92,
   "id": "56dd0294",
   "metadata": {},
   "outputs": [
    {
     "data": {
      "text/plain": [
       "(4544, 10)"
      ]
     },
     "execution_count": 92,
     "metadata": {},
     "output_type": "execute_result"
    }
   ],
   "source": [
    "earthquakes[earthquakes[\"state\"].isnull()].shape"
   ]
  },
  {
   "cell_type": "code",
   "execution_count": 93,
   "id": "acb0c461",
   "metadata": {},
   "outputs": [
    {
     "data": {
      "text/plain": [
       "(31088, 10)"
      ]
     },
     "execution_count": 93,
     "metadata": {},
     "output_type": "execute_result"
    }
   ],
   "source": [
    "earthquakes.dropna(subset=[\"state\"]).shape"
   ]
  },
  {
   "cell_type": "code",
   "execution_count": 94,
   "id": "0da76700",
   "metadata": {},
   "outputs": [
    {
     "data": {
      "text/plain": [
       "31088"
      ]
     },
     "execution_count": 94,
     "metadata": {},
     "output_type": "execute_result"
    }
   ],
   "source": [
    "35632 - 4544"
   ]
  },
  {
   "cell_type": "code",
   "execution_count": 95,
   "id": "4e1bc689",
   "metadata": {},
   "outputs": [],
   "source": [
    "# Dropping the islands stuff\n",
    "earthquakes = earthquakes.dropna(subset=[\"state\"])"
   ]
  },
  {
   "cell_type": "code",
   "execution_count": 98,
   "id": "b8ab0b72",
   "metadata": {},
   "outputs": [
    {
     "data": {
      "text/html": [
       "<div>\n",
       "<style scoped>\n",
       "    .dataframe tbody tr th:only-of-type {\n",
       "        vertical-align: middle;\n",
       "    }\n",
       "\n",
       "    .dataframe tbody tr th {\n",
       "        vertical-align: top;\n",
       "    }\n",
       "\n",
       "    .dataframe thead th {\n",
       "        text-align: right;\n",
       "    }\n",
       "</style>\n",
       "<table border=\"1\" class=\"dataframe\">\n",
       "  <thead>\n",
       "    <tr style=\"text-align: right;\">\n",
       "      <th></th>\n",
       "      <th>time</th>\n",
       "      <th>latitude</th>\n",
       "      <th>longitude</th>\n",
       "      <th>mag</th>\n",
       "      <th>magType</th>\n",
       "      <th>place</th>\n",
       "      <th>type</th>\n",
       "      <th>status</th>\n",
       "      <th>locationSource</th>\n",
       "      <th>state</th>\n",
       "    </tr>\n",
       "    <tr>\n",
       "      <th>id</th>\n",
       "      <th></th>\n",
       "      <th></th>\n",
       "      <th></th>\n",
       "      <th></th>\n",
       "      <th></th>\n",
       "      <th></th>\n",
       "      <th></th>\n",
       "      <th></th>\n",
       "      <th></th>\n",
       "      <th></th>\n",
       "    </tr>\n",
       "  </thead>\n",
       "  <tbody>\n",
       "    <tr>\n",
       "      <th>ok2022ccvb</th>\n",
       "      <td>2022-01-30 23:58:39.500000+00:00</td>\n",
       "      <td>34.879167</td>\n",
       "      <td>-97.8520</td>\n",
       "      <td>0.99</td>\n",
       "      <td>ml</td>\n",
       "      <td>7 km WSW of Alex, Oklahoma</td>\n",
       "      <td>earthquake</td>\n",
       "      <td>reviewed</td>\n",
       "      <td>ok</td>\n",
       "      <td>US-OK</td>\n",
       "    </tr>\n",
       "    <tr>\n",
       "      <th>ak0221e05fgq</th>\n",
       "      <td>2022-01-30 23:56:19.237000+00:00</td>\n",
       "      <td>62.910000</td>\n",
       "      <td>-151.1774</td>\n",
       "      <td>1.40</td>\n",
       "      <td>ml</td>\n",
       "      <td>Central Alaska</td>\n",
       "      <td>earthquake</td>\n",
       "      <td>reviewed</td>\n",
       "      <td>ak</td>\n",
       "      <td>US-AK</td>\n",
       "    </tr>\n",
       "    <tr>\n",
       "      <th>ak0221e051u3</th>\n",
       "      <td>2022-01-30 23:54:44.477000+00:00</td>\n",
       "      <td>63.304800</td>\n",
       "      <td>-151.2721</td>\n",
       "      <td>1.10</td>\n",
       "      <td>ml</td>\n",
       "      <td>34 km SE of Denali National Park, Alaska</td>\n",
       "      <td>earthquake</td>\n",
       "      <td>reviewed</td>\n",
       "      <td>ak</td>\n",
       "      <td>US-AK</td>\n",
       "    </tr>\n",
       "    <tr>\n",
       "      <th>ak0221e050xt</th>\n",
       "      <td>2022-01-30 23:54:32.973000+00:00</td>\n",
       "      <td>51.557800</td>\n",
       "      <td>-176.6738</td>\n",
       "      <td>1.80</td>\n",
       "      <td>ml</td>\n",
       "      <td>35 km S of Adak, Alaska</td>\n",
       "      <td>earthquake</td>\n",
       "      <td>reviewed</td>\n",
       "      <td>ak</td>\n",
       "      <td>US-AK</td>\n",
       "    </tr>\n",
       "    <tr>\n",
       "      <th>ak0221e04enn</th>\n",
       "      <td>2022-01-30 23:51:44.207000+00:00</td>\n",
       "      <td>63.291700</td>\n",
       "      <td>-151.3217</td>\n",
       "      <td>1.10</td>\n",
       "      <td>ml</td>\n",
       "      <td>34 km SE of Denali National Park, Alaska</td>\n",
       "      <td>earthquake</td>\n",
       "      <td>reviewed</td>\n",
       "      <td>ak</td>\n",
       "      <td>US-AK</td>\n",
       "    </tr>\n",
       "  </tbody>\n",
       "</table>\n",
       "</div>"
      ],
      "text/plain": [
       "                                         time   latitude  longitude   mag  \\\n",
       "id                                                                          \n",
       "ok2022ccvb   2022-01-30 23:58:39.500000+00:00  34.879167   -97.8520  0.99   \n",
       "ak0221e05fgq 2022-01-30 23:56:19.237000+00:00  62.910000  -151.1774  1.40   \n",
       "ak0221e051u3 2022-01-30 23:54:44.477000+00:00  63.304800  -151.2721  1.10   \n",
       "ak0221e050xt 2022-01-30 23:54:32.973000+00:00  51.557800  -176.6738  1.80   \n",
       "ak0221e04enn 2022-01-30 23:51:44.207000+00:00  63.291700  -151.3217  1.10   \n",
       "\n",
       "             magType                                     place        type  \\\n",
       "id                                                                           \n",
       "ok2022ccvb        ml                7 km WSW of Alex, Oklahoma  earthquake   \n",
       "ak0221e05fgq      ml                            Central Alaska  earthquake   \n",
       "ak0221e051u3      ml  34 km SE of Denali National Park, Alaska  earthquake   \n",
       "ak0221e050xt      ml                   35 km S of Adak, Alaska  earthquake   \n",
       "ak0221e04enn      ml  34 km SE of Denali National Park, Alaska  earthquake   \n",
       "\n",
       "                status locationSource  state  \n",
       "id                                            \n",
       "ok2022ccvb    reviewed             ok  US-OK  \n",
       "ak0221e05fgq  reviewed             ak  US-AK  \n",
       "ak0221e051u3  reviewed             ak  US-AK  \n",
       "ak0221e050xt  reviewed             ak  US-AK  \n",
       "ak0221e04enn  reviewed             ak  US-AK  "
      ]
     },
     "execution_count": 98,
     "metadata": {},
     "output_type": "execute_result"
    }
   ],
   "source": [
    "earthquakes.head()"
   ]
  },
  {
   "cell_type": "code",
   "execution_count": 99,
   "id": "8f73ee5e",
   "metadata": {},
   "outputs": [
    {
     "name": "stdout",
     "output_type": "stream",
     "text": [
      "<class 'pandas.core.frame.DataFrame'>\n",
      "Index: 31088 entries, ok2022ccvb to uu60483552\n",
      "Data columns (total 10 columns):\n",
      " #   Column          Non-Null Count  Dtype              \n",
      "---  ------          --------------  -----              \n",
      " 0   time            31088 non-null  datetime64[ns, UTC]\n",
      " 1   latitude        31088 non-null  float64            \n",
      " 2   longitude       31088 non-null  float64            \n",
      " 3   mag             31085 non-null  float64            \n",
      " 4   magType         31085 non-null  object             \n",
      " 5   place           31003 non-null  object             \n",
      " 6   type            31088 non-null  object             \n",
      " 7   status          31088 non-null  object             \n",
      " 8   locationSource  31088 non-null  object             \n",
      " 9   state           31088 non-null  object             \n",
      "dtypes: datetime64[ns, UTC](1), float64(3), object(6)\n",
      "memory usage: 2.6+ MB\n"
     ]
    }
   ],
   "source": [
    "earthquakes.info()"
   ]
  },
  {
   "cell_type": "code",
   "execution_count": 100,
   "id": "c0162da9",
   "metadata": {},
   "outputs": [
    {
     "data": {
      "text/html": [
       "<div>\n",
       "<style scoped>\n",
       "    .dataframe tbody tr th:only-of-type {\n",
       "        vertical-align: middle;\n",
       "    }\n",
       "\n",
       "    .dataframe tbody tr th {\n",
       "        vertical-align: top;\n",
       "    }\n",
       "\n",
       "    .dataframe thead th {\n",
       "        text-align: right;\n",
       "    }\n",
       "</style>\n",
       "<table border=\"1\" class=\"dataframe\">\n",
       "  <thead>\n",
       "    <tr style=\"text-align: right;\">\n",
       "      <th></th>\n",
       "      <th>time</th>\n",
       "      <th>latitude</th>\n",
       "      <th>longitude</th>\n",
       "      <th>mag</th>\n",
       "      <th>magType</th>\n",
       "      <th>place</th>\n",
       "      <th>type</th>\n",
       "      <th>status</th>\n",
       "      <th>locationSource</th>\n",
       "      <th>state</th>\n",
       "    </tr>\n",
       "    <tr>\n",
       "      <th>id</th>\n",
       "      <th></th>\n",
       "      <th></th>\n",
       "      <th></th>\n",
       "      <th></th>\n",
       "      <th></th>\n",
       "      <th></th>\n",
       "      <th></th>\n",
       "      <th></th>\n",
       "      <th></th>\n",
       "      <th></th>\n",
       "    </tr>\n",
       "  </thead>\n",
       "  <tbody>\n",
       "    <tr>\n",
       "      <th>nc71127084</th>\n",
       "      <td>2022-01-18 14:50:55.480000+00:00</td>\n",
       "      <td>35.975333</td>\n",
       "      <td>-120.371000</td>\n",
       "      <td>NaN</td>\n",
       "      <td>NaN</td>\n",
       "      <td>10km NNE of Parkfield, CA</td>\n",
       "      <td>earthquake</td>\n",
       "      <td>reviewed</td>\n",
       "      <td>nc</td>\n",
       "      <td>US-CA</td>\n",
       "    </tr>\n",
       "    <tr>\n",
       "      <th>nc73674341</th>\n",
       "      <td>2022-01-06 06:11:48.790000+00:00</td>\n",
       "      <td>38.798500</td>\n",
       "      <td>-122.701500</td>\n",
       "      <td>NaN</td>\n",
       "      <td>NaN</td>\n",
       "      <td>3km NNW of Anderson Springs, CA</td>\n",
       "      <td>earthquake</td>\n",
       "      <td>reviewed</td>\n",
       "      <td>nc</td>\n",
       "      <td>US-CA</td>\n",
       "    </tr>\n",
       "    <tr>\n",
       "      <th>pr71336423</th>\n",
       "      <td>2022-02-21 21:01:10.020000+00:00</td>\n",
       "      <td>17.956500</td>\n",
       "      <td>-66.928167</td>\n",
       "      <td>NaN</td>\n",
       "      <td>NaN</td>\n",
       "      <td>2 km SW of Guánica, Puerto Rico</td>\n",
       "      <td>earthquake</td>\n",
       "      <td>reviewed</td>\n",
       "      <td>pr</td>\n",
       "      <td>US-PR</td>\n",
       "    </tr>\n",
       "  </tbody>\n",
       "</table>\n",
       "</div>"
      ],
      "text/plain": [
       "                                       time   latitude   longitude  mag  \\\n",
       "id                                                                        \n",
       "nc71127084 2022-01-18 14:50:55.480000+00:00  35.975333 -120.371000  NaN   \n",
       "nc73674341 2022-01-06 06:11:48.790000+00:00  38.798500 -122.701500  NaN   \n",
       "pr71336423 2022-02-21 21:01:10.020000+00:00  17.956500  -66.928167  NaN   \n",
       "\n",
       "           magType                            place        type    status  \\\n",
       "id                                                                          \n",
       "nc71127084     NaN        10km NNE of Parkfield, CA  earthquake  reviewed   \n",
       "nc73674341     NaN  3km NNW of Anderson Springs, CA  earthquake  reviewed   \n",
       "pr71336423     NaN  2 km SW of Guánica, Puerto Rico  earthquake  reviewed   \n",
       "\n",
       "           locationSource  state  \n",
       "id                                \n",
       "nc71127084             nc  US-CA  \n",
       "nc73674341             nc  US-CA  \n",
       "pr71336423             pr  US-PR  "
      ]
     },
     "execution_count": 100,
     "metadata": {},
     "output_type": "execute_result"
    }
   ],
   "source": [
    "earthquakes[earthquakes[\"mag\"].isnull()]"
   ]
  },
  {
   "cell_type": "code",
   "execution_count": 101,
   "id": "9e424b5f",
   "metadata": {},
   "outputs": [],
   "source": [
    "earthquakes = earthquakes.dropna(subset=[\"mag\"])"
   ]
  },
  {
   "cell_type": "code",
   "execution_count": 102,
   "id": "8697e637",
   "metadata": {},
   "outputs": [
    {
     "name": "stdout",
     "output_type": "stream",
     "text": [
      "<class 'pandas.core.frame.DataFrame'>\n",
      "Index: 31085 entries, ok2022ccvb to uu60483552\n",
      "Data columns (total 10 columns):\n",
      " #   Column          Non-Null Count  Dtype              \n",
      "---  ------          --------------  -----              \n",
      " 0   time            31085 non-null  datetime64[ns, UTC]\n",
      " 1   latitude        31085 non-null  float64            \n",
      " 2   longitude       31085 non-null  float64            \n",
      " 3   mag             31085 non-null  float64            \n",
      " 4   magType         31085 non-null  object             \n",
      " 5   place           31000 non-null  object             \n",
      " 6   type            31085 non-null  object             \n",
      " 7   status          31085 non-null  object             \n",
      " 8   locationSource  31085 non-null  object             \n",
      " 9   state           31085 non-null  object             \n",
      "dtypes: datetime64[ns, UTC](1), float64(3), object(6)\n",
      "memory usage: 2.6+ MB\n"
     ]
    }
   ],
   "source": [
    "earthquakes.info()"
   ]
  },
  {
   "cell_type": "code",
   "execution_count": 105,
   "id": "afe7df58",
   "metadata": {},
   "outputs": [],
   "source": [
    "earthquakes = earthquakes.assign(\n",
    "    state_code=earthquakes[\"state\"].str.split(\"-\").str.get(-1).str.strip(),\n",
    "    month=earthquakes[\"time\"].dt.month_name() \n",
    ")"
   ]
  },
  {
   "cell_type": "code",
   "execution_count": 106,
   "id": "90f15687",
   "metadata": {},
   "outputs": [
    {
     "data": {
      "text/html": [
       "<div>\n",
       "<style scoped>\n",
       "    .dataframe tbody tr th:only-of-type {\n",
       "        vertical-align: middle;\n",
       "    }\n",
       "\n",
       "    .dataframe tbody tr th {\n",
       "        vertical-align: top;\n",
       "    }\n",
       "\n",
       "    .dataframe thead th {\n",
       "        text-align: right;\n",
       "    }\n",
       "</style>\n",
       "<table border=\"1\" class=\"dataframe\">\n",
       "  <thead>\n",
       "    <tr style=\"text-align: right;\">\n",
       "      <th></th>\n",
       "      <th>time</th>\n",
       "      <th>latitude</th>\n",
       "      <th>longitude</th>\n",
       "      <th>mag</th>\n",
       "      <th>magType</th>\n",
       "      <th>place</th>\n",
       "      <th>type</th>\n",
       "      <th>status</th>\n",
       "      <th>locationSource</th>\n",
       "      <th>state</th>\n",
       "      <th>state_code</th>\n",
       "      <th>month</th>\n",
       "    </tr>\n",
       "    <tr>\n",
       "      <th>id</th>\n",
       "      <th></th>\n",
       "      <th></th>\n",
       "      <th></th>\n",
       "      <th></th>\n",
       "      <th></th>\n",
       "      <th></th>\n",
       "      <th></th>\n",
       "      <th></th>\n",
       "      <th></th>\n",
       "      <th></th>\n",
       "      <th></th>\n",
       "      <th></th>\n",
       "    </tr>\n",
       "  </thead>\n",
       "  <tbody>\n",
       "    <tr>\n",
       "      <th>ok2022ccvb</th>\n",
       "      <td>2022-01-30 23:58:39.500000+00:00</td>\n",
       "      <td>34.879167</td>\n",
       "      <td>-97.8520</td>\n",
       "      <td>0.99</td>\n",
       "      <td>ml</td>\n",
       "      <td>7 km WSW of Alex, Oklahoma</td>\n",
       "      <td>earthquake</td>\n",
       "      <td>reviewed</td>\n",
       "      <td>ok</td>\n",
       "      <td>US-OK</td>\n",
       "      <td>OK</td>\n",
       "      <td>January</td>\n",
       "    </tr>\n",
       "    <tr>\n",
       "      <th>ak0221e05fgq</th>\n",
       "      <td>2022-01-30 23:56:19.237000+00:00</td>\n",
       "      <td>62.910000</td>\n",
       "      <td>-151.1774</td>\n",
       "      <td>1.40</td>\n",
       "      <td>ml</td>\n",
       "      <td>Central Alaska</td>\n",
       "      <td>earthquake</td>\n",
       "      <td>reviewed</td>\n",
       "      <td>ak</td>\n",
       "      <td>US-AK</td>\n",
       "      <td>AK</td>\n",
       "      <td>January</td>\n",
       "    </tr>\n",
       "    <tr>\n",
       "      <th>ak0221e051u3</th>\n",
       "      <td>2022-01-30 23:54:44.477000+00:00</td>\n",
       "      <td>63.304800</td>\n",
       "      <td>-151.2721</td>\n",
       "      <td>1.10</td>\n",
       "      <td>ml</td>\n",
       "      <td>34 km SE of Denali National Park, Alaska</td>\n",
       "      <td>earthquake</td>\n",
       "      <td>reviewed</td>\n",
       "      <td>ak</td>\n",
       "      <td>US-AK</td>\n",
       "      <td>AK</td>\n",
       "      <td>January</td>\n",
       "    </tr>\n",
       "    <tr>\n",
       "      <th>ak0221e050xt</th>\n",
       "      <td>2022-01-30 23:54:32.973000+00:00</td>\n",
       "      <td>51.557800</td>\n",
       "      <td>-176.6738</td>\n",
       "      <td>1.80</td>\n",
       "      <td>ml</td>\n",
       "      <td>35 km S of Adak, Alaska</td>\n",
       "      <td>earthquake</td>\n",
       "      <td>reviewed</td>\n",
       "      <td>ak</td>\n",
       "      <td>US-AK</td>\n",
       "      <td>AK</td>\n",
       "      <td>January</td>\n",
       "    </tr>\n",
       "    <tr>\n",
       "      <th>ak0221e04enn</th>\n",
       "      <td>2022-01-30 23:51:44.207000+00:00</td>\n",
       "      <td>63.291700</td>\n",
       "      <td>-151.3217</td>\n",
       "      <td>1.10</td>\n",
       "      <td>ml</td>\n",
       "      <td>34 km SE of Denali National Park, Alaska</td>\n",
       "      <td>earthquake</td>\n",
       "      <td>reviewed</td>\n",
       "      <td>ak</td>\n",
       "      <td>US-AK</td>\n",
       "      <td>AK</td>\n",
       "      <td>January</td>\n",
       "    </tr>\n",
       "  </tbody>\n",
       "</table>\n",
       "</div>"
      ],
      "text/plain": [
       "                                         time   latitude  longitude   mag  \\\n",
       "id                                                                          \n",
       "ok2022ccvb   2022-01-30 23:58:39.500000+00:00  34.879167   -97.8520  0.99   \n",
       "ak0221e05fgq 2022-01-30 23:56:19.237000+00:00  62.910000  -151.1774  1.40   \n",
       "ak0221e051u3 2022-01-30 23:54:44.477000+00:00  63.304800  -151.2721  1.10   \n",
       "ak0221e050xt 2022-01-30 23:54:32.973000+00:00  51.557800  -176.6738  1.80   \n",
       "ak0221e04enn 2022-01-30 23:51:44.207000+00:00  63.291700  -151.3217  1.10   \n",
       "\n",
       "             magType                                     place        type  \\\n",
       "id                                                                           \n",
       "ok2022ccvb        ml                7 km WSW of Alex, Oklahoma  earthquake   \n",
       "ak0221e05fgq      ml                            Central Alaska  earthquake   \n",
       "ak0221e051u3      ml  34 km SE of Denali National Park, Alaska  earthquake   \n",
       "ak0221e050xt      ml                   35 km S of Adak, Alaska  earthquake   \n",
       "ak0221e04enn      ml  34 km SE of Denali National Park, Alaska  earthquake   \n",
       "\n",
       "                status locationSource  state state_code    month  \n",
       "id                                                                \n",
       "ok2022ccvb    reviewed             ok  US-OK         OK  January  \n",
       "ak0221e05fgq  reviewed             ak  US-AK         AK  January  \n",
       "ak0221e051u3  reviewed             ak  US-AK         AK  January  \n",
       "ak0221e050xt  reviewed             ak  US-AK         AK  January  \n",
       "ak0221e04enn  reviewed             ak  US-AK         AK  January  "
      ]
     },
     "execution_count": 106,
     "metadata": {},
     "output_type": "execute_result"
    }
   ],
   "source": [
    "earthquakes.head()"
   ]
  },
  {
   "cell_type": "code",
   "execution_count": 109,
   "id": "aff5431e",
   "metadata": {},
   "outputs": [
    {
     "name": "stdout",
     "output_type": "stream",
     "text": [
      "<class 'pandas.core.frame.DataFrame'>\n",
      "Index: 31085 entries, ok2022ccvb to uu60483552\n",
      "Data columns (total 12 columns):\n",
      " #   Column          Non-Null Count  Dtype              \n",
      "---  ------          --------------  -----              \n",
      " 0   time            31085 non-null  datetime64[ns, UTC]\n",
      " 1   latitude        31085 non-null  float64            \n",
      " 2   longitude       31085 non-null  float64            \n",
      " 3   mag             31085 non-null  float64            \n",
      " 4   magType         31085 non-null  object             \n",
      " 5   place           31000 non-null  object             \n",
      " 6   type            31085 non-null  object             \n",
      " 7   status          31085 non-null  object             \n",
      " 8   locationSource  31085 non-null  object             \n",
      " 9   state           31085 non-null  object             \n",
      " 10  state_code      31085 non-null  object             \n",
      " 11  month           31085 non-null  object             \n",
      "dtypes: datetime64[ns, UTC](1), float64(3), object(8)\n",
      "memory usage: 3.1+ MB\n"
     ]
    }
   ],
   "source": [
    "earthquakes.info()"
   ]
  },
  {
   "cell_type": "code",
   "execution_count": 111,
   "id": "79a82eda",
   "metadata": {},
   "outputs": [
    {
     "data": {
      "text/plain": [
       "time              31080\n",
       "latitude          23616\n",
       "longitude         24759\n",
       "mag                 600\n",
       "magType               9\n",
       "place             13593\n",
       "type                  7\n",
       "status                2\n",
       "locationSource       15\n",
       "state               341\n",
       "state_code          272\n",
       "month                 3\n",
       "dtype: int64"
      ]
     },
     "execution_count": 111,
     "metadata": {},
     "output_type": "execute_result"
    }
   ],
   "source": [
    "earthquakes.nunique()"
   ]
  },
  {
   "cell_type": "code",
   "execution_count": 114,
   "id": "12ef8bf9",
   "metadata": {},
   "outputs": [
    {
     "data": {
      "text/plain": [
       "array(['US-OK', 'US-AK', 'US-CA', 'IR-18', 'ID-MA', 'US-HI', 'US-PR',\n",
       "       'US-WA', 'US-MO', 'US-NV', 'ID-SN', 'US-UT', 'ID-NT', 'PG-WPD',\n",
       "       'US-ID', 'US-TX', 'AR-A', 'US-WY', 'FJ-E', 'CL-AT', 'PG-ESW',\n",
       "       'ID-SA', 'AF-BDS', 'VU-PAM', 'ID-AC', 'JP-26', 'DO-10', 'PG-EBR',\n",
       "       'ID-MU', 'US-MT', 'US-TN', 'US-KS', 'JP-02', 'PE-UCA', 'TO-02',\n",
       "       'PE-HUC', 'ID-PA', 'BO-P', 'HT-NI', 'MX-CHP', 'AR-K', 'PK-GB',\n",
       "       'US-OH', 'CN-SC', 'CL-RM', 'ID-BE', 'US-OR', 'SB-TE', 'US-MN',\n",
       "       'AF-TAK', 'CL-AP', 'RU-SAK', 'JP-23', 'MX-BCN', 'CL-AN', 'MX-JAL',\n",
       "       'JP-04', 'CL-TA', 'US-SC', 'PG-MPL', 'PG-WBK', 'CN-XJ', 'US-CT',\n",
       "       'JP-30', 'CR-A', 'US-CO', 'GL-KU', 'PG-NIK', 'AR-M', 'JP-08',\n",
       "       'PE-ICA', 'CN-QH', 'PH-BTG', 'DO-14', 'CO-SAN', 'CD-TA', 'AR-J',\n",
       "       'US-NM', 'HT-OU', 'TW-ILA', 'PG-MRL', 'PH-AKL', 'TO-03', 'CN-XZ',\n",
       "       'TJ-RA', 'AU-WA', 'ID-NB', 'IN-UT', 'PE-ARE', 'US-MP', 'ID-JI',\n",
       "       'MA-03', 'DO-11', 'IR-03', 'AF-BGL', 'PE-PUN', 'NZ-STL', 'MM-11',\n",
       "       'TO-04', 'HT-NO', 'IL-Z', 'JP-15', 'IR-22', 'VU-TAE', 'PH-CAV',\n",
       "       'TR-10', 'PG-MPM', 'MM-01', 'AR-Y', 'JP-44', 'JP-01', 'RU-KAM',\n",
       "       'IN-JK', 'PH-DAO', 'GT-JU', 'ID-JA', 'JP-16', 'US-AR', 'MM-14',\n",
       "       'MX-GRO', 'US-GA', 'NZ-BOP', 'PE-PAS', 'CN-LN', 'IR-10', 'ID-GO',\n",
       "       'VU-SAM', 'PG-SAN', 'VU-SEE', 'ID-SG', 'VE-R', 'AF-BAL', 'IR-17',\n",
       "       'ID-SB', 'CO-CAS', 'EC-F', 'US-AZ', 'PE-TAC', 'ZA-GP', 'IN-MN',\n",
       "       'PK-PB', 'TR-38', 'US-ME', 'VU-MAP', 'ID-PB', 'MN-065', 'AF-BDG',\n",
       "       'RU-CHU', 'VU-TOB', 'ID-BT', 'MX-OAX', 'US-SD', 'JP-46', 'PH-IFU',\n",
       "       'RO-VN', 'SB-MK', 'US-NH', 'IR-08', 'IR-04', 'CN-YN', 'PH-DVO',\n",
       "       'RU-BU', 'CR-P', 'JP-12', 'PL-02', 'JP-20', 'NZ-TKI', 'US-VI',\n",
       "       'PK-BA', 'US-NY', 'IQ-SU', 'CL-CO', 'ID-ST', 'PG-NPP', 'PH-MAS',\n",
       "       'NI-LE', 'TJ-GB', 'PH-BTN', 'TW-TXG', 'ID-JT', 'CN-GS', 'PE-LIM',\n",
       "       'BT-14', 'JP-28', 'ZA-NC', 'PH-CAG', 'IR-05', 'TO-05', 'CL-ML',\n",
       "       'IN-AN', 'PG-NSB', 'AR-F', 'CL-VS', 'TZ-23', 'PE-PIU', 'US-MA',\n",
       "       'GT-SM', 'BO-S', 'RU-SA', 'TL-AN', 'CL-LI', 'SB-WE', 'JP-07',\n",
       "       'NZ-HKB', 'IN-HP', 'SS-EE', 'TR-19', 'GT-ES', 'PH-SUR', 'CO-BOL',\n",
       "       'JP-03', 'TL-BO', 'GB-ENG', 'PH-DAS', 'EC-S', 'NZ-MBH', 'PH-SOR',\n",
       "       'PH-SAR', 'TR-59', 'NZ-CAN', 'IQ-WA', 'PK-KP', 'SB-IS', 'TL-OE',\n",
       "       'TZ-28', 'JP-47', 'US-KY', 'EC-Y', 'TZ-26', 'NI-RI', 'CD-IT',\n",
       "       'PH-NSA', 'TW-HUA', 'ID-SU', 'RU-TY', 'CL-NB', 'FJ-N', 'SV-SO',\n",
       "       'UG-430', 'CD-SK', 'AM-SH', 'NZ-WTC', 'SB-GU', 'TR-48', 'IR-24',\n",
       "       'BA-BIH', 'KG-O', 'US-VA', 'IT-45', 'PL-24', 'PH-DIN', 'CO-HUI',\n",
       "       'PA-7', 'TR-77', 'CO-CES', 'JP-14', 'ZA-FS', 'IT-52', 'PH-AUR',\n",
       "       'TL-MF', 'IR-07', 'AF-FYB', 'PE-LOR', 'EC-L', 'JP-21', 'BO-L',\n",
       "       'US-NC', 'EG-GZ', 'ES-CT', 'RU-KYA', 'ID-LA', 'PE-APU', 'AU-SA',\n",
       "       'TW-TTT', 'EC-E', 'TR-37', 'PA-4', 'KN-K', 'US-IL', 'PH-MDC',\n",
       "       'DO-23', 'JP-11', 'CO-CHO', 'TR-09', 'JP-17', 'TR-16', 'KG-J',\n",
       "       'DO-12', 'PE-AMA', 'PH-LEY', 'PE-CUS', 'TW-NAN', 'KZ-YUZ', 'DZ-53',\n",
       "       'CN-NM', 'NZ-MWT', 'BO-O', 'PE-MOQ', 'DZ-26', 'PH-ILS', 'JP-10',\n",
       "       'MX-NLE', 'AF-ZAB', 'ID-JB', 'TW-PIF', 'VE-J', 'GE-IM', 'DO-15',\n",
       "       'TR-02', 'MX-MIC', 'TJ-SU', 'LA-LP', 'ZA-MP', 'PH-AGS', 'PE-AYA',\n",
       "       'CN-GD', 'PA-EM', 'ID-SS', 'FR-ARA', 'ZM-06', 'PH-COM', 'IR-02',\n",
       "       'PA-5', 'ET-SO', 'CN-HL', 'AU-NT', 'MX-VER', 'MN-041', 'CL-LL',\n",
       "       'UG-406', 'LA-PH', 'PH-SUK', 'RU-MUR', 'IR-14', 'ZA-NW', 'MX-SON',\n",
       "       'PH-TAR', 'RU-KDA', 'AF-PAN', 'VE-L', 'ID-KS'], dtype=object)"
      ]
     },
     "execution_count": 114,
     "metadata": {},
     "output_type": "execute_result"
    }
   ],
   "source": [
    "earthquakes[\"state\"].unique()"
   ]
  },
  {
   "cell_type": "code",
   "execution_count": 112,
   "id": "471d184c",
   "metadata": {},
   "outputs": [],
   "source": [
    "# Converting values to appropriate data types\n",
    "earthquakes[\"magType\"] = earthquakes[\"magType\"].astype(\"category\")\n",
    "earthquakes[\"type\"] = earthquakes[\"type\"].astype(\"category\")\n",
    "earthquakes[\"status\"] = earthquakes[\"status\"].astype(\"category\")\n",
    "earthquakes[\"locationSource\"] = earthquakes[\"locationSource\"].astype(\"category\")\n",
    "earthquakes[\"state\"]\n"
   ]
  },
  {
   "cell_type": "markdown",
   "id": "f04aa2c9",
   "metadata": {},
   "source": [
    "# Selecting Data for Plotting"
   ]
  },
  {
   "cell_type": "code",
   "execution_count": 5,
   "id": "29c87ec8",
   "metadata": {},
   "outputs": [],
   "source": [
    "import pandas as pd"
   ]
  },
  {
   "cell_type": "code",
   "execution_count": 19,
   "id": "531dda26",
   "metadata": {},
   "outputs": [],
   "source": [
    "earthquakes = pd.read_csv(\n",
    "    \"datasets/us_earthquakes.csv\",\n",
    "    parse_dates=[\"time\"],\n",
    ")"
   ]
  },
  {
   "cell_type": "code",
   "execution_count": 20,
   "id": "f437f0dc",
   "metadata": {},
   "outputs": [
    {
     "name": "stdout",
     "output_type": "stream",
     "text": [
      "<class 'pandas.core.frame.DataFrame'>\n",
      "RangeIndex: 29357 entries, 0 to 29356\n",
      "Data columns (total 13 columns):\n",
      " #   Column          Non-Null Count  Dtype              \n",
      "---  ------          --------------  -----              \n",
      " 0   id              29357 non-null  object             \n",
      " 1   time            29357 non-null  datetime64[ns, UTC]\n",
      " 2   latitude        29357 non-null  float64            \n",
      " 3   longitude       29357 non-null  float64            \n",
      " 4   mag             29357 non-null  float64            \n",
      " 5   magType         29357 non-null  object             \n",
      " 6   place           29281 non-null  object             \n",
      " 7   type            29357 non-null  object             \n",
      " 8   status          29357 non-null  object             \n",
      " 9   locationSource  29357 non-null  object             \n",
      " 10  state           29357 non-null  object             \n",
      " 11  state_code      29357 non-null  object             \n",
      " 12  month           29357 non-null  object             \n",
      "dtypes: datetime64[ns, UTC](1), float64(3), object(9)\n",
      "memory usage: 2.9+ MB\n"
     ]
    }
   ],
   "source": [
    "earthquakes.info()"
   ]
  },
  {
   "cell_type": "code",
   "execution_count": 21,
   "id": "dc6a7bf2",
   "metadata": {},
   "outputs": [],
   "source": [
    "earthquakes[\"magType\"] = earthquakes[\"magType\"].astype(\"category\")\n",
    "earthquakes[\"type\"] = earthquakes[\"type\"].astype(\"category\")\n",
    "earthquakes[\"status\"] = earthquakes[\"status\"].astype(\"category\")\n",
    "earthquakes[\"locationSource\"] = earthquakes[\"locationSource\"].astype(\"category\")\n",
    "earthquakes[\"state\"] = earthquakes[\"state\"].astype(\"category\")\n",
    "earthquakes[\"state_code\"] = earthquakes[\"state_code\"].astype(\"category\")\n",
    "earthquakes[\"month\"] = earthquakes[\"month\"].astype(\"category\")"
   ]
  },
  {
   "cell_type": "code",
   "execution_count": 22,
   "id": "4517cf02",
   "metadata": {},
   "outputs": [
    {
     "name": "stdout",
     "output_type": "stream",
     "text": [
      "<class 'pandas.core.frame.DataFrame'>\n",
      "RangeIndex: 29357 entries, 0 to 29356\n",
      "Data columns (total 13 columns):\n",
      " #   Column          Non-Null Count  Dtype              \n",
      "---  ------          --------------  -----              \n",
      " 0   id              29357 non-null  object             \n",
      " 1   time            29357 non-null  datetime64[ns, UTC]\n",
      " 2   latitude        29357 non-null  float64            \n",
      " 3   longitude       29357 non-null  float64            \n",
      " 4   mag             29357 non-null  float64            \n",
      " 5   magType         29357 non-null  category           \n",
      " 6   place           29281 non-null  object             \n",
      " 7   type            29357 non-null  category           \n",
      " 8   status          29357 non-null  category           \n",
      " 9   locationSource  29357 non-null  category           \n",
      " 10  state           29357 non-null  category           \n",
      " 11  state_code      29357 non-null  category           \n",
      " 12  month           29357 non-null  category           \n",
      "dtypes: category(7), datetime64[ns, UTC](1), float64(3), object(2)\n",
      "memory usage: 1.5+ MB\n"
     ]
    }
   ],
   "source": [
    "earthquakes.info()"
   ]
  },
  {
   "cell_type": "code",
   "execution_count": 38,
   "id": "6473b80d",
   "metadata": {},
   "outputs": [],
   "source": [
    "df = earthquakes.copy()"
   ]
  },
  {
   "cell_type": "code",
   "execution_count": 31,
   "id": "b5f895a6",
   "metadata": {},
   "outputs": [
    {
     "data": {
      "text/plain": [
       "dict_keys([('February', 'AK'), ('February', 'AR'), ('February', 'AZ'), ('February', 'CA'), ('February', 'CO'), ('February', 'HI'), ('February', 'ID'), ('February', 'KS'), ('February', 'KY'), ('February', 'ME'), ('February', 'MN'), ('February', 'MO'), ('February', 'MT'), ('February', 'NC'), ('February', 'NH'), ('February', 'NM'), ('February', 'NV'), ('February', 'NY'), ('February', 'OH'), ('February', 'OK'), ('February', 'OR'), ('February', 'PR'), ('February', 'SC'), ('February', 'TN'), ('February', 'TX'), ('February', 'UT'), ('February', 'VA'), ('February', 'WA'), ('February', 'WY'), ('January', 'AK'), ('January', 'AR'), ('January', 'AZ'), ('January', 'CA'), ('January', 'CO'), ('January', 'CT'), ('January', 'GA'), ('January', 'HI'), ('January', 'ID'), ('January', 'KS'), ('January', 'MA'), ('January', 'ME'), ('January', 'MN'), ('January', 'MO'), ('January', 'MP'), ('January', 'MT'), ('January', 'NH'), ('January', 'NM'), ('January', 'NV'), ('January', 'NY'), ('January', 'OH'), ('January', 'OK'), ('January', 'OR'), ('January', 'PR'), ('January', 'SC'), ('January', 'SD'), ('January', 'TN'), ('January', 'TX'), ('January', 'UT'), ('January', 'VI'), ('January', 'WA'), ('January', 'WY'), ('March', 'AK'), ('March', 'AR'), ('March', 'AZ'), ('March', 'CA'), ('March', 'CO'), ('March', 'GA'), ('March', 'HI'), ('March', 'ID'), ('March', 'IL'), ('March', 'KS'), ('March', 'KY'), ('March', 'MA'), ('March', 'ME'), ('March', 'MN'), ('March', 'MO'), ('March', 'MP'), ('March', 'MT'), ('March', 'NC'), ('March', 'NM'), ('March', 'NV'), ('March', 'NY'), ('March', 'OH'), ('March', 'OK'), ('March', 'OR'), ('March', 'PR'), ('March', 'SC'), ('March', 'TN'), ('March', 'TX'), ('March', 'UT'), ('March', 'WA'), ('March', 'WY')])"
      ]
     },
     "execution_count": 31,
     "metadata": {},
     "output_type": "execute_result"
    }
   ],
   "source": [
    "df.groupby([\"month\", \"state_code\"]).groups.keys()"
   ]
  },
  {
   "cell_type": "code",
   "execution_count": 39,
   "id": "2ea5b8a1",
   "metadata": {},
   "outputs": [],
   "source": [
    "df = df.groupby([\"month\", \"state_code\"]).agg(earthquakes=(\"id\", \"count\")).reset_index()"
   ]
  },
  {
   "cell_type": "code",
   "execution_count": 42,
   "id": "067ba671",
   "metadata": {},
   "outputs": [
    {
     "data": {
      "text/html": [
       "<div>\n",
       "<style scoped>\n",
       "    .dataframe tbody tr th:only-of-type {\n",
       "        vertical-align: middle;\n",
       "    }\n",
       "\n",
       "    .dataframe tbody tr th {\n",
       "        vertical-align: top;\n",
       "    }\n",
       "\n",
       "    .dataframe thead th {\n",
       "        text-align: right;\n",
       "    }\n",
       "</style>\n",
       "<table border=\"1\" class=\"dataframe\">\n",
       "  <thead>\n",
       "    <tr style=\"text-align: right;\">\n",
       "      <th></th>\n",
       "      <th>month</th>\n",
       "      <th>state_code</th>\n",
       "      <th>earthquakes</th>\n",
       "    </tr>\n",
       "  </thead>\n",
       "  <tbody>\n",
       "    <tr>\n",
       "      <th>2</th>\n",
       "      <td>February</td>\n",
       "      <td>AZ</td>\n",
       "      <td>8</td>\n",
       "    </tr>\n",
       "    <tr>\n",
       "      <th>12</th>\n",
       "      <td>February</td>\n",
       "      <td>MA</td>\n",
       "      <td>0</td>\n",
       "    </tr>\n",
       "    <tr>\n",
       "      <th>79</th>\n",
       "      <td>March</td>\n",
       "      <td>HI</td>\n",
       "      <td>635</td>\n",
       "    </tr>\n",
       "    <tr>\n",
       "      <th>6</th>\n",
       "      <td>February</td>\n",
       "      <td>GA</td>\n",
       "      <td>0</td>\n",
       "    </tr>\n",
       "    <tr>\n",
       "      <th>89</th>\n",
       "      <td>March</td>\n",
       "      <td>MT</td>\n",
       "      <td>146</td>\n",
       "    </tr>\n",
       "    <tr>\n",
       "      <th>81</th>\n",
       "      <td>March</td>\n",
       "      <td>IL</td>\n",
       "      <td>1</td>\n",
       "    </tr>\n",
       "    <tr>\n",
       "      <th>87</th>\n",
       "      <td>March</td>\n",
       "      <td>MO</td>\n",
       "      <td>14</td>\n",
       "    </tr>\n",
       "    <tr>\n",
       "      <th>61</th>\n",
       "      <td>January</td>\n",
       "      <td>OR</td>\n",
       "      <td>25</td>\n",
       "    </tr>\n",
       "    <tr>\n",
       "      <th>14</th>\n",
       "      <td>February</td>\n",
       "      <td>MN</td>\n",
       "      <td>3</td>\n",
       "    </tr>\n",
       "    <tr>\n",
       "      <th>30</th>\n",
       "      <td>February</td>\n",
       "      <td>TX</td>\n",
       "      <td>114</td>\n",
       "    </tr>\n",
       "  </tbody>\n",
       "</table>\n",
       "</div>"
      ],
      "text/plain": [
       "       month state_code  earthquakes\n",
       "2   February         AZ            8\n",
       "12  February         MA            0\n",
       "79     March         HI          635\n",
       "6   February         GA            0\n",
       "89     March         MT          146\n",
       "81     March         IL            1\n",
       "87     March         MO           14\n",
       "61   January         OR           25\n",
       "14  February         MN            3\n",
       "30  February         TX          114"
      ]
     },
     "execution_count": 42,
     "metadata": {},
     "output_type": "execute_result"
    }
   ],
   "source": [
    "df.sample(10)"
   ]
  },
  {
   "cell_type": "code",
   "execution_count": 45,
   "id": "0d7ee2e8",
   "metadata": {},
   "outputs": [
    {
     "data": {
      "text/html": [
       "<div>\n",
       "<style scoped>\n",
       "    .dataframe tbody tr th:only-of-type {\n",
       "        vertical-align: middle;\n",
       "    }\n",
       "\n",
       "    .dataframe tbody tr th {\n",
       "        vertical-align: top;\n",
       "    }\n",
       "\n",
       "    .dataframe thead th {\n",
       "        text-align: right;\n",
       "    }\n",
       "</style>\n",
       "<table border=\"1\" class=\"dataframe\">\n",
       "  <thead>\n",
       "    <tr style=\"text-align: right;\">\n",
       "      <th></th>\n",
       "      <th>month</th>\n",
       "      <th>state_code</th>\n",
       "      <th>earthquakes</th>\n",
       "    </tr>\n",
       "  </thead>\n",
       "  <tbody>\n",
       "    <tr>\n",
       "      <th>36</th>\n",
       "      <td>January</td>\n",
       "      <td>AK</td>\n",
       "      <td>3082</td>\n",
       "    </tr>\n",
       "    <tr>\n",
       "      <th>37</th>\n",
       "      <td>January</td>\n",
       "      <td>AR</td>\n",
       "      <td>7</td>\n",
       "    </tr>\n",
       "    <tr>\n",
       "      <th>38</th>\n",
       "      <td>January</td>\n",
       "      <td>AZ</td>\n",
       "      <td>3</td>\n",
       "    </tr>\n",
       "    <tr>\n",
       "      <th>39</th>\n",
       "      <td>January</td>\n",
       "      <td>CA</td>\n",
       "      <td>3757</td>\n",
       "    </tr>\n",
       "    <tr>\n",
       "      <th>40</th>\n",
       "      <td>January</td>\n",
       "      <td>CO</td>\n",
       "      <td>4</td>\n",
       "    </tr>\n",
       "    <tr>\n",
       "      <th>41</th>\n",
       "      <td>January</td>\n",
       "      <td>CT</td>\n",
       "      <td>1</td>\n",
       "    </tr>\n",
       "    <tr>\n",
       "      <th>42</th>\n",
       "      <td>January</td>\n",
       "      <td>GA</td>\n",
       "      <td>1</td>\n",
       "    </tr>\n",
       "    <tr>\n",
       "      <th>43</th>\n",
       "      <td>January</td>\n",
       "      <td>HI</td>\n",
       "      <td>1017</td>\n",
       "    </tr>\n",
       "    <tr>\n",
       "      <th>44</th>\n",
       "      <td>January</td>\n",
       "      <td>ID</td>\n",
       "      <td>73</td>\n",
       "    </tr>\n",
       "    <tr>\n",
       "      <th>45</th>\n",
       "      <td>January</td>\n",
       "      <td>IL</td>\n",
       "      <td>0</td>\n",
       "    </tr>\n",
       "    <tr>\n",
       "      <th>46</th>\n",
       "      <td>January</td>\n",
       "      <td>KS</td>\n",
       "      <td>11</td>\n",
       "    </tr>\n",
       "    <tr>\n",
       "      <th>47</th>\n",
       "      <td>January</td>\n",
       "      <td>KY</td>\n",
       "      <td>0</td>\n",
       "    </tr>\n",
       "    <tr>\n",
       "      <th>48</th>\n",
       "      <td>January</td>\n",
       "      <td>MA</td>\n",
       "      <td>1</td>\n",
       "    </tr>\n",
       "    <tr>\n",
       "      <th>49</th>\n",
       "      <td>January</td>\n",
       "      <td>ME</td>\n",
       "      <td>3</td>\n",
       "    </tr>\n",
       "    <tr>\n",
       "      <th>50</th>\n",
       "      <td>January</td>\n",
       "      <td>MN</td>\n",
       "      <td>4</td>\n",
       "    </tr>\n",
       "    <tr>\n",
       "      <th>51</th>\n",
       "      <td>January</td>\n",
       "      <td>MO</td>\n",
       "      <td>11</td>\n",
       "    </tr>\n",
       "    <tr>\n",
       "      <th>52</th>\n",
       "      <td>January</td>\n",
       "      <td>MP</td>\n",
       "      <td>2</td>\n",
       "    </tr>\n",
       "    <tr>\n",
       "      <th>53</th>\n",
       "      <td>January</td>\n",
       "      <td>MT</td>\n",
       "      <td>147</td>\n",
       "    </tr>\n",
       "    <tr>\n",
       "      <th>54</th>\n",
       "      <td>January</td>\n",
       "      <td>NC</td>\n",
       "      <td>0</td>\n",
       "    </tr>\n",
       "    <tr>\n",
       "      <th>55</th>\n",
       "      <td>January</td>\n",
       "      <td>NH</td>\n",
       "      <td>1</td>\n",
       "    </tr>\n",
       "    <tr>\n",
       "      <th>56</th>\n",
       "      <td>January</td>\n",
       "      <td>NM</td>\n",
       "      <td>3</td>\n",
       "    </tr>\n",
       "    <tr>\n",
       "      <th>57</th>\n",
       "      <td>January</td>\n",
       "      <td>NV</td>\n",
       "      <td>762</td>\n",
       "    </tr>\n",
       "    <tr>\n",
       "      <th>58</th>\n",
       "      <td>January</td>\n",
       "      <td>NY</td>\n",
       "      <td>2</td>\n",
       "    </tr>\n",
       "    <tr>\n",
       "      <th>59</th>\n",
       "      <td>January</td>\n",
       "      <td>OH</td>\n",
       "      <td>5</td>\n",
       "    </tr>\n",
       "    <tr>\n",
       "      <th>60</th>\n",
       "      <td>January</td>\n",
       "      <td>OK</td>\n",
       "      <td>213</td>\n",
       "    </tr>\n",
       "    <tr>\n",
       "      <th>61</th>\n",
       "      <td>January</td>\n",
       "      <td>OR</td>\n",
       "      <td>25</td>\n",
       "    </tr>\n",
       "    <tr>\n",
       "      <th>62</th>\n",
       "      <td>January</td>\n",
       "      <td>PR</td>\n",
       "      <td>156</td>\n",
       "    </tr>\n",
       "    <tr>\n",
       "      <th>63</th>\n",
       "      <td>January</td>\n",
       "      <td>SC</td>\n",
       "      <td>11</td>\n",
       "    </tr>\n",
       "    <tr>\n",
       "      <th>64</th>\n",
       "      <td>January</td>\n",
       "      <td>SD</td>\n",
       "      <td>1</td>\n",
       "    </tr>\n",
       "    <tr>\n",
       "      <th>65</th>\n",
       "      <td>January</td>\n",
       "      <td>TN</td>\n",
       "      <td>10</td>\n",
       "    </tr>\n",
       "    <tr>\n",
       "      <th>66</th>\n",
       "      <td>January</td>\n",
       "      <td>TX</td>\n",
       "      <td>173</td>\n",
       "    </tr>\n",
       "    <tr>\n",
       "      <th>67</th>\n",
       "      <td>January</td>\n",
       "      <td>UT</td>\n",
       "      <td>285</td>\n",
       "    </tr>\n",
       "    <tr>\n",
       "      <th>68</th>\n",
       "      <td>January</td>\n",
       "      <td>VA</td>\n",
       "      <td>0</td>\n",
       "    </tr>\n",
       "    <tr>\n",
       "      <th>69</th>\n",
       "      <td>January</td>\n",
       "      <td>VI</td>\n",
       "      <td>1</td>\n",
       "    </tr>\n",
       "    <tr>\n",
       "      <th>70</th>\n",
       "      <td>January</td>\n",
       "      <td>WA</td>\n",
       "      <td>176</td>\n",
       "    </tr>\n",
       "    <tr>\n",
       "      <th>71</th>\n",
       "      <td>January</td>\n",
       "      <td>WY</td>\n",
       "      <td>118</td>\n",
       "    </tr>\n",
       "  </tbody>\n",
       "</table>\n",
       "</div>"
      ],
      "text/plain": [
       "      month state_code  earthquakes\n",
       "36  January         AK         3082\n",
       "37  January         AR            7\n",
       "38  January         AZ            3\n",
       "39  January         CA         3757\n",
       "40  January         CO            4\n",
       "41  January         CT            1\n",
       "42  January         GA            1\n",
       "43  January         HI         1017\n",
       "44  January         ID           73\n",
       "45  January         IL            0\n",
       "46  January         KS           11\n",
       "47  January         KY            0\n",
       "48  January         MA            1\n",
       "49  January         ME            3\n",
       "50  January         MN            4\n",
       "51  January         MO           11\n",
       "52  January         MP            2\n",
       "53  January         MT          147\n",
       "54  January         NC            0\n",
       "55  January         NH            1\n",
       "56  January         NM            3\n",
       "57  January         NV          762\n",
       "58  January         NY            2\n",
       "59  January         OH            5\n",
       "60  January         OK          213\n",
       "61  January         OR           25\n",
       "62  January         PR          156\n",
       "63  January         SC           11\n",
       "64  January         SD            1\n",
       "65  January         TN           10\n",
       "66  January         TX          173\n",
       "67  January         UT          285\n",
       "68  January         VA            0\n",
       "69  January         VI            1\n",
       "70  January         WA          176\n",
       "71  January         WY          118"
      ]
     },
     "execution_count": 45,
     "metadata": {},
     "output_type": "execute_result"
    }
   ],
   "source": [
    "df[df[\"month\"]==\"January\"]"
   ]
  },
  {
   "cell_type": "code",
   "execution_count": 55,
   "id": "9fbb76b8",
   "metadata": {},
   "outputs": [
    {
     "name": "stdout",
     "output_type": "stream",
     "text": [
      "<class 'pandas.core.frame.DataFrame'>\n",
      "RangeIndex: 29357 entries, 0 to 29356\n",
      "Data columns (total 13 columns):\n",
      " #   Column          Non-Null Count  Dtype              \n",
      "---  ------          --------------  -----              \n",
      " 0   id              29357 non-null  object             \n",
      " 1   time            29357 non-null  datetime64[ns, UTC]\n",
      " 2   latitude        29357 non-null  float64            \n",
      " 3   longitude       29357 non-null  float64            \n",
      " 4   mag             29357 non-null  float64            \n",
      " 5   magType         29357 non-null  category           \n",
      " 6   place           29281 non-null  object             \n",
      " 7   type            29357 non-null  category           \n",
      " 8   status          29357 non-null  category           \n",
      " 9   locationSource  29357 non-null  category           \n",
      " 10  state           29357 non-null  category           \n",
      " 11  state_code      29357 non-null  category           \n",
      " 12  month           29357 non-null  category           \n",
      "dtypes: category(7), datetime64[ns, UTC](1), float64(3), object(2)\n",
      "memory usage: 1.5+ MB\n"
     ]
    }
   ],
   "source": [
    "earthquakes.info()"
   ]
  },
  {
   "cell_type": "code",
   "execution_count": 54,
   "id": "f5ea8f20",
   "metadata": {},
   "outputs": [
    {
     "data": {
      "text/plain": [
       "earthquake          0.975440\n",
       "quarry blast        0.011139\n",
       "explosion           0.006029\n",
       "ice quake           0.004701\n",
       "mining explosion    0.002487\n",
       "other event         0.000204\n",
       "Name: type, dtype: float64"
      ]
     },
     "execution_count": 54,
     "metadata": {},
     "output_type": "execute_result"
    }
   ],
   "source": [
    "earthquakes[\"type\"].value_counts(normalize=True)"
   ]
  },
  {
   "cell_type": "code",
   "execution_count": 57,
   "id": "426f173f",
   "metadata": {},
   "outputs": [
    {
     "data": {
      "text/plain": [
       "reviewed     24972\n",
       "automatic     4385\n",
       "Name: status, dtype: int64"
      ]
     },
     "execution_count": 57,
     "metadata": {},
     "output_type": "execute_result"
    }
   ],
   "source": [
    "earthquakes[\"status\"].value_counts()"
   ]
  },
  {
   "cell_type": "code",
   "execution_count": 61,
   "id": "dcca5865",
   "metadata": {},
   "outputs": [
    {
     "data": {
      "text/html": [
       "<div>\n",
       "<style scoped>\n",
       "    .dataframe tbody tr th:only-of-type {\n",
       "        vertical-align: middle;\n",
       "    }\n",
       "\n",
       "    .dataframe tbody tr th {\n",
       "        vertical-align: top;\n",
       "    }\n",
       "\n",
       "    .dataframe thead th {\n",
       "        text-align: right;\n",
       "    }\n",
       "</style>\n",
       "<table border=\"1\" class=\"dataframe\">\n",
       "  <thead>\n",
       "    <tr style=\"text-align: right;\">\n",
       "      <th></th>\n",
       "      <th>id</th>\n",
       "      <th>time</th>\n",
       "      <th>latitude</th>\n",
       "      <th>longitude</th>\n",
       "      <th>mag</th>\n",
       "      <th>magType</th>\n",
       "      <th>place</th>\n",
       "      <th>type</th>\n",
       "      <th>status</th>\n",
       "      <th>locationSource</th>\n",
       "      <th>state</th>\n",
       "      <th>state_code</th>\n",
       "      <th>month</th>\n",
       "    </tr>\n",
       "  </thead>\n",
       "  <tbody>\n",
       "    <tr>\n",
       "      <th>0</th>\n",
       "      <td>ok2022ccvb</td>\n",
       "      <td>2022-01-30 23:58:39.500000+00:00</td>\n",
       "      <td>34.879167</td>\n",
       "      <td>-97.8520</td>\n",
       "      <td>0.99</td>\n",
       "      <td>ml</td>\n",
       "      <td>7 km WSW of Alex, Oklahoma</td>\n",
       "      <td>earthquake</td>\n",
       "      <td>reviewed</td>\n",
       "      <td>ok</td>\n",
       "      <td>US-OK</td>\n",
       "      <td>OK</td>\n",
       "      <td>January</td>\n",
       "    </tr>\n",
       "    <tr>\n",
       "      <th>1</th>\n",
       "      <td>ak0221e05fgq</td>\n",
       "      <td>2022-01-30 23:56:19.237000+00:00</td>\n",
       "      <td>62.910000</td>\n",
       "      <td>-151.1774</td>\n",
       "      <td>1.40</td>\n",
       "      <td>ml</td>\n",
       "      <td>Central Alaska</td>\n",
       "      <td>earthquake</td>\n",
       "      <td>reviewed</td>\n",
       "      <td>ak</td>\n",
       "      <td>US-AK</td>\n",
       "      <td>AK</td>\n",
       "      <td>January</td>\n",
       "    </tr>\n",
       "    <tr>\n",
       "      <th>2</th>\n",
       "      <td>ak0221e051u3</td>\n",
       "      <td>2022-01-30 23:54:44.477000+00:00</td>\n",
       "      <td>63.304800</td>\n",
       "      <td>-151.2721</td>\n",
       "      <td>1.10</td>\n",
       "      <td>ml</td>\n",
       "      <td>34 km SE of Denali National Park, Alaska</td>\n",
       "      <td>earthquake</td>\n",
       "      <td>reviewed</td>\n",
       "      <td>ak</td>\n",
       "      <td>US-AK</td>\n",
       "      <td>AK</td>\n",
       "      <td>January</td>\n",
       "    </tr>\n",
       "    <tr>\n",
       "      <th>3</th>\n",
       "      <td>ak0221e050xt</td>\n",
       "      <td>2022-01-30 23:54:32.973000+00:00</td>\n",
       "      <td>51.557800</td>\n",
       "      <td>-176.6738</td>\n",
       "      <td>1.80</td>\n",
       "      <td>ml</td>\n",
       "      <td>35 km S of Adak, Alaska</td>\n",
       "      <td>earthquake</td>\n",
       "      <td>reviewed</td>\n",
       "      <td>ak</td>\n",
       "      <td>US-AK</td>\n",
       "      <td>AK</td>\n",
       "      <td>January</td>\n",
       "    </tr>\n",
       "    <tr>\n",
       "      <th>4</th>\n",
       "      <td>ak0221e04enn</td>\n",
       "      <td>2022-01-30 23:51:44.207000+00:00</td>\n",
       "      <td>63.291700</td>\n",
       "      <td>-151.3217</td>\n",
       "      <td>1.10</td>\n",
       "      <td>ml</td>\n",
       "      <td>34 km SE of Denali National Park, Alaska</td>\n",
       "      <td>earthquake</td>\n",
       "      <td>reviewed</td>\n",
       "      <td>ak</td>\n",
       "      <td>US-AK</td>\n",
       "      <td>AK</td>\n",
       "      <td>January</td>\n",
       "    </tr>\n",
       "  </tbody>\n",
       "</table>\n",
       "</div>"
      ],
      "text/plain": [
       "             id                             time   latitude  longitude   mag  \\\n",
       "0    ok2022ccvb 2022-01-30 23:58:39.500000+00:00  34.879167   -97.8520  0.99   \n",
       "1  ak0221e05fgq 2022-01-30 23:56:19.237000+00:00  62.910000  -151.1774  1.40   \n",
       "2  ak0221e051u3 2022-01-30 23:54:44.477000+00:00  63.304800  -151.2721  1.10   \n",
       "3  ak0221e050xt 2022-01-30 23:54:32.973000+00:00  51.557800  -176.6738  1.80   \n",
       "4  ak0221e04enn 2022-01-30 23:51:44.207000+00:00  63.291700  -151.3217  1.10   \n",
       "\n",
       "  magType                                     place        type    status  \\\n",
       "0      ml                7 km WSW of Alex, Oklahoma  earthquake  reviewed   \n",
       "1      ml                            Central Alaska  earthquake  reviewed   \n",
       "2      ml  34 km SE of Denali National Park, Alaska  earthquake  reviewed   \n",
       "3      ml                   35 km S of Adak, Alaska  earthquake  reviewed   \n",
       "4      ml  34 km SE of Denali National Park, Alaska  earthquake  reviewed   \n",
       "\n",
       "  locationSource  state state_code    month  \n",
       "0             ok  US-OK         OK  January  \n",
       "1             ak  US-AK         AK  January  \n",
       "2             ak  US-AK         AK  January  \n",
       "3             ak  US-AK         AK  January  \n",
       "4             ak  US-AK         AK  January  "
      ]
     },
     "execution_count": 61,
     "metadata": {},
     "output_type": "execute_result"
    }
   ],
   "source": [
    "earthquakes.head()"
   ]
  },
  {
   "cell_type": "code",
   "execution_count": 70,
   "id": "4e163b92",
   "metadata": {},
   "outputs": [],
   "source": [
    "df_scatter = earthquakes[[\"id\", \"time\", \"latitude\", \"longitude\", \"mag\", \"place\", \"type\", \"state_code\"]]"
   ]
  },
  {
   "cell_type": "code",
   "execution_count": 73,
   "id": "f8c1b295",
   "metadata": {},
   "outputs": [],
   "source": [
    "df_scatter = df_scatter.assign(\n",
    "    date=df_scatter[\"time\"].dt.date\n",
    ")"
   ]
  },
  {
   "cell_type": "code",
   "execution_count": 75,
   "id": "699bd769",
   "metadata": {},
   "outputs": [
    {
     "data": {
      "text/html": [
       "<div>\n",
       "<style scoped>\n",
       "    .dataframe tbody tr th:only-of-type {\n",
       "        vertical-align: middle;\n",
       "    }\n",
       "\n",
       "    .dataframe tbody tr th {\n",
       "        vertical-align: top;\n",
       "    }\n",
       "\n",
       "    .dataframe thead th {\n",
       "        text-align: right;\n",
       "    }\n",
       "</style>\n",
       "<table border=\"1\" class=\"dataframe\">\n",
       "  <thead>\n",
       "    <tr style=\"text-align: right;\">\n",
       "      <th></th>\n",
       "      <th>id</th>\n",
       "      <th>time</th>\n",
       "      <th>latitude</th>\n",
       "      <th>longitude</th>\n",
       "      <th>mag</th>\n",
       "      <th>place</th>\n",
       "      <th>type</th>\n",
       "      <th>state_code</th>\n",
       "      <th>date</th>\n",
       "    </tr>\n",
       "  </thead>\n",
       "  <tbody>\n",
       "    <tr>\n",
       "      <th>9420</th>\n",
       "      <td>nc73673041</td>\n",
       "      <td>2022-01-03 08:35:36.490000+00:00</td>\n",
       "      <td>38.121333</td>\n",
       "      <td>-122.127833</td>\n",
       "      <td>1.06</td>\n",
       "      <td>8km NNE of Benicia, CA</td>\n",
       "      <td>earthquake</td>\n",
       "      <td>CA</td>\n",
       "      <td>2022-01-03</td>\n",
       "    </tr>\n",
       "    <tr>\n",
       "      <th>10137</th>\n",
       "      <td>nn00834569</td>\n",
       "      <td>2022-02-27 19:17:28.135000+00:00</td>\n",
       "      <td>38.167300</td>\n",
       "      <td>-117.887900</td>\n",
       "      <td>1.10</td>\n",
       "      <td>31 km SE of Mina, Nevada</td>\n",
       "      <td>earthquake</td>\n",
       "      <td>NV</td>\n",
       "      <td>2022-02-27</td>\n",
       "    </tr>\n",
       "    <tr>\n",
       "      <th>1545</th>\n",
       "      <td>ak0221779m9t</td>\n",
       "      <td>2022-01-26 12:25:16.495000+00:00</td>\n",
       "      <td>63.106300</td>\n",
       "      <td>-151.524300</td>\n",
       "      <td>0.90</td>\n",
       "      <td>49 km SSE of Denali National Park, Alaska</td>\n",
       "      <td>earthquake</td>\n",
       "      <td>AK</td>\n",
       "      <td>2022-01-26</td>\n",
       "    </tr>\n",
       "    <tr>\n",
       "      <th>19194</th>\n",
       "      <td>ak0221h0bq2t</td>\n",
       "      <td>2022-02-01 05:25:55.137000+00:00</td>\n",
       "      <td>60.826900</td>\n",
       "      <td>-151.819500</td>\n",
       "      <td>1.10</td>\n",
       "      <td>32 km WNW of Nikiski, Alaska</td>\n",
       "      <td>earthquake</td>\n",
       "      <td>AK</td>\n",
       "      <td>2022-02-01</td>\n",
       "    </tr>\n",
       "    <tr>\n",
       "      <th>25597</th>\n",
       "      <td>nc73704466</td>\n",
       "      <td>2022-03-12 00:59:16.700000+00:00</td>\n",
       "      <td>38.815166</td>\n",
       "      <td>-122.820503</td>\n",
       "      <td>0.50</td>\n",
       "      <td>7km NW of The Geysers, CA</td>\n",
       "      <td>earthquake</td>\n",
       "      <td>CA</td>\n",
       "      <td>2022-03-12</td>\n",
       "    </tr>\n",
       "  </tbody>\n",
       "</table>\n",
       "</div>"
      ],
      "text/plain": [
       "                 id                             time   latitude   longitude  \\\n",
       "9420     nc73673041 2022-01-03 08:35:36.490000+00:00  38.121333 -122.127833   \n",
       "10137    nn00834569 2022-02-27 19:17:28.135000+00:00  38.167300 -117.887900   \n",
       "1545   ak0221779m9t 2022-01-26 12:25:16.495000+00:00  63.106300 -151.524300   \n",
       "19194  ak0221h0bq2t 2022-02-01 05:25:55.137000+00:00  60.826900 -151.819500   \n",
       "25597    nc73704466 2022-03-12 00:59:16.700000+00:00  38.815166 -122.820503   \n",
       "\n",
       "        mag                                      place        type state_code  \\\n",
       "9420   1.06                     8km NNE of Benicia, CA  earthquake         CA   \n",
       "10137  1.10                   31 km SE of Mina, Nevada  earthquake         NV   \n",
       "1545   0.90  49 km SSE of Denali National Park, Alaska  earthquake         AK   \n",
       "19194  1.10               32 km WNW of Nikiski, Alaska  earthquake         AK   \n",
       "25597  0.50                  7km NW of The Geysers, CA  earthquake         CA   \n",
       "\n",
       "             date  \n",
       "9420   2022-01-03  \n",
       "10137  2022-02-27  \n",
       "1545   2022-01-26  \n",
       "19194  2022-02-01  \n",
       "25597  2022-03-12  "
      ]
     },
     "execution_count": 75,
     "metadata": {},
     "output_type": "execute_result"
    }
   ],
   "source": [
    "df_scatter.sample(5)"
   ]
  },
  {
   "cell_type": "code",
   "execution_count": 79,
   "id": "9b6f5ca9",
   "metadata": {},
   "outputs": [
    {
     "data": {
      "text/html": [
       "<div>\n",
       "<style scoped>\n",
       "    .dataframe tbody tr th:only-of-type {\n",
       "        vertical-align: middle;\n",
       "    }\n",
       "\n",
       "    .dataframe tbody tr th {\n",
       "        vertical-align: top;\n",
       "    }\n",
       "\n",
       "    .dataframe thead th {\n",
       "        text-align: right;\n",
       "    }\n",
       "</style>\n",
       "<table border=\"1\" class=\"dataframe\">\n",
       "  <thead>\n",
       "    <tr style=\"text-align: right;\">\n",
       "      <th></th>\n",
       "      <th>id</th>\n",
       "      <th>time</th>\n",
       "      <th>latitude</th>\n",
       "      <th>longitude</th>\n",
       "      <th>mag</th>\n",
       "      <th>place</th>\n",
       "      <th>type</th>\n",
       "      <th>state_code</th>\n",
       "      <th>date</th>\n",
       "    </tr>\n",
       "  </thead>\n",
       "  <tbody>\n",
       "    <tr>\n",
       "      <th>17355</th>\n",
       "      <td>ak0221pb6nv5</td>\n",
       "      <td>2022-02-06 07:22:33.179000+00:00</td>\n",
       "      <td>62.7471</td>\n",
       "      <td>-148.7049</td>\n",
       "      <td>5.2</td>\n",
       "      <td>72 km S of Cantwell, Alaska</td>\n",
       "      <td>earthquake</td>\n",
       "      <td>AK</td>\n",
       "      <td>2022-02-06</td>\n",
       "    </tr>\n",
       "    <tr>\n",
       "      <th>6470</th>\n",
       "      <td>us7000gb6l</td>\n",
       "      <td>2022-01-12 01:48:03.831000+00:00</td>\n",
       "      <td>52.0751</td>\n",
       "      <td>178.0555</td>\n",
       "      <td>5.2</td>\n",
       "      <td>Rat Islands, Aleutian Islands, Alaska</td>\n",
       "      <td>earthquake</td>\n",
       "      <td>AK</td>\n",
       "      <td>2022-01-12</td>\n",
       "    </tr>\n",
       "    <tr>\n",
       "      <th>28931</th>\n",
       "      <td>us6000h18d</td>\n",
       "      <td>2022-03-01 22:31:17.846000+00:00</td>\n",
       "      <td>52.3460</td>\n",
       "      <td>174.0425</td>\n",
       "      <td>5.2</td>\n",
       "      <td>80 km SE of Attu Station, Alaska</td>\n",
       "      <td>earthquake</td>\n",
       "      <td>AK</td>\n",
       "      <td>2022-03-01</td>\n",
       "    </tr>\n",
       "    <tr>\n",
       "      <th>3139</th>\n",
       "      <td>ak022ytdd55</td>\n",
       "      <td>2022-01-21 05:18:26.444000+00:00</td>\n",
       "      <td>60.3163</td>\n",
       "      <td>-152.3603</td>\n",
       "      <td>5.1</td>\n",
       "      <td>48 km NW of Ninilchik, Alaska</td>\n",
       "      <td>earthquake</td>\n",
       "      <td>AK</td>\n",
       "      <td>2022-01-21</td>\n",
       "    </tr>\n",
       "    <tr>\n",
       "      <th>5931</th>\n",
       "      <td>us7000gbj9</td>\n",
       "      <td>2022-01-13 05:47:12.246000+00:00</td>\n",
       "      <td>51.2863</td>\n",
       "      <td>-179.1427</td>\n",
       "      <td>5.1</td>\n",
       "      <td>Andreanof Islands, Aleutian Islands, Alaska</td>\n",
       "      <td>earthquake</td>\n",
       "      <td>AK</td>\n",
       "      <td>2022-01-13</td>\n",
       "    </tr>\n",
       "    <tr>\n",
       "      <th>1802</th>\n",
       "      <td>us7000gf5f</td>\n",
       "      <td>2022-01-26 01:02:07.228000+00:00</td>\n",
       "      <td>51.9957</td>\n",
       "      <td>178.3305</td>\n",
       "      <td>4.9</td>\n",
       "      <td>Rat Islands, Aleutian Islands, Alaska</td>\n",
       "      <td>earthquake</td>\n",
       "      <td>AK</td>\n",
       "      <td>2022-01-26</td>\n",
       "    </tr>\n",
       "    <tr>\n",
       "      <th>25372</th>\n",
       "      <td>ak02239qtmiy</td>\n",
       "      <td>2022-03-12 19:59:48.600000+00:00</td>\n",
       "      <td>60.7900</td>\n",
       "      <td>-152.0819</td>\n",
       "      <td>4.8</td>\n",
       "      <td>44 km WNW of Nikiski, Alaska</td>\n",
       "      <td>earthquake</td>\n",
       "      <td>AK</td>\n",
       "      <td>2022-03-12</td>\n",
       "    </tr>\n",
       "    <tr>\n",
       "      <th>21833</th>\n",
       "      <td>ak0223rx1x1y</td>\n",
       "      <td>2022-03-23 18:45:12.911000+00:00</td>\n",
       "      <td>60.2090</td>\n",
       "      <td>-153.0955</td>\n",
       "      <td>4.8</td>\n",
       "      <td>67 km E of Port Alsworth, Alaska</td>\n",
       "      <td>earthquake</td>\n",
       "      <td>AK</td>\n",
       "      <td>2022-03-23</td>\n",
       "    </tr>\n",
       "    <tr>\n",
       "      <th>1717</th>\n",
       "      <td>us7000gf6q</td>\n",
       "      <td>2022-01-26 04:31:23.823000+00:00</td>\n",
       "      <td>51.9565</td>\n",
       "      <td>178.3387</td>\n",
       "      <td>4.8</td>\n",
       "      <td>Rat Islands, Aleutian Islands, Alaska</td>\n",
       "      <td>earthquake</td>\n",
       "      <td>AK</td>\n",
       "      <td>2022-01-26</td>\n",
       "    </tr>\n",
       "    <tr>\n",
       "      <th>10676</th>\n",
       "      <td>us6000h0bg</td>\n",
       "      <td>2022-02-26 07:16:43.732000+00:00</td>\n",
       "      <td>51.8955</td>\n",
       "      <td>178.4066</td>\n",
       "      <td>4.8</td>\n",
       "      <td>Rat Islands, Aleutian Islands, Alaska</td>\n",
       "      <td>earthquake</td>\n",
       "      <td>AK</td>\n",
       "      <td>2022-02-26</td>\n",
       "    </tr>\n",
       "  </tbody>\n",
       "</table>\n",
       "</div>"
      ],
      "text/plain": [
       "                 id                             time  latitude  longitude  \\\n",
       "17355  ak0221pb6nv5 2022-02-06 07:22:33.179000+00:00   62.7471  -148.7049   \n",
       "6470     us7000gb6l 2022-01-12 01:48:03.831000+00:00   52.0751   178.0555   \n",
       "28931    us6000h18d 2022-03-01 22:31:17.846000+00:00   52.3460   174.0425   \n",
       "3139    ak022ytdd55 2022-01-21 05:18:26.444000+00:00   60.3163  -152.3603   \n",
       "5931     us7000gbj9 2022-01-13 05:47:12.246000+00:00   51.2863  -179.1427   \n",
       "1802     us7000gf5f 2022-01-26 01:02:07.228000+00:00   51.9957   178.3305   \n",
       "25372  ak02239qtmiy 2022-03-12 19:59:48.600000+00:00   60.7900  -152.0819   \n",
       "21833  ak0223rx1x1y 2022-03-23 18:45:12.911000+00:00   60.2090  -153.0955   \n",
       "1717     us7000gf6q 2022-01-26 04:31:23.823000+00:00   51.9565   178.3387   \n",
       "10676    us6000h0bg 2022-02-26 07:16:43.732000+00:00   51.8955   178.4066   \n",
       "\n",
       "       mag                                        place        type  \\\n",
       "17355  5.2                  72 km S of Cantwell, Alaska  earthquake   \n",
       "6470   5.2        Rat Islands, Aleutian Islands, Alaska  earthquake   \n",
       "28931  5.2             80 km SE of Attu Station, Alaska  earthquake   \n",
       "3139   5.1                48 km NW of Ninilchik, Alaska  earthquake   \n",
       "5931   5.1  Andreanof Islands, Aleutian Islands, Alaska  earthquake   \n",
       "1802   4.9        Rat Islands, Aleutian Islands, Alaska  earthquake   \n",
       "25372  4.8                 44 km WNW of Nikiski, Alaska  earthquake   \n",
       "21833  4.8             67 km E of Port Alsworth, Alaska  earthquake   \n",
       "1717   4.8        Rat Islands, Aleutian Islands, Alaska  earthquake   \n",
       "10676  4.8        Rat Islands, Aleutian Islands, Alaska  earthquake   \n",
       "\n",
       "      state_code        date  \n",
       "17355         AK  2022-02-06  \n",
       "6470          AK  2022-01-12  \n",
       "28931         AK  2022-03-01  \n",
       "3139          AK  2022-01-21  \n",
       "5931          AK  2022-01-13  \n",
       "1802          AK  2022-01-26  \n",
       "25372         AK  2022-03-12  \n",
       "21833         AK  2022-03-23  \n",
       "1717          AK  2022-01-26  \n",
       "10676         AK  2022-02-26  "
      ]
     },
     "execution_count": 79,
     "metadata": {},
     "output_type": "execute_result"
    }
   ],
   "source": [
    "df_scatter.sort_values(by=[\"mag\"], ascending=False).head(10)"
   ]
  },
  {
   "cell_type": "code",
   "execution_count": 96,
   "id": "ddf9f119",
   "metadata": {},
   "outputs": [],
   "source": [
    "df_scatter[\"label\"] = \"id: \" + df_scatter[\"id\"] + \", mag: \" + df_scatter[\"mag\"].astype(str) + \", \" + df_scatter[\"place\"] + \", \" + df_scatter[\"date\"].astype(str)"
   ]
  },
  {
   "cell_type": "code",
   "execution_count": 97,
   "id": "61e6b1de",
   "metadata": {},
   "outputs": [
    {
     "data": {
      "text/html": [
       "<div>\n",
       "<style scoped>\n",
       "    .dataframe tbody tr th:only-of-type {\n",
       "        vertical-align: middle;\n",
       "    }\n",
       "\n",
       "    .dataframe tbody tr th {\n",
       "        vertical-align: top;\n",
       "    }\n",
       "\n",
       "    .dataframe thead th {\n",
       "        text-align: right;\n",
       "    }\n",
       "</style>\n",
       "<table border=\"1\" class=\"dataframe\">\n",
       "  <thead>\n",
       "    <tr style=\"text-align: right;\">\n",
       "      <th></th>\n",
       "      <th>id</th>\n",
       "      <th>time</th>\n",
       "      <th>latitude</th>\n",
       "      <th>longitude</th>\n",
       "      <th>mag</th>\n",
       "      <th>place</th>\n",
       "      <th>type</th>\n",
       "      <th>state_code</th>\n",
       "      <th>date</th>\n",
       "      <th>label</th>\n",
       "    </tr>\n",
       "  </thead>\n",
       "  <tbody>\n",
       "    <tr>\n",
       "      <th>0</th>\n",
       "      <td>ok2022ccvb</td>\n",
       "      <td>2022-01-30 23:58:39.500000+00:00</td>\n",
       "      <td>34.879167</td>\n",
       "      <td>-97.852000</td>\n",
       "      <td>0.99</td>\n",
       "      <td>7 km WSW of Alex, Oklahoma</td>\n",
       "      <td>earthquake</td>\n",
       "      <td>OK</td>\n",
       "      <td>2022-01-30</td>\n",
       "      <td>id: ok2022ccvb, mag: 0.99, 7 km WSW of Alex, O...</td>\n",
       "    </tr>\n",
       "    <tr>\n",
       "      <th>1</th>\n",
       "      <td>ak0221e05fgq</td>\n",
       "      <td>2022-01-30 23:56:19.237000+00:00</td>\n",
       "      <td>62.910000</td>\n",
       "      <td>-151.177400</td>\n",
       "      <td>1.40</td>\n",
       "      <td>Central Alaska</td>\n",
       "      <td>earthquake</td>\n",
       "      <td>AK</td>\n",
       "      <td>2022-01-30</td>\n",
       "      <td>id: ak0221e05fgq, mag: 1.4, Central Alaska, 20...</td>\n",
       "    </tr>\n",
       "    <tr>\n",
       "      <th>2</th>\n",
       "      <td>ak0221e051u3</td>\n",
       "      <td>2022-01-30 23:54:44.477000+00:00</td>\n",
       "      <td>63.304800</td>\n",
       "      <td>-151.272100</td>\n",
       "      <td>1.10</td>\n",
       "      <td>34 km SE of Denali National Park, Alaska</td>\n",
       "      <td>earthquake</td>\n",
       "      <td>AK</td>\n",
       "      <td>2022-01-30</td>\n",
       "      <td>id: ak0221e051u3, mag: 1.1, 34 km SE of Denali...</td>\n",
       "    </tr>\n",
       "    <tr>\n",
       "      <th>3</th>\n",
       "      <td>ak0221e050xt</td>\n",
       "      <td>2022-01-30 23:54:32.973000+00:00</td>\n",
       "      <td>51.557800</td>\n",
       "      <td>-176.673800</td>\n",
       "      <td>1.80</td>\n",
       "      <td>35 km S of Adak, Alaska</td>\n",
       "      <td>earthquake</td>\n",
       "      <td>AK</td>\n",
       "      <td>2022-01-30</td>\n",
       "      <td>id: ak0221e050xt, mag: 1.8, 35 km S of Adak, A...</td>\n",
       "    </tr>\n",
       "    <tr>\n",
       "      <th>4</th>\n",
       "      <td>ak0221e04enn</td>\n",
       "      <td>2022-01-30 23:51:44.207000+00:00</td>\n",
       "      <td>63.291700</td>\n",
       "      <td>-151.321700</td>\n",
       "      <td>1.10</td>\n",
       "      <td>34 km SE of Denali National Park, Alaska</td>\n",
       "      <td>earthquake</td>\n",
       "      <td>AK</td>\n",
       "      <td>2022-01-30</td>\n",
       "      <td>id: ak0221e04enn, mag: 1.1, 34 km SE of Denali...</td>\n",
       "    </tr>\n",
       "    <tr>\n",
       "      <th>...</th>\n",
       "      <td>...</td>\n",
       "      <td>...</td>\n",
       "      <td>...</td>\n",
       "      <td>...</td>\n",
       "      <td>...</td>\n",
       "      <td>...</td>\n",
       "      <td>...</td>\n",
       "      <td>...</td>\n",
       "      <td>...</td>\n",
       "      <td>...</td>\n",
       "    </tr>\n",
       "    <tr>\n",
       "      <th>29352</th>\n",
       "      <td>nc73699161</td>\n",
       "      <td>2022-03-01 00:20:28.230000+00:00</td>\n",
       "      <td>40.877500</td>\n",
       "      <td>-122.027667</td>\n",
       "      <td>1.57</td>\n",
       "      <td>10km WNW of Montgomery Creek, CA</td>\n",
       "      <td>earthquake</td>\n",
       "      <td>CA</td>\n",
       "      <td>2022-03-01</td>\n",
       "      <td>id: nc73699161, mag: 1.57, 10km WNW of Montgom...</td>\n",
       "    </tr>\n",
       "    <tr>\n",
       "      <th>29353</th>\n",
       "      <td>ak0222r8d3ze</td>\n",
       "      <td>2022-03-01 00:20:03.430000+00:00</td>\n",
       "      <td>58.936900</td>\n",
       "      <td>-152.970700</td>\n",
       "      <td>3.00</td>\n",
       "      <td>76 km SW of Nanwalek, Alaska</td>\n",
       "      <td>earthquake</td>\n",
       "      <td>AK</td>\n",
       "      <td>2022-03-01</td>\n",
       "      <td>id: ak0222r8d3ze, mag: 3.0, 76 km SW of Nanwal...</td>\n",
       "    </tr>\n",
       "    <tr>\n",
       "      <th>29354</th>\n",
       "      <td>nc73699171</td>\n",
       "      <td>2022-03-01 00:19:44.800000+00:00</td>\n",
       "      <td>37.470667</td>\n",
       "      <td>-121.616167</td>\n",
       "      <td>0.95</td>\n",
       "      <td>22km ENE of Alum Rock, CA</td>\n",
       "      <td>earthquake</td>\n",
       "      <td>CA</td>\n",
       "      <td>2022-03-01</td>\n",
       "      <td>id: nc73699171, mag: 0.95, 22km ENE of Alum Ro...</td>\n",
       "    </tr>\n",
       "    <tr>\n",
       "      <th>29355</th>\n",
       "      <td>ak0222r8acmt</td>\n",
       "      <td>2022-03-01 00:07:11.888000+00:00</td>\n",
       "      <td>62.494100</td>\n",
       "      <td>-152.198500</td>\n",
       "      <td>1.10</td>\n",
       "      <td>69 km NW of Skwentna, Alaska</td>\n",
       "      <td>earthquake</td>\n",
       "      <td>AK</td>\n",
       "      <td>2022-03-01</td>\n",
       "      <td>id: ak0222r8acmt, mag: 1.1, 69 km NW of Skwent...</td>\n",
       "    </tr>\n",
       "    <tr>\n",
       "      <th>29356</th>\n",
       "      <td>uu60483552</td>\n",
       "      <td>2022-03-01 00:00:52.070000+00:00</td>\n",
       "      <td>38.582667</td>\n",
       "      <td>-112.213500</td>\n",
       "      <td>2.23</td>\n",
       "      <td>4 km S of Joseph, Utah</td>\n",
       "      <td>earthquake</td>\n",
       "      <td>UT</td>\n",
       "      <td>2022-03-01</td>\n",
       "      <td>id: uu60483552, mag: 2.23, 4 km S of Joseph, U...</td>\n",
       "    </tr>\n",
       "  </tbody>\n",
       "</table>\n",
       "<p>29357 rows × 10 columns</p>\n",
       "</div>"
      ],
      "text/plain": [
       "                 id                             time   latitude   longitude  \\\n",
       "0        ok2022ccvb 2022-01-30 23:58:39.500000+00:00  34.879167  -97.852000   \n",
       "1      ak0221e05fgq 2022-01-30 23:56:19.237000+00:00  62.910000 -151.177400   \n",
       "2      ak0221e051u3 2022-01-30 23:54:44.477000+00:00  63.304800 -151.272100   \n",
       "3      ak0221e050xt 2022-01-30 23:54:32.973000+00:00  51.557800 -176.673800   \n",
       "4      ak0221e04enn 2022-01-30 23:51:44.207000+00:00  63.291700 -151.321700   \n",
       "...             ...                              ...        ...         ...   \n",
       "29352    nc73699161 2022-03-01 00:20:28.230000+00:00  40.877500 -122.027667   \n",
       "29353  ak0222r8d3ze 2022-03-01 00:20:03.430000+00:00  58.936900 -152.970700   \n",
       "29354    nc73699171 2022-03-01 00:19:44.800000+00:00  37.470667 -121.616167   \n",
       "29355  ak0222r8acmt 2022-03-01 00:07:11.888000+00:00  62.494100 -152.198500   \n",
       "29356    uu60483552 2022-03-01 00:00:52.070000+00:00  38.582667 -112.213500   \n",
       "\n",
       "        mag                                     place        type state_code  \\\n",
       "0      0.99                7 km WSW of Alex, Oklahoma  earthquake         OK   \n",
       "1      1.40                            Central Alaska  earthquake         AK   \n",
       "2      1.10  34 km SE of Denali National Park, Alaska  earthquake         AK   \n",
       "3      1.80                   35 km S of Adak, Alaska  earthquake         AK   \n",
       "4      1.10  34 km SE of Denali National Park, Alaska  earthquake         AK   \n",
       "...     ...                                       ...         ...        ...   \n",
       "29352  1.57          10km WNW of Montgomery Creek, CA  earthquake         CA   \n",
       "29353  3.00              76 km SW of Nanwalek, Alaska  earthquake         AK   \n",
       "29354  0.95                 22km ENE of Alum Rock, CA  earthquake         CA   \n",
       "29355  1.10              69 km NW of Skwentna, Alaska  earthquake         AK   \n",
       "29356  2.23                    4 km S of Joseph, Utah  earthquake         UT   \n",
       "\n",
       "             date                                              label  \n",
       "0      2022-01-30  id: ok2022ccvb, mag: 0.99, 7 km WSW of Alex, O...  \n",
       "1      2022-01-30  id: ak0221e05fgq, mag: 1.4, Central Alaska, 20...  \n",
       "2      2022-01-30  id: ak0221e051u3, mag: 1.1, 34 km SE of Denali...  \n",
       "3      2022-01-30  id: ak0221e050xt, mag: 1.8, 35 km S of Adak, A...  \n",
       "4      2022-01-30  id: ak0221e04enn, mag: 1.1, 34 km SE of Denali...  \n",
       "...           ...                                                ...  \n",
       "29352  2022-03-01  id: nc73699161, mag: 1.57, 10km WNW of Montgom...  \n",
       "29353  2022-03-01  id: ak0222r8d3ze, mag: 3.0, 76 km SW of Nanwal...  \n",
       "29354  2022-03-01  id: nc73699171, mag: 0.95, 22km ENE of Alum Ro...  \n",
       "29355  2022-03-01  id: ak0222r8acmt, mag: 1.1, 69 km NW of Skwent...  \n",
       "29356  2022-03-01  id: uu60483552, mag: 2.23, 4 km S of Joseph, U...  \n",
       "\n",
       "[29357 rows x 10 columns]"
      ]
     },
     "execution_count": 97,
     "metadata": {},
     "output_type": "execute_result"
    }
   ],
   "source": [
    "df_scatter"
   ]
  },
  {
   "cell_type": "code",
   "execution_count": 98,
   "id": "609a940a",
   "metadata": {},
   "outputs": [],
   "source": [
    "df_chart = earthquakes.copy()"
   ]
  },
  {
   "cell_type": "code",
   "execution_count": 109,
   "id": "5f0a2d80",
   "metadata": {},
   "outputs": [],
   "source": [
    "df_chart = df_chart[\"type\"].value_counts().to_frame().reset_index().rename(columns={\"index\": \"Type\", \"type\": \"Count\"})"
   ]
  },
  {
   "cell_type": "code",
   "execution_count": 110,
   "id": "376de884",
   "metadata": {},
   "outputs": [
    {
     "data": {
      "text/html": [
       "<div>\n",
       "<style scoped>\n",
       "    .dataframe tbody tr th:only-of-type {\n",
       "        vertical-align: middle;\n",
       "    }\n",
       "\n",
       "    .dataframe tbody tr th {\n",
       "        vertical-align: top;\n",
       "    }\n",
       "\n",
       "    .dataframe thead th {\n",
       "        text-align: right;\n",
       "    }\n",
       "</style>\n",
       "<table border=\"1\" class=\"dataframe\">\n",
       "  <thead>\n",
       "    <tr style=\"text-align: right;\">\n",
       "      <th></th>\n",
       "      <th>Type</th>\n",
       "      <th>Count</th>\n",
       "    </tr>\n",
       "  </thead>\n",
       "  <tbody>\n",
       "    <tr>\n",
       "      <th>0</th>\n",
       "      <td>earthquake</td>\n",
       "      <td>28636</td>\n",
       "    </tr>\n",
       "    <tr>\n",
       "      <th>1</th>\n",
       "      <td>quarry blast</td>\n",
       "      <td>327</td>\n",
       "    </tr>\n",
       "    <tr>\n",
       "      <th>2</th>\n",
       "      <td>explosion</td>\n",
       "      <td>177</td>\n",
       "    </tr>\n",
       "    <tr>\n",
       "      <th>3</th>\n",
       "      <td>ice quake</td>\n",
       "      <td>138</td>\n",
       "    </tr>\n",
       "    <tr>\n",
       "      <th>4</th>\n",
       "      <td>mining explosion</td>\n",
       "      <td>73</td>\n",
       "    </tr>\n",
       "    <tr>\n",
       "      <th>5</th>\n",
       "      <td>other event</td>\n",
       "      <td>6</td>\n",
       "    </tr>\n",
       "  </tbody>\n",
       "</table>\n",
       "</div>"
      ],
      "text/plain": [
       "               Type  Count\n",
       "0        earthquake  28636\n",
       "1      quarry blast    327\n",
       "2         explosion    177\n",
       "3         ice quake    138\n",
       "4  mining explosion     73\n",
       "5       other event      6"
      ]
     },
     "execution_count": 110,
     "metadata": {},
     "output_type": "execute_result"
    }
   ],
   "source": [
    "df_chart"
   ]
  },
  {
   "cell_type": "code",
   "execution_count": 105,
   "id": "d6bd7f3a",
   "metadata": {},
   "outputs": [],
   "source": [
    "import plotly.express as px"
   ]
  },
  {
   "cell_type": "code",
   "execution_count": 116,
   "id": "bce43ff4",
   "metadata": {},
   "outputs": [],
   "source": [
    "fig = px.bar(df_chart, x=\"Type\", y=\"Count\", title=\"Wide-Form Input\")"
   ]
  },
  {
   "cell_type": "code",
   "execution_count": 117,
   "id": "cab6c9b5",
   "metadata": {},
   "outputs": [
    {
     "data": {
      "application/vnd.plotly.v1+json": {
       "config": {
        "plotlyServerURL": "https://plot.ly"
       },
       "data": [
        {
         "alignmentgroup": "True",
         "hovertemplate": "Type=%{x}<br>Count=%{y}<extra></extra>",
         "legendgroup": "",
         "marker": {
          "color": "#636efa",
          "pattern": {
           "shape": ""
          }
         },
         "name": "",
         "offsetgroup": "",
         "orientation": "v",
         "showlegend": false,
         "textposition": "auto",
         "type": "bar",
         "x": [
          "earthquake",
          "quarry blast",
          "explosion",
          "ice quake",
          "mining explosion",
          "other event"
         ],
         "xaxis": "x",
         "y": [
          28636,
          327,
          177,
          138,
          73,
          6
         ],
         "yaxis": "y"
        }
       ],
       "layout": {
        "barmode": "relative",
        "legend": {
         "tracegroupgap": 0
        },
        "template": {
         "data": {
          "bar": [
           {
            "error_x": {
             "color": "#2a3f5f"
            },
            "error_y": {
             "color": "#2a3f5f"
            },
            "marker": {
             "line": {
              "color": "#E5ECF6",
              "width": 0.5
             },
             "pattern": {
              "fillmode": "overlay",
              "size": 10,
              "solidity": 0.2
             }
            },
            "type": "bar"
           }
          ],
          "barpolar": [
           {
            "marker": {
             "line": {
              "color": "#E5ECF6",
              "width": 0.5
             },
             "pattern": {
              "fillmode": "overlay",
              "size": 10,
              "solidity": 0.2
             }
            },
            "type": "barpolar"
           }
          ],
          "carpet": [
           {
            "aaxis": {
             "endlinecolor": "#2a3f5f",
             "gridcolor": "white",
             "linecolor": "white",
             "minorgridcolor": "white",
             "startlinecolor": "#2a3f5f"
            },
            "baxis": {
             "endlinecolor": "#2a3f5f",
             "gridcolor": "white",
             "linecolor": "white",
             "minorgridcolor": "white",
             "startlinecolor": "#2a3f5f"
            },
            "type": "carpet"
           }
          ],
          "choropleth": [
           {
            "colorbar": {
             "outlinewidth": 0,
             "ticks": ""
            },
            "type": "choropleth"
           }
          ],
          "contour": [
           {
            "colorbar": {
             "outlinewidth": 0,
             "ticks": ""
            },
            "colorscale": [
             [
              0,
              "#0d0887"
             ],
             [
              0.1111111111111111,
              "#46039f"
             ],
             [
              0.2222222222222222,
              "#7201a8"
             ],
             [
              0.3333333333333333,
              "#9c179e"
             ],
             [
              0.4444444444444444,
              "#bd3786"
             ],
             [
              0.5555555555555556,
              "#d8576b"
             ],
             [
              0.6666666666666666,
              "#ed7953"
             ],
             [
              0.7777777777777778,
              "#fb9f3a"
             ],
             [
              0.8888888888888888,
              "#fdca26"
             ],
             [
              1,
              "#f0f921"
             ]
            ],
            "type": "contour"
           }
          ],
          "contourcarpet": [
           {
            "colorbar": {
             "outlinewidth": 0,
             "ticks": ""
            },
            "type": "contourcarpet"
           }
          ],
          "heatmap": [
           {
            "colorbar": {
             "outlinewidth": 0,
             "ticks": ""
            },
            "colorscale": [
             [
              0,
              "#0d0887"
             ],
             [
              0.1111111111111111,
              "#46039f"
             ],
             [
              0.2222222222222222,
              "#7201a8"
             ],
             [
              0.3333333333333333,
              "#9c179e"
             ],
             [
              0.4444444444444444,
              "#bd3786"
             ],
             [
              0.5555555555555556,
              "#d8576b"
             ],
             [
              0.6666666666666666,
              "#ed7953"
             ],
             [
              0.7777777777777778,
              "#fb9f3a"
             ],
             [
              0.8888888888888888,
              "#fdca26"
             ],
             [
              1,
              "#f0f921"
             ]
            ],
            "type": "heatmap"
           }
          ],
          "heatmapgl": [
           {
            "colorbar": {
             "outlinewidth": 0,
             "ticks": ""
            },
            "colorscale": [
             [
              0,
              "#0d0887"
             ],
             [
              0.1111111111111111,
              "#46039f"
             ],
             [
              0.2222222222222222,
              "#7201a8"
             ],
             [
              0.3333333333333333,
              "#9c179e"
             ],
             [
              0.4444444444444444,
              "#bd3786"
             ],
             [
              0.5555555555555556,
              "#d8576b"
             ],
             [
              0.6666666666666666,
              "#ed7953"
             ],
             [
              0.7777777777777778,
              "#fb9f3a"
             ],
             [
              0.8888888888888888,
              "#fdca26"
             ],
             [
              1,
              "#f0f921"
             ]
            ],
            "type": "heatmapgl"
           }
          ],
          "histogram": [
           {
            "marker": {
             "pattern": {
              "fillmode": "overlay",
              "size": 10,
              "solidity": 0.2
             }
            },
            "type": "histogram"
           }
          ],
          "histogram2d": [
           {
            "colorbar": {
             "outlinewidth": 0,
             "ticks": ""
            },
            "colorscale": [
             [
              0,
              "#0d0887"
             ],
             [
              0.1111111111111111,
              "#46039f"
             ],
             [
              0.2222222222222222,
              "#7201a8"
             ],
             [
              0.3333333333333333,
              "#9c179e"
             ],
             [
              0.4444444444444444,
              "#bd3786"
             ],
             [
              0.5555555555555556,
              "#d8576b"
             ],
             [
              0.6666666666666666,
              "#ed7953"
             ],
             [
              0.7777777777777778,
              "#fb9f3a"
             ],
             [
              0.8888888888888888,
              "#fdca26"
             ],
             [
              1,
              "#f0f921"
             ]
            ],
            "type": "histogram2d"
           }
          ],
          "histogram2dcontour": [
           {
            "colorbar": {
             "outlinewidth": 0,
             "ticks": ""
            },
            "colorscale": [
             [
              0,
              "#0d0887"
             ],
             [
              0.1111111111111111,
              "#46039f"
             ],
             [
              0.2222222222222222,
              "#7201a8"
             ],
             [
              0.3333333333333333,
              "#9c179e"
             ],
             [
              0.4444444444444444,
              "#bd3786"
             ],
             [
              0.5555555555555556,
              "#d8576b"
             ],
             [
              0.6666666666666666,
              "#ed7953"
             ],
             [
              0.7777777777777778,
              "#fb9f3a"
             ],
             [
              0.8888888888888888,
              "#fdca26"
             ],
             [
              1,
              "#f0f921"
             ]
            ],
            "type": "histogram2dcontour"
           }
          ],
          "mesh3d": [
           {
            "colorbar": {
             "outlinewidth": 0,
             "ticks": ""
            },
            "type": "mesh3d"
           }
          ],
          "parcoords": [
           {
            "line": {
             "colorbar": {
              "outlinewidth": 0,
              "ticks": ""
             }
            },
            "type": "parcoords"
           }
          ],
          "pie": [
           {
            "automargin": true,
            "type": "pie"
           }
          ],
          "scatter": [
           {
            "fillpattern": {
             "fillmode": "overlay",
             "size": 10,
             "solidity": 0.2
            },
            "type": "scatter"
           }
          ],
          "scatter3d": [
           {
            "line": {
             "colorbar": {
              "outlinewidth": 0,
              "ticks": ""
             }
            },
            "marker": {
             "colorbar": {
              "outlinewidth": 0,
              "ticks": ""
             }
            },
            "type": "scatter3d"
           }
          ],
          "scattercarpet": [
           {
            "marker": {
             "colorbar": {
              "outlinewidth": 0,
              "ticks": ""
             }
            },
            "type": "scattercarpet"
           }
          ],
          "scattergeo": [
           {
            "marker": {
             "colorbar": {
              "outlinewidth": 0,
              "ticks": ""
             }
            },
            "type": "scattergeo"
           }
          ],
          "scattergl": [
           {
            "marker": {
             "colorbar": {
              "outlinewidth": 0,
              "ticks": ""
             }
            },
            "type": "scattergl"
           }
          ],
          "scattermapbox": [
           {
            "marker": {
             "colorbar": {
              "outlinewidth": 0,
              "ticks": ""
             }
            },
            "type": "scattermapbox"
           }
          ],
          "scatterpolar": [
           {
            "marker": {
             "colorbar": {
              "outlinewidth": 0,
              "ticks": ""
             }
            },
            "type": "scatterpolar"
           }
          ],
          "scatterpolargl": [
           {
            "marker": {
             "colorbar": {
              "outlinewidth": 0,
              "ticks": ""
             }
            },
            "type": "scatterpolargl"
           }
          ],
          "scatterternary": [
           {
            "marker": {
             "colorbar": {
              "outlinewidth": 0,
              "ticks": ""
             }
            },
            "type": "scatterternary"
           }
          ],
          "surface": [
           {
            "colorbar": {
             "outlinewidth": 0,
             "ticks": ""
            },
            "colorscale": [
             [
              0,
              "#0d0887"
             ],
             [
              0.1111111111111111,
              "#46039f"
             ],
             [
              0.2222222222222222,
              "#7201a8"
             ],
             [
              0.3333333333333333,
              "#9c179e"
             ],
             [
              0.4444444444444444,
              "#bd3786"
             ],
             [
              0.5555555555555556,
              "#d8576b"
             ],
             [
              0.6666666666666666,
              "#ed7953"
             ],
             [
              0.7777777777777778,
              "#fb9f3a"
             ],
             [
              0.8888888888888888,
              "#fdca26"
             ],
             [
              1,
              "#f0f921"
             ]
            ],
            "type": "surface"
           }
          ],
          "table": [
           {
            "cells": {
             "fill": {
              "color": "#EBF0F8"
             },
             "line": {
              "color": "white"
             }
            },
            "header": {
             "fill": {
              "color": "#C8D4E3"
             },
             "line": {
              "color": "white"
             }
            },
            "type": "table"
           }
          ]
         },
         "layout": {
          "annotationdefaults": {
           "arrowcolor": "#2a3f5f",
           "arrowhead": 0,
           "arrowwidth": 1
          },
          "autotypenumbers": "strict",
          "coloraxis": {
           "colorbar": {
            "outlinewidth": 0,
            "ticks": ""
           }
          },
          "colorscale": {
           "diverging": [
            [
             0,
             "#8e0152"
            ],
            [
             0.1,
             "#c51b7d"
            ],
            [
             0.2,
             "#de77ae"
            ],
            [
             0.3,
             "#f1b6da"
            ],
            [
             0.4,
             "#fde0ef"
            ],
            [
             0.5,
             "#f7f7f7"
            ],
            [
             0.6,
             "#e6f5d0"
            ],
            [
             0.7,
             "#b8e186"
            ],
            [
             0.8,
             "#7fbc41"
            ],
            [
             0.9,
             "#4d9221"
            ],
            [
             1,
             "#276419"
            ]
           ],
           "sequential": [
            [
             0,
             "#0d0887"
            ],
            [
             0.1111111111111111,
             "#46039f"
            ],
            [
             0.2222222222222222,
             "#7201a8"
            ],
            [
             0.3333333333333333,
             "#9c179e"
            ],
            [
             0.4444444444444444,
             "#bd3786"
            ],
            [
             0.5555555555555556,
             "#d8576b"
            ],
            [
             0.6666666666666666,
             "#ed7953"
            ],
            [
             0.7777777777777778,
             "#fb9f3a"
            ],
            [
             0.8888888888888888,
             "#fdca26"
            ],
            [
             1,
             "#f0f921"
            ]
           ],
           "sequentialminus": [
            [
             0,
             "#0d0887"
            ],
            [
             0.1111111111111111,
             "#46039f"
            ],
            [
             0.2222222222222222,
             "#7201a8"
            ],
            [
             0.3333333333333333,
             "#9c179e"
            ],
            [
             0.4444444444444444,
             "#bd3786"
            ],
            [
             0.5555555555555556,
             "#d8576b"
            ],
            [
             0.6666666666666666,
             "#ed7953"
            ],
            [
             0.7777777777777778,
             "#fb9f3a"
            ],
            [
             0.8888888888888888,
             "#fdca26"
            ],
            [
             1,
             "#f0f921"
            ]
           ]
          },
          "colorway": [
           "#636efa",
           "#EF553B",
           "#00cc96",
           "#ab63fa",
           "#FFA15A",
           "#19d3f3",
           "#FF6692",
           "#B6E880",
           "#FF97FF",
           "#FECB52"
          ],
          "font": {
           "color": "#2a3f5f"
          },
          "geo": {
           "bgcolor": "white",
           "lakecolor": "white",
           "landcolor": "#E5ECF6",
           "showlakes": true,
           "showland": true,
           "subunitcolor": "white"
          },
          "hoverlabel": {
           "align": "left"
          },
          "hovermode": "closest",
          "mapbox": {
           "style": "light"
          },
          "paper_bgcolor": "white",
          "plot_bgcolor": "#E5ECF6",
          "polar": {
           "angularaxis": {
            "gridcolor": "white",
            "linecolor": "white",
            "ticks": ""
           },
           "bgcolor": "#E5ECF6",
           "radialaxis": {
            "gridcolor": "white",
            "linecolor": "white",
            "ticks": ""
           }
          },
          "scene": {
           "xaxis": {
            "backgroundcolor": "#E5ECF6",
            "gridcolor": "white",
            "gridwidth": 2,
            "linecolor": "white",
            "showbackground": true,
            "ticks": "",
            "zerolinecolor": "white"
           },
           "yaxis": {
            "backgroundcolor": "#E5ECF6",
            "gridcolor": "white",
            "gridwidth": 2,
            "linecolor": "white",
            "showbackground": true,
            "ticks": "",
            "zerolinecolor": "white"
           },
           "zaxis": {
            "backgroundcolor": "#E5ECF6",
            "gridcolor": "white",
            "gridwidth": 2,
            "linecolor": "white",
            "showbackground": true,
            "ticks": "",
            "zerolinecolor": "white"
           }
          },
          "shapedefaults": {
           "line": {
            "color": "#2a3f5f"
           }
          },
          "ternary": {
           "aaxis": {
            "gridcolor": "white",
            "linecolor": "white",
            "ticks": ""
           },
           "baxis": {
            "gridcolor": "white",
            "linecolor": "white",
            "ticks": ""
           },
           "bgcolor": "#E5ECF6",
           "caxis": {
            "gridcolor": "white",
            "linecolor": "white",
            "ticks": ""
           }
          },
          "title": {
           "x": 0.05
          },
          "xaxis": {
           "automargin": true,
           "gridcolor": "white",
           "linecolor": "white",
           "ticks": "",
           "title": {
            "standoff": 15
           },
           "zerolinecolor": "white",
           "zerolinewidth": 2
          },
          "yaxis": {
           "automargin": true,
           "gridcolor": "white",
           "linecolor": "white",
           "ticks": "",
           "title": {
            "standoff": 15
           },
           "zerolinecolor": "white",
           "zerolinewidth": 2
          }
         }
        },
        "title": {
         "text": "Wide-Form Input"
        },
        "xaxis": {
         "anchor": "y",
         "domain": [
          0,
          1
         ],
         "title": {
          "text": "Type"
         }
        },
        "yaxis": {
         "anchor": "x",
         "domain": [
          0,
          1
         ],
         "title": {
          "text": "Count"
         }
        }
       }
      },
      "text/html": [
       "<div>                            <div id=\"1adce161-9ec4-4a27-8c39-9e13a4eff3ef\" class=\"plotly-graph-div\" style=\"height:525px; width:100%;\"></div>            <script type=\"text/javascript\">                require([\"plotly\"], function(Plotly) {                    window.PLOTLYENV=window.PLOTLYENV || {};                                    if (document.getElementById(\"1adce161-9ec4-4a27-8c39-9e13a4eff3ef\")) {                    Plotly.newPlot(                        \"1adce161-9ec4-4a27-8c39-9e13a4eff3ef\",                        [{\"alignmentgroup\":\"True\",\"hovertemplate\":\"Type=%{x}<br>Count=%{y}<extra></extra>\",\"legendgroup\":\"\",\"marker\":{\"color\":\"#636efa\",\"pattern\":{\"shape\":\"\"}},\"name\":\"\",\"offsetgroup\":\"\",\"orientation\":\"v\",\"showlegend\":false,\"textposition\":\"auto\",\"x\":[\"earthquake\",\"quarry blast\",\"explosion\",\"ice quake\",\"mining explosion\",\"other event\"],\"xaxis\":\"x\",\"y\":[28636,327,177,138,73,6],\"yaxis\":\"y\",\"type\":\"bar\"}],                        {\"template\":{\"data\":{\"histogram2dcontour\":[{\"type\":\"histogram2dcontour\",\"colorbar\":{\"outlinewidth\":0,\"ticks\":\"\"},\"colorscale\":[[0.0,\"#0d0887\"],[0.1111111111111111,\"#46039f\"],[0.2222222222222222,\"#7201a8\"],[0.3333333333333333,\"#9c179e\"],[0.4444444444444444,\"#bd3786\"],[0.5555555555555556,\"#d8576b\"],[0.6666666666666666,\"#ed7953\"],[0.7777777777777778,\"#fb9f3a\"],[0.8888888888888888,\"#fdca26\"],[1.0,\"#f0f921\"]]}],\"choropleth\":[{\"type\":\"choropleth\",\"colorbar\":{\"outlinewidth\":0,\"ticks\":\"\"}}],\"histogram2d\":[{\"type\":\"histogram2d\",\"colorbar\":{\"outlinewidth\":0,\"ticks\":\"\"},\"colorscale\":[[0.0,\"#0d0887\"],[0.1111111111111111,\"#46039f\"],[0.2222222222222222,\"#7201a8\"],[0.3333333333333333,\"#9c179e\"],[0.4444444444444444,\"#bd3786\"],[0.5555555555555556,\"#d8576b\"],[0.6666666666666666,\"#ed7953\"],[0.7777777777777778,\"#fb9f3a\"],[0.8888888888888888,\"#fdca26\"],[1.0,\"#f0f921\"]]}],\"heatmap\":[{\"type\":\"heatmap\",\"colorbar\":{\"outlinewidth\":0,\"ticks\":\"\"},\"colorscale\":[[0.0,\"#0d0887\"],[0.1111111111111111,\"#46039f\"],[0.2222222222222222,\"#7201a8\"],[0.3333333333333333,\"#9c179e\"],[0.4444444444444444,\"#bd3786\"],[0.5555555555555556,\"#d8576b\"],[0.6666666666666666,\"#ed7953\"],[0.7777777777777778,\"#fb9f3a\"],[0.8888888888888888,\"#fdca26\"],[1.0,\"#f0f921\"]]}],\"heatmapgl\":[{\"type\":\"heatmapgl\",\"colorbar\":{\"outlinewidth\":0,\"ticks\":\"\"},\"colorscale\":[[0.0,\"#0d0887\"],[0.1111111111111111,\"#46039f\"],[0.2222222222222222,\"#7201a8\"],[0.3333333333333333,\"#9c179e\"],[0.4444444444444444,\"#bd3786\"],[0.5555555555555556,\"#d8576b\"],[0.6666666666666666,\"#ed7953\"],[0.7777777777777778,\"#fb9f3a\"],[0.8888888888888888,\"#fdca26\"],[1.0,\"#f0f921\"]]}],\"contourcarpet\":[{\"type\":\"contourcarpet\",\"colorbar\":{\"outlinewidth\":0,\"ticks\":\"\"}}],\"contour\":[{\"type\":\"contour\",\"colorbar\":{\"outlinewidth\":0,\"ticks\":\"\"},\"colorscale\":[[0.0,\"#0d0887\"],[0.1111111111111111,\"#46039f\"],[0.2222222222222222,\"#7201a8\"],[0.3333333333333333,\"#9c179e\"],[0.4444444444444444,\"#bd3786\"],[0.5555555555555556,\"#d8576b\"],[0.6666666666666666,\"#ed7953\"],[0.7777777777777778,\"#fb9f3a\"],[0.8888888888888888,\"#fdca26\"],[1.0,\"#f0f921\"]]}],\"surface\":[{\"type\":\"surface\",\"colorbar\":{\"outlinewidth\":0,\"ticks\":\"\"},\"colorscale\":[[0.0,\"#0d0887\"],[0.1111111111111111,\"#46039f\"],[0.2222222222222222,\"#7201a8\"],[0.3333333333333333,\"#9c179e\"],[0.4444444444444444,\"#bd3786\"],[0.5555555555555556,\"#d8576b\"],[0.6666666666666666,\"#ed7953\"],[0.7777777777777778,\"#fb9f3a\"],[0.8888888888888888,\"#fdca26\"],[1.0,\"#f0f921\"]]}],\"mesh3d\":[{\"type\":\"mesh3d\",\"colorbar\":{\"outlinewidth\":0,\"ticks\":\"\"}}],\"scatter\":[{\"fillpattern\":{\"fillmode\":\"overlay\",\"size\":10,\"solidity\":0.2},\"type\":\"scatter\"}],\"parcoords\":[{\"type\":\"parcoords\",\"line\":{\"colorbar\":{\"outlinewidth\":0,\"ticks\":\"\"}}}],\"scatterpolargl\":[{\"type\":\"scatterpolargl\",\"marker\":{\"colorbar\":{\"outlinewidth\":0,\"ticks\":\"\"}}}],\"bar\":[{\"error_x\":{\"color\":\"#2a3f5f\"},\"error_y\":{\"color\":\"#2a3f5f\"},\"marker\":{\"line\":{\"color\":\"#E5ECF6\",\"width\":0.5},\"pattern\":{\"fillmode\":\"overlay\",\"size\":10,\"solidity\":0.2}},\"type\":\"bar\"}],\"scattergeo\":[{\"type\":\"scattergeo\",\"marker\":{\"colorbar\":{\"outlinewidth\":0,\"ticks\":\"\"}}}],\"scatterpolar\":[{\"type\":\"scatterpolar\",\"marker\":{\"colorbar\":{\"outlinewidth\":0,\"ticks\":\"\"}}}],\"histogram\":[{\"marker\":{\"pattern\":{\"fillmode\":\"overlay\",\"size\":10,\"solidity\":0.2}},\"type\":\"histogram\"}],\"scattergl\":[{\"type\":\"scattergl\",\"marker\":{\"colorbar\":{\"outlinewidth\":0,\"ticks\":\"\"}}}],\"scatter3d\":[{\"type\":\"scatter3d\",\"line\":{\"colorbar\":{\"outlinewidth\":0,\"ticks\":\"\"}},\"marker\":{\"colorbar\":{\"outlinewidth\":0,\"ticks\":\"\"}}}],\"scattermapbox\":[{\"type\":\"scattermapbox\",\"marker\":{\"colorbar\":{\"outlinewidth\":0,\"ticks\":\"\"}}}],\"scatterternary\":[{\"type\":\"scatterternary\",\"marker\":{\"colorbar\":{\"outlinewidth\":0,\"ticks\":\"\"}}}],\"scattercarpet\":[{\"type\":\"scattercarpet\",\"marker\":{\"colorbar\":{\"outlinewidth\":0,\"ticks\":\"\"}}}],\"carpet\":[{\"aaxis\":{\"endlinecolor\":\"#2a3f5f\",\"gridcolor\":\"white\",\"linecolor\":\"white\",\"minorgridcolor\":\"white\",\"startlinecolor\":\"#2a3f5f\"},\"baxis\":{\"endlinecolor\":\"#2a3f5f\",\"gridcolor\":\"white\",\"linecolor\":\"white\",\"minorgridcolor\":\"white\",\"startlinecolor\":\"#2a3f5f\"},\"type\":\"carpet\"}],\"table\":[{\"cells\":{\"fill\":{\"color\":\"#EBF0F8\"},\"line\":{\"color\":\"white\"}},\"header\":{\"fill\":{\"color\":\"#C8D4E3\"},\"line\":{\"color\":\"white\"}},\"type\":\"table\"}],\"barpolar\":[{\"marker\":{\"line\":{\"color\":\"#E5ECF6\",\"width\":0.5},\"pattern\":{\"fillmode\":\"overlay\",\"size\":10,\"solidity\":0.2}},\"type\":\"barpolar\"}],\"pie\":[{\"automargin\":true,\"type\":\"pie\"}]},\"layout\":{\"autotypenumbers\":\"strict\",\"colorway\":[\"#636efa\",\"#EF553B\",\"#00cc96\",\"#ab63fa\",\"#FFA15A\",\"#19d3f3\",\"#FF6692\",\"#B6E880\",\"#FF97FF\",\"#FECB52\"],\"font\":{\"color\":\"#2a3f5f\"},\"hovermode\":\"closest\",\"hoverlabel\":{\"align\":\"left\"},\"paper_bgcolor\":\"white\",\"plot_bgcolor\":\"#E5ECF6\",\"polar\":{\"bgcolor\":\"#E5ECF6\",\"angularaxis\":{\"gridcolor\":\"white\",\"linecolor\":\"white\",\"ticks\":\"\"},\"radialaxis\":{\"gridcolor\":\"white\",\"linecolor\":\"white\",\"ticks\":\"\"}},\"ternary\":{\"bgcolor\":\"#E5ECF6\",\"aaxis\":{\"gridcolor\":\"white\",\"linecolor\":\"white\",\"ticks\":\"\"},\"baxis\":{\"gridcolor\":\"white\",\"linecolor\":\"white\",\"ticks\":\"\"},\"caxis\":{\"gridcolor\":\"white\",\"linecolor\":\"white\",\"ticks\":\"\"}},\"coloraxis\":{\"colorbar\":{\"outlinewidth\":0,\"ticks\":\"\"}},\"colorscale\":{\"sequential\":[[0.0,\"#0d0887\"],[0.1111111111111111,\"#46039f\"],[0.2222222222222222,\"#7201a8\"],[0.3333333333333333,\"#9c179e\"],[0.4444444444444444,\"#bd3786\"],[0.5555555555555556,\"#d8576b\"],[0.6666666666666666,\"#ed7953\"],[0.7777777777777778,\"#fb9f3a\"],[0.8888888888888888,\"#fdca26\"],[1.0,\"#f0f921\"]],\"sequentialminus\":[[0.0,\"#0d0887\"],[0.1111111111111111,\"#46039f\"],[0.2222222222222222,\"#7201a8\"],[0.3333333333333333,\"#9c179e\"],[0.4444444444444444,\"#bd3786\"],[0.5555555555555556,\"#d8576b\"],[0.6666666666666666,\"#ed7953\"],[0.7777777777777778,\"#fb9f3a\"],[0.8888888888888888,\"#fdca26\"],[1.0,\"#f0f921\"]],\"diverging\":[[0,\"#8e0152\"],[0.1,\"#c51b7d\"],[0.2,\"#de77ae\"],[0.3,\"#f1b6da\"],[0.4,\"#fde0ef\"],[0.5,\"#f7f7f7\"],[0.6,\"#e6f5d0\"],[0.7,\"#b8e186\"],[0.8,\"#7fbc41\"],[0.9,\"#4d9221\"],[1,\"#276419\"]]},\"xaxis\":{\"gridcolor\":\"white\",\"linecolor\":\"white\",\"ticks\":\"\",\"title\":{\"standoff\":15},\"zerolinecolor\":\"white\",\"automargin\":true,\"zerolinewidth\":2},\"yaxis\":{\"gridcolor\":\"white\",\"linecolor\":\"white\",\"ticks\":\"\",\"title\":{\"standoff\":15},\"zerolinecolor\":\"white\",\"automargin\":true,\"zerolinewidth\":2},\"scene\":{\"xaxis\":{\"backgroundcolor\":\"#E5ECF6\",\"gridcolor\":\"white\",\"linecolor\":\"white\",\"showbackground\":true,\"ticks\":\"\",\"zerolinecolor\":\"white\",\"gridwidth\":2},\"yaxis\":{\"backgroundcolor\":\"#E5ECF6\",\"gridcolor\":\"white\",\"linecolor\":\"white\",\"showbackground\":true,\"ticks\":\"\",\"zerolinecolor\":\"white\",\"gridwidth\":2},\"zaxis\":{\"backgroundcolor\":\"#E5ECF6\",\"gridcolor\":\"white\",\"linecolor\":\"white\",\"showbackground\":true,\"ticks\":\"\",\"zerolinecolor\":\"white\",\"gridwidth\":2}},\"shapedefaults\":{\"line\":{\"color\":\"#2a3f5f\"}},\"annotationdefaults\":{\"arrowcolor\":\"#2a3f5f\",\"arrowhead\":0,\"arrowwidth\":1},\"geo\":{\"bgcolor\":\"white\",\"landcolor\":\"#E5ECF6\",\"subunitcolor\":\"white\",\"showland\":true,\"showlakes\":true,\"lakecolor\":\"white\"},\"title\":{\"x\":0.05},\"mapbox\":{\"style\":\"light\"}}},\"xaxis\":{\"anchor\":\"y\",\"domain\":[0.0,1.0],\"title\":{\"text\":\"Type\"}},\"yaxis\":{\"anchor\":\"x\",\"domain\":[0.0,1.0],\"title\":{\"text\":\"Count\"}},\"legend\":{\"tracegroupgap\":0},\"title\":{\"text\":\"Wide-Form Input\"},\"barmode\":\"relative\"},                        {\"responsive\": true}                    ).then(function(){\n",
       "                            \n",
       "var gd = document.getElementById('1adce161-9ec4-4a27-8c39-9e13a4eff3ef');\n",
       "var x = new MutationObserver(function (mutations, observer) {{\n",
       "        var display = window.getComputedStyle(gd).display;\n",
       "        if (!display || display === 'none') {{\n",
       "            console.log([gd, 'removed!']);\n",
       "            Plotly.purge(gd);\n",
       "            observer.disconnect();\n",
       "        }}\n",
       "}});\n",
       "\n",
       "// Listen for the removal of the full notebook cells\n",
       "var notebookContainer = gd.closest('#notebook-container');\n",
       "if (notebookContainer) {{\n",
       "    x.observe(notebookContainer, {childList: true});\n",
       "}}\n",
       "\n",
       "// Listen for the clearing of the current output cell\n",
       "var outputEl = gd.closest('.output');\n",
       "if (outputEl) {{\n",
       "    x.observe(outputEl, {childList: true});\n",
       "}}\n",
       "\n",
       "                        })                };                });            </script>        </div>"
      ]
     },
     "metadata": {},
     "output_type": "display_data"
    }
   ],
   "source": [
    "fig.show()"
   ]
  },
  {
   "cell_type": "code",
   "execution_count": 118,
   "id": "8d031ed5",
   "metadata": {},
   "outputs": [],
   "source": [
    "fig = px.pie(df_chart, values=\"Count\", names=\"Type\", hole=.3)"
   ]
  },
  {
   "cell_type": "code",
   "execution_count": 119,
   "id": "339bedd3",
   "metadata": {},
   "outputs": [
    {
     "data": {
      "application/vnd.plotly.v1+json": {
       "config": {
        "plotlyServerURL": "https://plot.ly"
       },
       "data": [
        {
         "domain": {
          "x": [
           0,
           1
          ],
          "y": [
           0,
           1
          ]
         },
         "hole": 0.3,
         "hovertemplate": "Type=%{label}<br>Count=%{value}<extra></extra>",
         "labels": [
          "earthquake",
          "quarry blast",
          "explosion",
          "ice quake",
          "mining explosion",
          "other event"
         ],
         "legendgroup": "",
         "name": "",
         "showlegend": true,
         "type": "pie",
         "values": [
          28636,
          327,
          177,
          138,
          73,
          6
         ]
        }
       ],
       "layout": {
        "legend": {
         "tracegroupgap": 0
        },
        "margin": {
         "t": 60
        },
        "template": {
         "data": {
          "bar": [
           {
            "error_x": {
             "color": "#2a3f5f"
            },
            "error_y": {
             "color": "#2a3f5f"
            },
            "marker": {
             "line": {
              "color": "#E5ECF6",
              "width": 0.5
             },
             "pattern": {
              "fillmode": "overlay",
              "size": 10,
              "solidity": 0.2
             }
            },
            "type": "bar"
           }
          ],
          "barpolar": [
           {
            "marker": {
             "line": {
              "color": "#E5ECF6",
              "width": 0.5
             },
             "pattern": {
              "fillmode": "overlay",
              "size": 10,
              "solidity": 0.2
             }
            },
            "type": "barpolar"
           }
          ],
          "carpet": [
           {
            "aaxis": {
             "endlinecolor": "#2a3f5f",
             "gridcolor": "white",
             "linecolor": "white",
             "minorgridcolor": "white",
             "startlinecolor": "#2a3f5f"
            },
            "baxis": {
             "endlinecolor": "#2a3f5f",
             "gridcolor": "white",
             "linecolor": "white",
             "minorgridcolor": "white",
             "startlinecolor": "#2a3f5f"
            },
            "type": "carpet"
           }
          ],
          "choropleth": [
           {
            "colorbar": {
             "outlinewidth": 0,
             "ticks": ""
            },
            "type": "choropleth"
           }
          ],
          "contour": [
           {
            "colorbar": {
             "outlinewidth": 0,
             "ticks": ""
            },
            "colorscale": [
             [
              0,
              "#0d0887"
             ],
             [
              0.1111111111111111,
              "#46039f"
             ],
             [
              0.2222222222222222,
              "#7201a8"
             ],
             [
              0.3333333333333333,
              "#9c179e"
             ],
             [
              0.4444444444444444,
              "#bd3786"
             ],
             [
              0.5555555555555556,
              "#d8576b"
             ],
             [
              0.6666666666666666,
              "#ed7953"
             ],
             [
              0.7777777777777778,
              "#fb9f3a"
             ],
             [
              0.8888888888888888,
              "#fdca26"
             ],
             [
              1,
              "#f0f921"
             ]
            ],
            "type": "contour"
           }
          ],
          "contourcarpet": [
           {
            "colorbar": {
             "outlinewidth": 0,
             "ticks": ""
            },
            "type": "contourcarpet"
           }
          ],
          "heatmap": [
           {
            "colorbar": {
             "outlinewidth": 0,
             "ticks": ""
            },
            "colorscale": [
             [
              0,
              "#0d0887"
             ],
             [
              0.1111111111111111,
              "#46039f"
             ],
             [
              0.2222222222222222,
              "#7201a8"
             ],
             [
              0.3333333333333333,
              "#9c179e"
             ],
             [
              0.4444444444444444,
              "#bd3786"
             ],
             [
              0.5555555555555556,
              "#d8576b"
             ],
             [
              0.6666666666666666,
              "#ed7953"
             ],
             [
              0.7777777777777778,
              "#fb9f3a"
             ],
             [
              0.8888888888888888,
              "#fdca26"
             ],
             [
              1,
              "#f0f921"
             ]
            ],
            "type": "heatmap"
           }
          ],
          "heatmapgl": [
           {
            "colorbar": {
             "outlinewidth": 0,
             "ticks": ""
            },
            "colorscale": [
             [
              0,
              "#0d0887"
             ],
             [
              0.1111111111111111,
              "#46039f"
             ],
             [
              0.2222222222222222,
              "#7201a8"
             ],
             [
              0.3333333333333333,
              "#9c179e"
             ],
             [
              0.4444444444444444,
              "#bd3786"
             ],
             [
              0.5555555555555556,
              "#d8576b"
             ],
             [
              0.6666666666666666,
              "#ed7953"
             ],
             [
              0.7777777777777778,
              "#fb9f3a"
             ],
             [
              0.8888888888888888,
              "#fdca26"
             ],
             [
              1,
              "#f0f921"
             ]
            ],
            "type": "heatmapgl"
           }
          ],
          "histogram": [
           {
            "marker": {
             "pattern": {
              "fillmode": "overlay",
              "size": 10,
              "solidity": 0.2
             }
            },
            "type": "histogram"
           }
          ],
          "histogram2d": [
           {
            "colorbar": {
             "outlinewidth": 0,
             "ticks": ""
            },
            "colorscale": [
             [
              0,
              "#0d0887"
             ],
             [
              0.1111111111111111,
              "#46039f"
             ],
             [
              0.2222222222222222,
              "#7201a8"
             ],
             [
              0.3333333333333333,
              "#9c179e"
             ],
             [
              0.4444444444444444,
              "#bd3786"
             ],
             [
              0.5555555555555556,
              "#d8576b"
             ],
             [
              0.6666666666666666,
              "#ed7953"
             ],
             [
              0.7777777777777778,
              "#fb9f3a"
             ],
             [
              0.8888888888888888,
              "#fdca26"
             ],
             [
              1,
              "#f0f921"
             ]
            ],
            "type": "histogram2d"
           }
          ],
          "histogram2dcontour": [
           {
            "colorbar": {
             "outlinewidth": 0,
             "ticks": ""
            },
            "colorscale": [
             [
              0,
              "#0d0887"
             ],
             [
              0.1111111111111111,
              "#46039f"
             ],
             [
              0.2222222222222222,
              "#7201a8"
             ],
             [
              0.3333333333333333,
              "#9c179e"
             ],
             [
              0.4444444444444444,
              "#bd3786"
             ],
             [
              0.5555555555555556,
              "#d8576b"
             ],
             [
              0.6666666666666666,
              "#ed7953"
             ],
             [
              0.7777777777777778,
              "#fb9f3a"
             ],
             [
              0.8888888888888888,
              "#fdca26"
             ],
             [
              1,
              "#f0f921"
             ]
            ],
            "type": "histogram2dcontour"
           }
          ],
          "mesh3d": [
           {
            "colorbar": {
             "outlinewidth": 0,
             "ticks": ""
            },
            "type": "mesh3d"
           }
          ],
          "parcoords": [
           {
            "line": {
             "colorbar": {
              "outlinewidth": 0,
              "ticks": ""
             }
            },
            "type": "parcoords"
           }
          ],
          "pie": [
           {
            "automargin": true,
            "type": "pie"
           }
          ],
          "scatter": [
           {
            "fillpattern": {
             "fillmode": "overlay",
             "size": 10,
             "solidity": 0.2
            },
            "type": "scatter"
           }
          ],
          "scatter3d": [
           {
            "line": {
             "colorbar": {
              "outlinewidth": 0,
              "ticks": ""
             }
            },
            "marker": {
             "colorbar": {
              "outlinewidth": 0,
              "ticks": ""
             }
            },
            "type": "scatter3d"
           }
          ],
          "scattercarpet": [
           {
            "marker": {
             "colorbar": {
              "outlinewidth": 0,
              "ticks": ""
             }
            },
            "type": "scattercarpet"
           }
          ],
          "scattergeo": [
           {
            "marker": {
             "colorbar": {
              "outlinewidth": 0,
              "ticks": ""
             }
            },
            "type": "scattergeo"
           }
          ],
          "scattergl": [
           {
            "marker": {
             "colorbar": {
              "outlinewidth": 0,
              "ticks": ""
             }
            },
            "type": "scattergl"
           }
          ],
          "scattermapbox": [
           {
            "marker": {
             "colorbar": {
              "outlinewidth": 0,
              "ticks": ""
             }
            },
            "type": "scattermapbox"
           }
          ],
          "scatterpolar": [
           {
            "marker": {
             "colorbar": {
              "outlinewidth": 0,
              "ticks": ""
             }
            },
            "type": "scatterpolar"
           }
          ],
          "scatterpolargl": [
           {
            "marker": {
             "colorbar": {
              "outlinewidth": 0,
              "ticks": ""
             }
            },
            "type": "scatterpolargl"
           }
          ],
          "scatterternary": [
           {
            "marker": {
             "colorbar": {
              "outlinewidth": 0,
              "ticks": ""
             }
            },
            "type": "scatterternary"
           }
          ],
          "surface": [
           {
            "colorbar": {
             "outlinewidth": 0,
             "ticks": ""
            },
            "colorscale": [
             [
              0,
              "#0d0887"
             ],
             [
              0.1111111111111111,
              "#46039f"
             ],
             [
              0.2222222222222222,
              "#7201a8"
             ],
             [
              0.3333333333333333,
              "#9c179e"
             ],
             [
              0.4444444444444444,
              "#bd3786"
             ],
             [
              0.5555555555555556,
              "#d8576b"
             ],
             [
              0.6666666666666666,
              "#ed7953"
             ],
             [
              0.7777777777777778,
              "#fb9f3a"
             ],
             [
              0.8888888888888888,
              "#fdca26"
             ],
             [
              1,
              "#f0f921"
             ]
            ],
            "type": "surface"
           }
          ],
          "table": [
           {
            "cells": {
             "fill": {
              "color": "#EBF0F8"
             },
             "line": {
              "color": "white"
             }
            },
            "header": {
             "fill": {
              "color": "#C8D4E3"
             },
             "line": {
              "color": "white"
             }
            },
            "type": "table"
           }
          ]
         },
         "layout": {
          "annotationdefaults": {
           "arrowcolor": "#2a3f5f",
           "arrowhead": 0,
           "arrowwidth": 1
          },
          "autotypenumbers": "strict",
          "coloraxis": {
           "colorbar": {
            "outlinewidth": 0,
            "ticks": ""
           }
          },
          "colorscale": {
           "diverging": [
            [
             0,
             "#8e0152"
            ],
            [
             0.1,
             "#c51b7d"
            ],
            [
             0.2,
             "#de77ae"
            ],
            [
             0.3,
             "#f1b6da"
            ],
            [
             0.4,
             "#fde0ef"
            ],
            [
             0.5,
             "#f7f7f7"
            ],
            [
             0.6,
             "#e6f5d0"
            ],
            [
             0.7,
             "#b8e186"
            ],
            [
             0.8,
             "#7fbc41"
            ],
            [
             0.9,
             "#4d9221"
            ],
            [
             1,
             "#276419"
            ]
           ],
           "sequential": [
            [
             0,
             "#0d0887"
            ],
            [
             0.1111111111111111,
             "#46039f"
            ],
            [
             0.2222222222222222,
             "#7201a8"
            ],
            [
             0.3333333333333333,
             "#9c179e"
            ],
            [
             0.4444444444444444,
             "#bd3786"
            ],
            [
             0.5555555555555556,
             "#d8576b"
            ],
            [
             0.6666666666666666,
             "#ed7953"
            ],
            [
             0.7777777777777778,
             "#fb9f3a"
            ],
            [
             0.8888888888888888,
             "#fdca26"
            ],
            [
             1,
             "#f0f921"
            ]
           ],
           "sequentialminus": [
            [
             0,
             "#0d0887"
            ],
            [
             0.1111111111111111,
             "#46039f"
            ],
            [
             0.2222222222222222,
             "#7201a8"
            ],
            [
             0.3333333333333333,
             "#9c179e"
            ],
            [
             0.4444444444444444,
             "#bd3786"
            ],
            [
             0.5555555555555556,
             "#d8576b"
            ],
            [
             0.6666666666666666,
             "#ed7953"
            ],
            [
             0.7777777777777778,
             "#fb9f3a"
            ],
            [
             0.8888888888888888,
             "#fdca26"
            ],
            [
             1,
             "#f0f921"
            ]
           ]
          },
          "colorway": [
           "#636efa",
           "#EF553B",
           "#00cc96",
           "#ab63fa",
           "#FFA15A",
           "#19d3f3",
           "#FF6692",
           "#B6E880",
           "#FF97FF",
           "#FECB52"
          ],
          "font": {
           "color": "#2a3f5f"
          },
          "geo": {
           "bgcolor": "white",
           "lakecolor": "white",
           "landcolor": "#E5ECF6",
           "showlakes": true,
           "showland": true,
           "subunitcolor": "white"
          },
          "hoverlabel": {
           "align": "left"
          },
          "hovermode": "closest",
          "mapbox": {
           "style": "light"
          },
          "paper_bgcolor": "white",
          "plot_bgcolor": "#E5ECF6",
          "polar": {
           "angularaxis": {
            "gridcolor": "white",
            "linecolor": "white",
            "ticks": ""
           },
           "bgcolor": "#E5ECF6",
           "radialaxis": {
            "gridcolor": "white",
            "linecolor": "white",
            "ticks": ""
           }
          },
          "scene": {
           "xaxis": {
            "backgroundcolor": "#E5ECF6",
            "gridcolor": "white",
            "gridwidth": 2,
            "linecolor": "white",
            "showbackground": true,
            "ticks": "",
            "zerolinecolor": "white"
           },
           "yaxis": {
            "backgroundcolor": "#E5ECF6",
            "gridcolor": "white",
            "gridwidth": 2,
            "linecolor": "white",
            "showbackground": true,
            "ticks": "",
            "zerolinecolor": "white"
           },
           "zaxis": {
            "backgroundcolor": "#E5ECF6",
            "gridcolor": "white",
            "gridwidth": 2,
            "linecolor": "white",
            "showbackground": true,
            "ticks": "",
            "zerolinecolor": "white"
           }
          },
          "shapedefaults": {
           "line": {
            "color": "#2a3f5f"
           }
          },
          "ternary": {
           "aaxis": {
            "gridcolor": "white",
            "linecolor": "white",
            "ticks": ""
           },
           "baxis": {
            "gridcolor": "white",
            "linecolor": "white",
            "ticks": ""
           },
           "bgcolor": "#E5ECF6",
           "caxis": {
            "gridcolor": "white",
            "linecolor": "white",
            "ticks": ""
           }
          },
          "title": {
           "x": 0.05
          },
          "xaxis": {
           "automargin": true,
           "gridcolor": "white",
           "linecolor": "white",
           "ticks": "",
           "title": {
            "standoff": 15
           },
           "zerolinecolor": "white",
           "zerolinewidth": 2
          },
          "yaxis": {
           "automargin": true,
           "gridcolor": "white",
           "linecolor": "white",
           "ticks": "",
           "title": {
            "standoff": 15
           },
           "zerolinecolor": "white",
           "zerolinewidth": 2
          }
         }
        }
       }
      },
      "text/html": [
       "<div>                            <div id=\"4964c29b-fa50-42ed-a856-2f0bc00d020e\" class=\"plotly-graph-div\" style=\"height:525px; width:100%;\"></div>            <script type=\"text/javascript\">                require([\"plotly\"], function(Plotly) {                    window.PLOTLYENV=window.PLOTLYENV || {};                                    if (document.getElementById(\"4964c29b-fa50-42ed-a856-2f0bc00d020e\")) {                    Plotly.newPlot(                        \"4964c29b-fa50-42ed-a856-2f0bc00d020e\",                        [{\"domain\":{\"x\":[0.0,1.0],\"y\":[0.0,1.0]},\"hole\":0.3,\"hovertemplate\":\"Type=%{label}<br>Count=%{value}<extra></extra>\",\"labels\":[\"earthquake\",\"quarry blast\",\"explosion\",\"ice quake\",\"mining explosion\",\"other event\"],\"legendgroup\":\"\",\"name\":\"\",\"showlegend\":true,\"values\":[28636,327,177,138,73,6],\"type\":\"pie\"}],                        {\"template\":{\"data\":{\"histogram2dcontour\":[{\"type\":\"histogram2dcontour\",\"colorbar\":{\"outlinewidth\":0,\"ticks\":\"\"},\"colorscale\":[[0.0,\"#0d0887\"],[0.1111111111111111,\"#46039f\"],[0.2222222222222222,\"#7201a8\"],[0.3333333333333333,\"#9c179e\"],[0.4444444444444444,\"#bd3786\"],[0.5555555555555556,\"#d8576b\"],[0.6666666666666666,\"#ed7953\"],[0.7777777777777778,\"#fb9f3a\"],[0.8888888888888888,\"#fdca26\"],[1.0,\"#f0f921\"]]}],\"choropleth\":[{\"type\":\"choropleth\",\"colorbar\":{\"outlinewidth\":0,\"ticks\":\"\"}}],\"histogram2d\":[{\"type\":\"histogram2d\",\"colorbar\":{\"outlinewidth\":0,\"ticks\":\"\"},\"colorscale\":[[0.0,\"#0d0887\"],[0.1111111111111111,\"#46039f\"],[0.2222222222222222,\"#7201a8\"],[0.3333333333333333,\"#9c179e\"],[0.4444444444444444,\"#bd3786\"],[0.5555555555555556,\"#d8576b\"],[0.6666666666666666,\"#ed7953\"],[0.7777777777777778,\"#fb9f3a\"],[0.8888888888888888,\"#fdca26\"],[1.0,\"#f0f921\"]]}],\"heatmap\":[{\"type\":\"heatmap\",\"colorbar\":{\"outlinewidth\":0,\"ticks\":\"\"},\"colorscale\":[[0.0,\"#0d0887\"],[0.1111111111111111,\"#46039f\"],[0.2222222222222222,\"#7201a8\"],[0.3333333333333333,\"#9c179e\"],[0.4444444444444444,\"#bd3786\"],[0.5555555555555556,\"#d8576b\"],[0.6666666666666666,\"#ed7953\"],[0.7777777777777778,\"#fb9f3a\"],[0.8888888888888888,\"#fdca26\"],[1.0,\"#f0f921\"]]}],\"heatmapgl\":[{\"type\":\"heatmapgl\",\"colorbar\":{\"outlinewidth\":0,\"ticks\":\"\"},\"colorscale\":[[0.0,\"#0d0887\"],[0.1111111111111111,\"#46039f\"],[0.2222222222222222,\"#7201a8\"],[0.3333333333333333,\"#9c179e\"],[0.4444444444444444,\"#bd3786\"],[0.5555555555555556,\"#d8576b\"],[0.6666666666666666,\"#ed7953\"],[0.7777777777777778,\"#fb9f3a\"],[0.8888888888888888,\"#fdca26\"],[1.0,\"#f0f921\"]]}],\"contourcarpet\":[{\"type\":\"contourcarpet\",\"colorbar\":{\"outlinewidth\":0,\"ticks\":\"\"}}],\"contour\":[{\"type\":\"contour\",\"colorbar\":{\"outlinewidth\":0,\"ticks\":\"\"},\"colorscale\":[[0.0,\"#0d0887\"],[0.1111111111111111,\"#46039f\"],[0.2222222222222222,\"#7201a8\"],[0.3333333333333333,\"#9c179e\"],[0.4444444444444444,\"#bd3786\"],[0.5555555555555556,\"#d8576b\"],[0.6666666666666666,\"#ed7953\"],[0.7777777777777778,\"#fb9f3a\"],[0.8888888888888888,\"#fdca26\"],[1.0,\"#f0f921\"]]}],\"surface\":[{\"type\":\"surface\",\"colorbar\":{\"outlinewidth\":0,\"ticks\":\"\"},\"colorscale\":[[0.0,\"#0d0887\"],[0.1111111111111111,\"#46039f\"],[0.2222222222222222,\"#7201a8\"],[0.3333333333333333,\"#9c179e\"],[0.4444444444444444,\"#bd3786\"],[0.5555555555555556,\"#d8576b\"],[0.6666666666666666,\"#ed7953\"],[0.7777777777777778,\"#fb9f3a\"],[0.8888888888888888,\"#fdca26\"],[1.0,\"#f0f921\"]]}],\"mesh3d\":[{\"type\":\"mesh3d\",\"colorbar\":{\"outlinewidth\":0,\"ticks\":\"\"}}],\"scatter\":[{\"fillpattern\":{\"fillmode\":\"overlay\",\"size\":10,\"solidity\":0.2},\"type\":\"scatter\"}],\"parcoords\":[{\"type\":\"parcoords\",\"line\":{\"colorbar\":{\"outlinewidth\":0,\"ticks\":\"\"}}}],\"scatterpolargl\":[{\"type\":\"scatterpolargl\",\"marker\":{\"colorbar\":{\"outlinewidth\":0,\"ticks\":\"\"}}}],\"bar\":[{\"error_x\":{\"color\":\"#2a3f5f\"},\"error_y\":{\"color\":\"#2a3f5f\"},\"marker\":{\"line\":{\"color\":\"#E5ECF6\",\"width\":0.5},\"pattern\":{\"fillmode\":\"overlay\",\"size\":10,\"solidity\":0.2}},\"type\":\"bar\"}],\"scattergeo\":[{\"type\":\"scattergeo\",\"marker\":{\"colorbar\":{\"outlinewidth\":0,\"ticks\":\"\"}}}],\"scatterpolar\":[{\"type\":\"scatterpolar\",\"marker\":{\"colorbar\":{\"outlinewidth\":0,\"ticks\":\"\"}}}],\"histogram\":[{\"marker\":{\"pattern\":{\"fillmode\":\"overlay\",\"size\":10,\"solidity\":0.2}},\"type\":\"histogram\"}],\"scattergl\":[{\"type\":\"scattergl\",\"marker\":{\"colorbar\":{\"outlinewidth\":0,\"ticks\":\"\"}}}],\"scatter3d\":[{\"type\":\"scatter3d\",\"line\":{\"colorbar\":{\"outlinewidth\":0,\"ticks\":\"\"}},\"marker\":{\"colorbar\":{\"outlinewidth\":0,\"ticks\":\"\"}}}],\"scattermapbox\":[{\"type\":\"scattermapbox\",\"marker\":{\"colorbar\":{\"outlinewidth\":0,\"ticks\":\"\"}}}],\"scatterternary\":[{\"type\":\"scatterternary\",\"marker\":{\"colorbar\":{\"outlinewidth\":0,\"ticks\":\"\"}}}],\"scattercarpet\":[{\"type\":\"scattercarpet\",\"marker\":{\"colorbar\":{\"outlinewidth\":0,\"ticks\":\"\"}}}],\"carpet\":[{\"aaxis\":{\"endlinecolor\":\"#2a3f5f\",\"gridcolor\":\"white\",\"linecolor\":\"white\",\"minorgridcolor\":\"white\",\"startlinecolor\":\"#2a3f5f\"},\"baxis\":{\"endlinecolor\":\"#2a3f5f\",\"gridcolor\":\"white\",\"linecolor\":\"white\",\"minorgridcolor\":\"white\",\"startlinecolor\":\"#2a3f5f\"},\"type\":\"carpet\"}],\"table\":[{\"cells\":{\"fill\":{\"color\":\"#EBF0F8\"},\"line\":{\"color\":\"white\"}},\"header\":{\"fill\":{\"color\":\"#C8D4E3\"},\"line\":{\"color\":\"white\"}},\"type\":\"table\"}],\"barpolar\":[{\"marker\":{\"line\":{\"color\":\"#E5ECF6\",\"width\":0.5},\"pattern\":{\"fillmode\":\"overlay\",\"size\":10,\"solidity\":0.2}},\"type\":\"barpolar\"}],\"pie\":[{\"automargin\":true,\"type\":\"pie\"}]},\"layout\":{\"autotypenumbers\":\"strict\",\"colorway\":[\"#636efa\",\"#EF553B\",\"#00cc96\",\"#ab63fa\",\"#FFA15A\",\"#19d3f3\",\"#FF6692\",\"#B6E880\",\"#FF97FF\",\"#FECB52\"],\"font\":{\"color\":\"#2a3f5f\"},\"hovermode\":\"closest\",\"hoverlabel\":{\"align\":\"left\"},\"paper_bgcolor\":\"white\",\"plot_bgcolor\":\"#E5ECF6\",\"polar\":{\"bgcolor\":\"#E5ECF6\",\"angularaxis\":{\"gridcolor\":\"white\",\"linecolor\":\"white\",\"ticks\":\"\"},\"radialaxis\":{\"gridcolor\":\"white\",\"linecolor\":\"white\",\"ticks\":\"\"}},\"ternary\":{\"bgcolor\":\"#E5ECF6\",\"aaxis\":{\"gridcolor\":\"white\",\"linecolor\":\"white\",\"ticks\":\"\"},\"baxis\":{\"gridcolor\":\"white\",\"linecolor\":\"white\",\"ticks\":\"\"},\"caxis\":{\"gridcolor\":\"white\",\"linecolor\":\"white\",\"ticks\":\"\"}},\"coloraxis\":{\"colorbar\":{\"outlinewidth\":0,\"ticks\":\"\"}},\"colorscale\":{\"sequential\":[[0.0,\"#0d0887\"],[0.1111111111111111,\"#46039f\"],[0.2222222222222222,\"#7201a8\"],[0.3333333333333333,\"#9c179e\"],[0.4444444444444444,\"#bd3786\"],[0.5555555555555556,\"#d8576b\"],[0.6666666666666666,\"#ed7953\"],[0.7777777777777778,\"#fb9f3a\"],[0.8888888888888888,\"#fdca26\"],[1.0,\"#f0f921\"]],\"sequentialminus\":[[0.0,\"#0d0887\"],[0.1111111111111111,\"#46039f\"],[0.2222222222222222,\"#7201a8\"],[0.3333333333333333,\"#9c179e\"],[0.4444444444444444,\"#bd3786\"],[0.5555555555555556,\"#d8576b\"],[0.6666666666666666,\"#ed7953\"],[0.7777777777777778,\"#fb9f3a\"],[0.8888888888888888,\"#fdca26\"],[1.0,\"#f0f921\"]],\"diverging\":[[0,\"#8e0152\"],[0.1,\"#c51b7d\"],[0.2,\"#de77ae\"],[0.3,\"#f1b6da\"],[0.4,\"#fde0ef\"],[0.5,\"#f7f7f7\"],[0.6,\"#e6f5d0\"],[0.7,\"#b8e186\"],[0.8,\"#7fbc41\"],[0.9,\"#4d9221\"],[1,\"#276419\"]]},\"xaxis\":{\"gridcolor\":\"white\",\"linecolor\":\"white\",\"ticks\":\"\",\"title\":{\"standoff\":15},\"zerolinecolor\":\"white\",\"automargin\":true,\"zerolinewidth\":2},\"yaxis\":{\"gridcolor\":\"white\",\"linecolor\":\"white\",\"ticks\":\"\",\"title\":{\"standoff\":15},\"zerolinecolor\":\"white\",\"automargin\":true,\"zerolinewidth\":2},\"scene\":{\"xaxis\":{\"backgroundcolor\":\"#E5ECF6\",\"gridcolor\":\"white\",\"linecolor\":\"white\",\"showbackground\":true,\"ticks\":\"\",\"zerolinecolor\":\"white\",\"gridwidth\":2},\"yaxis\":{\"backgroundcolor\":\"#E5ECF6\",\"gridcolor\":\"white\",\"linecolor\":\"white\",\"showbackground\":true,\"ticks\":\"\",\"zerolinecolor\":\"white\",\"gridwidth\":2},\"zaxis\":{\"backgroundcolor\":\"#E5ECF6\",\"gridcolor\":\"white\",\"linecolor\":\"white\",\"showbackground\":true,\"ticks\":\"\",\"zerolinecolor\":\"white\",\"gridwidth\":2}},\"shapedefaults\":{\"line\":{\"color\":\"#2a3f5f\"}},\"annotationdefaults\":{\"arrowcolor\":\"#2a3f5f\",\"arrowhead\":0,\"arrowwidth\":1},\"geo\":{\"bgcolor\":\"white\",\"landcolor\":\"#E5ECF6\",\"subunitcolor\":\"white\",\"showland\":true,\"showlakes\":true,\"lakecolor\":\"white\"},\"title\":{\"x\":0.05},\"mapbox\":{\"style\":\"light\"}}},\"legend\":{\"tracegroupgap\":0},\"margin\":{\"t\":60}},                        {\"responsive\": true}                    ).then(function(){\n",
       "                            \n",
       "var gd = document.getElementById('4964c29b-fa50-42ed-a856-2f0bc00d020e');\n",
       "var x = new MutationObserver(function (mutations, observer) {{\n",
       "        var display = window.getComputedStyle(gd).display;\n",
       "        if (!display || display === 'none') {{\n",
       "            console.log([gd, 'removed!']);\n",
       "            Plotly.purge(gd);\n",
       "            observer.disconnect();\n",
       "        }}\n",
       "}});\n",
       "\n",
       "// Listen for the removal of the full notebook cells\n",
       "var notebookContainer = gd.closest('#notebook-container');\n",
       "if (notebookContainer) {{\n",
       "    x.observe(notebookContainer, {childList: true});\n",
       "}}\n",
       "\n",
       "// Listen for the clearing of the current output cell\n",
       "var outputEl = gd.closest('.output');\n",
       "if (outputEl) {{\n",
       "    x.observe(outputEl, {childList: true});\n",
       "}}\n",
       "\n",
       "                        })                };                });            </script>        </div>"
      ]
     },
     "metadata": {},
     "output_type": "display_data"
    }
   ],
   "source": [
    "fig.show()"
   ]
  }
 ],
 "metadata": {
  "kernelspec": {
   "display_name": "Python 3 (ipykernel)",
   "language": "python",
   "name": "python3"
  },
  "language_info": {
   "codemirror_mode": {
    "name": "ipython",
    "version": 3
   },
   "file_extension": ".py",
   "mimetype": "text/x-python",
   "name": "python",
   "nbconvert_exporter": "python",
   "pygments_lexer": "ipython3",
   "version": "3.10.6"
  }
 },
 "nbformat": 4,
 "nbformat_minor": 5
}
