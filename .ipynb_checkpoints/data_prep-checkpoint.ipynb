{
 "cells": [
  {
   "cell_type": "code",
   "execution_count": 1,
   "id": "db63d4a9",
   "metadata": {},
   "outputs": [
    {
     "ename": "ModuleNotFoundError",
     "evalue": "No module named 'pandas'",
     "output_type": "error",
     "traceback": [
      "\u001b[0;31m---------------------------------------------------------------------------\u001b[0m",
      "\u001b[0;31mModuleNotFoundError\u001b[0m                       Traceback (most recent call last)",
      "Cell \u001b[0;32mIn [1], line 1\u001b[0m\n\u001b[0;32m----> 1\u001b[0m \u001b[38;5;28;01mimport\u001b[39;00m \u001b[38;5;21;01mpandas\u001b[39;00m \u001b[38;5;28;01mas\u001b[39;00m \u001b[38;5;21;01mpd\u001b[39;00m\n",
      "\u001b[0;31mModuleNotFoundError\u001b[0m: No module named 'pandas'"
     ]
    }
   ],
   "source": [
    "import pandas as pd"
   ]
  },
  {
   "cell_type": "code",
   "execution_count": null,
   "id": "68c7a52c",
   "metadata": {},
   "outputs": [],
   "source": [
    "def csv_to_df(file):\n",
    "    return pd.read_csv(\n",
    "        file,\n",
    "        parse_dates=[\"time\"],\n",
    "        usecols=[\n",
    "            \"id\",\n",
    "            \"time\",\n",
    "            \"latitude\",\n",
    "            \"longitude\",\n",
    "            \"mag\",\n",
    "            \"magType\",\n",
    "            \"place\",\n",
    "            \"type\",\n",
    "            \"status\",\n",
    "            \"locationSource\",\n",
    "            \"state\",\n",
    "        ],\n",
    "    )"
   ]
  },
  {
   "cell_type": "code",
   "execution_count": null,
   "id": "7947763e",
   "metadata": {},
   "outputs": [],
   "source": [
    "jan = csv_to_df(\"datasets/jan-enriched.csv\")\n",
    "feb = csv_to_df(\"datasets/feb-enriched.csv\")\n",
    "mar = csv_to_df(\"datasets/mar-enriched.csv\")"
   ]
  },
  {
   "cell_type": "code",
   "execution_count": null,
   "id": "49da57f4",
   "metadata": {},
   "outputs": [],
   "source": [
    "sum(size for (size, _) in (jan.shape, feb.shape, mar.shape))"
   ]
  },
  {
   "cell_type": "code",
   "execution_count": null,
   "id": "1dc775e9",
   "metadata": {},
   "outputs": [],
   "source": [
    "earthquakes = pd.concat([jan, feb, mar])"
   ]
  },
  {
   "cell_type": "code",
   "execution_count": null,
   "id": "39d5de4e",
   "metadata": {},
   "outputs": [],
   "source": [
    "earthquakes.info()"
   ]
  },
  {
   "cell_type": "code",
   "execution_count": null,
   "id": "a3cf1f85",
   "metadata": {},
   "outputs": [],
   "source": [
    "earthquakes.nunique()"
   ]
  },
  {
   "cell_type": "code",
   "execution_count": null,
   "id": "8f86b96e",
   "metadata": {},
   "outputs": [],
   "source": [
    "earthquakes[\"state\"].unique()"
   ]
  },
  {
   "cell_type": "code",
   "execution_count": null,
   "id": "0a701280",
   "metadata": {},
   "outputs": [],
   "source": [
    "# We see states for countries other than the USA. Also, the states field reports null for islands and stuff.\n",
    "#So dropping countries other than the USA.\n",
    "us_earthquakes = earthquakes[earthquakes[\"state\"].str.startswith(\"US\", na=False)]"
   ]
  },
  {
   "cell_type": "code",
   "execution_count": null,
   "id": "4128cdd8",
   "metadata": {},
   "outputs": [],
   "source": [
    "us_earthquakes.nunique()"
   ]
  },
  {
   "cell_type": "code",
   "execution_count": null,
   "id": "2c89bbde",
   "metadata": {},
   "outputs": [],
   "source": [
    "us_earthquakes[us_earthquakes[\"mag\"].isnull()]"
   ]
  },
  {
   "cell_type": "code",
   "execution_count": null,
   "id": "4509a763",
   "metadata": {},
   "outputs": [],
   "source": [
    "# Dropping earthquakes with missing magnitude values\n",
    "us_earthquakes = us_earthquakes.dropna(subset=[\"mag\"])"
   ]
  },
  {
   "cell_type": "code",
   "execution_count": null,
   "id": "632abc08",
   "metadata": {},
   "outputs": [],
   "source": [
    "# Extracting state code from state data and month from time.\n",
    "us_earthquakes = us_earthquakes.assign(\n",
    "    state_code=us_earthquakes[\"state\"].str.split(\"-\").str.get(-1).str.strip(),\n",
    "    month=us_earthquakes[\"time\"].dt.month_name()\n",
    ")"
   ]
  },
  {
   "cell_type": "code",
   "execution_count": null,
   "id": "02e75e86",
   "metadata": {},
   "outputs": [],
   "source": [
    "us_earthquakes.head()"
   ]
  },
  {
   "cell_type": "code",
   "execution_count": null,
   "id": "0362a3bc",
   "metadata": {},
   "outputs": [],
   "source": [
    "us_earthquakes.info()"
   ]
  },
  {
   "cell_type": "code",
   "execution_count": null,
   "id": "d69ee1fd",
   "metadata": {},
   "outputs": [],
   "source": [
    "# Converting values to appropriate type"
   ]
  },
  {
   "cell_type": "code",
   "execution_count": null,
   "id": "1e2c838c",
   "metadata": {},
   "outputs": [],
   "source": [
    "us_earthquakes.nunique()"
   ]
  },
  {
   "cell_type": "code",
   "execution_count": null,
   "id": "4003d428",
   "metadata": {},
   "outputs": [],
   "source": [
    "us_earthquakes[\"magType\"] = us_earthquakes[\"magType\"].astype(\"category\")\n",
    "us_earthquakes[\"type\"] = us_earthquakes[\"type\"].astype(\"category\")\n",
    "us_earthquakes[\"status\"] = us_earthquakes[\"status\"].astype(\"category\")\n",
    "us_earthquakes[\"locationSource\"] = us_earthquakes[\"locationSource\"].astype(\"category\")\n",
    "us_earthquakes[\"state\"] = us_earthquakes[\"state\"].astype(\"category\")\n",
    "us_earthquakes[\"state_code\"] = us_earthquakes[\"state_code\"].astype(\"category\")\n",
    "us_earthquakes[\"month\"] = us_earthquakes[\"month\"].astype(\"category\")"
   ]
  },
  {
   "cell_type": "code",
   "execution_count": null,
   "id": "7f39c70c",
   "metadata": {},
   "outputs": [],
   "source": [
    "us_earthquakes.info()"
   ]
  },
  {
   "cell_type": "code",
   "execution_count": null,
   "id": "f1a2b638",
   "metadata": {},
   "outputs": [],
   "source": [
    "us_earthquakes.sample(5)"
   ]
  },
  {
   "cell_type": "code",
   "execution_count": null,
   "id": "a573cf92",
   "metadata": {},
   "outputs": [],
   "source": [
    "us_earthquakes.to_csv(\"datasets/us_earthquakes.csv\", index=False)"
   ]
  }
 ],
 "metadata": {
  "kernelspec": {
   "display_name": "Python 3 (ipykernel)",
   "language": "python",
   "name": "python3"
  },
  "language_info": {
   "codemirror_mode": {
    "name": "ipython",
    "version": 3
   },
   "file_extension": ".py",
   "mimetype": "text/x-python",
   "name": "python",
   "nbconvert_exporter": "python",
   "pygments_lexer": "ipython3",
   "version": "3.10.6"
  }
 },
 "nbformat": 4,
 "nbformat_minor": 5
}
