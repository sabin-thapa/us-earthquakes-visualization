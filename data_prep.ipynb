{
 "cells": [
  {
   "cell_type": "code",
   "execution_count": 1,
   "id": "db63d4a9",
   "metadata": {},
   "outputs": [],
   "source": [
    "import pandas as pd"
   ]
  },
  {
   "cell_type": "code",
   "execution_count": 2,
   "id": "68c7a52c",
   "metadata": {},
   "outputs": [],
   "source": [
    "def csv_to_df(file):\n",
    "    return pd.read_csv(\n",
    "        file,\n",
    "        parse_dates=[\"time\"],\n",
    "        usecols=[\n",
    "            \"id\",\n",
    "            \"time\",\n",
    "            \"latitude\",\n",
    "            \"longitude\",\n",
    "            \"mag\",\n",
    "            \"magType\",\n",
    "            \"place\",\n",
    "            \"type\",\n",
    "            \"status\",\n",
    "            \"locationSource\",\n",
    "            \"state\",\n",
    "        ],\n",
    "    )"
   ]
  },
  {
   "cell_type": "code",
   "execution_count": 3,
   "id": "7947763e",
   "metadata": {},
   "outputs": [],
   "source": [
    "jan = csv_to_df(\"datasets/jan-enriched.csv\")\n",
    "feb = csv_to_df(\"datasets/feb-enriched.csv\")\n",
    "mar = csv_to_df(\"datasets/mar-enriched.csv\")"
   ]
  },
  {
   "cell_type": "code",
   "execution_count": 4,
   "id": "49da57f4",
   "metadata": {},
   "outputs": [
    {
     "data": {
      "text/plain": [
       "35919"
      ]
     },
     "execution_count": 4,
     "metadata": {},
     "output_type": "execute_result"
    }
   ],
   "source": [
    "sum(size for (size, _) in (jan.shape, feb.shape, mar.shape))"
   ]
  },
  {
   "cell_type": "code",
   "execution_count": 5,
   "id": "1dc775e9",
   "metadata": {},
   "outputs": [],
   "source": [
    "earthquakes = pd.concat([jan, feb, mar])"
   ]
  },
  {
   "cell_type": "code",
   "execution_count": 6,
   "id": "39d5de4e",
   "metadata": {},
   "outputs": [
    {
     "name": "stdout",
     "output_type": "stream",
     "text": [
      "<class 'pandas.core.frame.DataFrame'>\n",
      "Int64Index: 35919 entries, 0 to 12312\n",
      "Data columns (total 11 columns):\n",
      " #   Column          Non-Null Count  Dtype              \n",
      "---  ------          --------------  -----              \n",
      " 0   id              35919 non-null  object             \n",
      " 1   time            35919 non-null  datetime64[ns, UTC]\n",
      " 2   latitude        35919 non-null  float64            \n",
      " 3   longitude       35919 non-null  float64            \n",
      " 4   mag             35916 non-null  float64            \n",
      " 5   magType         35916 non-null  object             \n",
      " 6   place           35784 non-null  object             \n",
      " 7   type            35919 non-null  object             \n",
      " 8   status          35919 non-null  object             \n",
      " 9   locationSource  35919 non-null  object             \n",
      " 10  state           31375 non-null  object             \n",
      "dtypes: datetime64[ns, UTC](1), float64(3), object(7)\n",
      "memory usage: 3.3+ MB\n"
     ]
    }
   ],
   "source": [
    "earthquakes.info()"
   ]
  },
  {
   "cell_type": "code",
   "execution_count": 7,
   "id": "a3cf1f85",
   "metadata": {},
   "outputs": [
    {
     "data": {
      "text/plain": [
       "id                35919\n",
       "time              35914\n",
       "latitude          28270\n",
       "longitude         29491\n",
       "mag                 635\n",
       "magType              10\n",
       "place             16335\n",
       "type                  7\n",
       "status                2\n",
       "locationSource       15\n",
       "state               346\n",
       "dtype: int64"
      ]
     },
     "execution_count": 7,
     "metadata": {},
     "output_type": "execute_result"
    }
   ],
   "source": [
    "earthquakes.nunique()"
   ]
  },
  {
   "cell_type": "code",
   "execution_count": 8,
   "id": "8f86b96e",
   "metadata": {},
   "outputs": [
    {
     "data": {
      "text/plain": [
       "array(['US-OK', 'US-AK', 'US-CA', 'IR-18', 'ID-MA', 'US-HI', 'US-PR', nan,\n",
       "       'US-WA', 'CA-YT', 'CA-BC', 'US-MO', 'US-NV', 'ID-SN', 'US-UT',\n",
       "       'ID-NT', 'PG-WPD', 'US-ID', 'US-TX', 'AR-A', 'US-WY', 'FJ-E',\n",
       "       'CL-AT', 'PG-ESW', 'ID-SA', 'AF-BDS', 'VU-PAM', 'ID-AC', 'JP-26',\n",
       "       'DO-10', 'PG-EBR', 'ID-MU', 'US-MT', 'US-TN', 'US-KS', 'JP-02',\n",
       "       'PE-UCA', 'TO-02', 'PE-HUC', 'ID-PA', 'BO-P', 'HT-NI', 'MX-CHP',\n",
       "       'AR-K', 'PK-GB', 'US-OH', 'CN-SC', 'CL-RM', 'ID-BE', 'US-OR',\n",
       "       'SB-TE', 'US-MN', 'AF-TAK', 'CL-AP', 'RU-SAK', 'JP-23', 'MX-BCN',\n",
       "       'CL-AN', 'MX-JAL', 'JP-04', 'CL-TA', 'US-SC', 'PG-MPL', 'PG-WBK',\n",
       "       'CN-XJ', 'US-CT', 'JP-30', 'CR-A', 'US-CO', 'GL-KU', 'CA-NB',\n",
       "       'PG-NIK', 'AR-M', 'JP-08', 'PE-ICA', 'CN-QH', 'PH-BTG', 'DO-14',\n",
       "       'CO-SAN', 'CD-TA', 'AR-J', 'US-NM', 'HT-OU', 'TW-ILA', 'PG-MRL',\n",
       "       'CA-QC', 'PH-AKL', 'TO-03', 'CN-XZ', 'TJ-RA', 'AU-WA', 'ID-NB',\n",
       "       'IN-UT', 'PE-ARE', 'US-MP', 'ID-JI', 'MA-03', 'DO-11', 'IR-03',\n",
       "       'AF-BGL', 'PE-PUN', 'NZ-STL', 'MM-11', 'TO-04', 'HT-NO', 'IL-Z',\n",
       "       'JP-15', 'IR-22', 'VU-TAE', 'PH-CAV', 'TR-10', 'PG-MPM', 'MM-01',\n",
       "       'AR-Y', 'JP-44', 'JP-01', 'RU-KAM', 'IN-JK', 'PH-DAO', 'GT-JU',\n",
       "       'ID-JA', 'JP-16', 'US-AR', 'MM-14', 'MX-GRO', 'US-GA', 'NZ-BOP',\n",
       "       'PE-PAS', 'CN-LN', 'IR-10', 'ID-GO', 'VU-SAM', 'PG-SAN', 'VU-SEE',\n",
       "       'ID-SG', 'VE-R', 'AF-BAL', 'IR-17', 'ID-SB', 'CO-CAS', 'EC-F',\n",
       "       'US-AZ', 'PE-TAC', 'ZA-GP', 'IN-MN', 'PK-PB', 'TR-38', 'US-ME',\n",
       "       'VU-MAP', 'ID-PB', 'MN-065', 'AF-BDG', 'RU-CHU', 'VU-TOB', 'ID-BT',\n",
       "       'MX-OAX', 'US-SD', 'JP-46', 'PH-IFU', 'RO-VN', 'SB-MK', 'US-NH',\n",
       "       'IR-08', 'IR-04', 'CN-YN', 'PH-DVO', 'RU-BU', 'CR-P', 'JP-12',\n",
       "       'PL-02', 'JP-20', 'NZ-TKI', 'US-VI', 'PK-BA', 'US-NY', 'IQ-SU',\n",
       "       'CL-CO', 'ID-ST', 'PG-NPP', 'PH-MAS', 'NI-LE', 'TJ-GB', 'PH-BTN',\n",
       "       'TW-TXG', 'ID-JT', 'CN-GS', 'PE-LIM', 'BT-14', 'JP-28', 'ZA-NC',\n",
       "       'PH-CAG', 'IR-05', 'TO-05', 'CL-ML', 'IN-AN', 'PG-NSB', 'AR-F',\n",
       "       'CL-VS', 'TZ-23', 'PE-PIU', 'US-MA', 'GT-SM', 'BO-S', 'RU-SA',\n",
       "       'TL-AN', 'CL-LI', 'SB-WE', 'JP-07', 'NZ-HKB', 'IN-HP', 'SS-EE',\n",
       "       'TR-19', 'GT-ES', 'PH-SUR', 'CO-BOL', 'JP-03', 'TL-BO', 'GB-ENG',\n",
       "       'PH-DAS', 'EC-S', 'NZ-MBH', 'PH-SOR', 'PH-SAR', 'TR-59', 'NZ-CAN',\n",
       "       'IQ-WA', 'PK-KP', 'SB-IS', 'TL-OE', 'TZ-28', 'JP-47', 'US-KY',\n",
       "       'EC-Y', 'TZ-26', 'NI-RI', 'CD-IT', 'PH-NSA', 'TW-HUA', 'ID-SU',\n",
       "       'RU-TY', 'CL-NB', 'FJ-N', 'SV-SO', 'UG-430', 'CD-SK', 'AM-SH',\n",
       "       'CA-AB', 'NZ-WTC', 'SB-GU', 'TR-48', 'IR-24', 'BA-BIH', 'KG-O',\n",
       "       'US-VA', 'IT-45', 'PL-24', 'PH-DIN', 'CO-HUI', 'PA-7', 'TR-77',\n",
       "       'CO-CES', 'JP-14', 'ZA-FS', 'IT-52', 'PH-AUR', 'TL-MF', 'IR-07',\n",
       "       'AF-FYB', 'PE-LOR', 'EC-L', 'JP-21', 'BO-L', 'US-NC', 'EG-GZ',\n",
       "       'ES-CT', 'RU-KYA', 'ID-LA', 'PE-APU', 'AU-SA', 'TW-TTT', 'EC-E',\n",
       "       'TR-37', 'PA-4', 'KN-K', 'US-IL', 'PH-MDC', 'DO-23', 'JP-11',\n",
       "       'CO-CHO', 'TR-09', 'JP-17', 'TR-16', 'KG-J', 'DO-12', 'PE-AMA',\n",
       "       'PH-LEY', 'PE-CUS', 'TW-NAN', 'KZ-YUZ', 'DZ-53', 'CN-NM', 'NZ-MWT',\n",
       "       'BO-O', 'PE-MOQ', 'DZ-26', 'PH-ILS', 'JP-10', 'MX-NLE', 'AF-ZAB',\n",
       "       'ID-JB', 'TW-PIF', 'VE-J', 'GE-IM', 'DO-15', 'TR-02', 'MX-MIC',\n",
       "       'TJ-SU', 'LA-LP', 'ZA-MP', 'PH-AGS', 'PE-AYA', 'CN-GD', 'PA-EM',\n",
       "       'ID-SS', 'FR-ARA', 'ZM-06', 'PH-COM', 'IR-02', 'PA-5', 'ET-SO',\n",
       "       'CN-HL', 'AU-NT', 'MX-VER', 'MN-041', 'CL-LL', 'UG-406', 'LA-PH',\n",
       "       'PH-SUK', 'RU-MUR', 'IR-14', 'ZA-NW', 'MX-SON', 'PH-TAR', 'RU-KDA',\n",
       "       'AF-PAN', 'VE-L', 'ID-KS'], dtype=object)"
      ]
     },
     "execution_count": 8,
     "metadata": {},
     "output_type": "execute_result"
    }
   ],
   "source": [
    "earthquakes[\"state\"].unique()"
   ]
  },
  {
   "cell_type": "code",
   "execution_count": 9,
   "id": "0a701280",
   "metadata": {},
   "outputs": [],
   "source": [
    "# We see states for countries other than the USA. Also, the states field reports null for islands and stuff.\n",
    "#So dropping countries other than the USA.\n",
    "us_earthquakes = earthquakes[earthquakes[\"state\"].str.startswith(\"US\", na=False)]"
   ]
  },
  {
   "cell_type": "code",
   "execution_count": 10,
   "id": "4128cdd8",
   "metadata": {},
   "outputs": [
    {
     "data": {
      "text/plain": [
       "id                29360\n",
       "time              29355\n",
       "latitude          21909\n",
       "longitude         23051\n",
       "mag                 578\n",
       "magType               8\n",
       "place             12013\n",
       "type                  6\n",
       "status                2\n",
       "locationSource       15\n",
       "state                36\n",
       "dtype: int64"
      ]
     },
     "execution_count": 10,
     "metadata": {},
     "output_type": "execute_result"
    }
   ],
   "source": [
    "us_earthquakes.nunique()"
   ]
  },
  {
   "cell_type": "code",
   "execution_count": 11,
   "id": "2c89bbde",
   "metadata": {},
   "outputs": [
    {
     "data": {
      "text/html": [
       "<div>\n",
       "<style scoped>\n",
       "    .dataframe tbody tr th:only-of-type {\n",
       "        vertical-align: middle;\n",
       "    }\n",
       "\n",
       "    .dataframe tbody tr th {\n",
       "        vertical-align: top;\n",
       "    }\n",
       "\n",
       "    .dataframe thead th {\n",
       "        text-align: right;\n",
       "    }\n",
       "</style>\n",
       "<table border=\"1\" class=\"dataframe\">\n",
       "  <thead>\n",
       "    <tr style=\"text-align: right;\">\n",
       "      <th></th>\n",
       "      <th>id</th>\n",
       "      <th>time</th>\n",
       "      <th>latitude</th>\n",
       "      <th>longitude</th>\n",
       "      <th>mag</th>\n",
       "      <th>magType</th>\n",
       "      <th>place</th>\n",
       "      <th>type</th>\n",
       "      <th>status</th>\n",
       "      <th>locationSource</th>\n",
       "      <th>state</th>\n",
       "    </tr>\n",
       "  </thead>\n",
       "  <tbody>\n",
       "    <tr>\n",
       "      <th>5013</th>\n",
       "      <td>nc71127084</td>\n",
       "      <td>2022-01-18 14:50:55.480000+00:00</td>\n",
       "      <td>35.975333</td>\n",
       "      <td>-120.371000</td>\n",
       "      <td>NaN</td>\n",
       "      <td>NaN</td>\n",
       "      <td>10km NNE of Parkfield, CA</td>\n",
       "      <td>earthquake</td>\n",
       "      <td>reviewed</td>\n",
       "      <td>nc</td>\n",
       "      <td>US-CA</td>\n",
       "    </tr>\n",
       "    <tr>\n",
       "      <th>10631</th>\n",
       "      <td>nc73674341</td>\n",
       "      <td>2022-01-06 06:11:48.790000+00:00</td>\n",
       "      <td>38.798500</td>\n",
       "      <td>-122.701500</td>\n",
       "      <td>NaN</td>\n",
       "      <td>NaN</td>\n",
       "      <td>3km NNW of Anderson Springs, CA</td>\n",
       "      <td>earthquake</td>\n",
       "      <td>reviewed</td>\n",
       "      <td>nc</td>\n",
       "      <td>US-CA</td>\n",
       "    </tr>\n",
       "    <tr>\n",
       "      <th>2422</th>\n",
       "      <td>pr71336423</td>\n",
       "      <td>2022-02-21 21:01:10.020000+00:00</td>\n",
       "      <td>17.956500</td>\n",
       "      <td>-66.928167</td>\n",
       "      <td>NaN</td>\n",
       "      <td>NaN</td>\n",
       "      <td>2 km SW of Guánica, Puerto Rico</td>\n",
       "      <td>earthquake</td>\n",
       "      <td>reviewed</td>\n",
       "      <td>pr</td>\n",
       "      <td>US-PR</td>\n",
       "    </tr>\n",
       "  </tbody>\n",
       "</table>\n",
       "</div>"
      ],
      "text/plain": [
       "               id                             time   latitude   longitude  \\\n",
       "5013   nc71127084 2022-01-18 14:50:55.480000+00:00  35.975333 -120.371000   \n",
       "10631  nc73674341 2022-01-06 06:11:48.790000+00:00  38.798500 -122.701500   \n",
       "2422   pr71336423 2022-02-21 21:01:10.020000+00:00  17.956500  -66.928167   \n",
       "\n",
       "       mag magType                            place        type    status  \\\n",
       "5013   NaN     NaN        10km NNE of Parkfield, CA  earthquake  reviewed   \n",
       "10631  NaN     NaN  3km NNW of Anderson Springs, CA  earthquake  reviewed   \n",
       "2422   NaN     NaN  2 km SW of Guánica, Puerto Rico  earthquake  reviewed   \n",
       "\n",
       "      locationSource  state  \n",
       "5013              nc  US-CA  \n",
       "10631             nc  US-CA  \n",
       "2422              pr  US-PR  "
      ]
     },
     "execution_count": 11,
     "metadata": {},
     "output_type": "execute_result"
    }
   ],
   "source": [
    "us_earthquakes[us_earthquakes[\"mag\"].isnull()]"
   ]
  },
  {
   "cell_type": "code",
   "execution_count": 12,
   "id": "4509a763",
   "metadata": {},
   "outputs": [],
   "source": [
    "# Dropping earthquakes with missing magnitude values\n",
    "us_earthquakes = us_earthquakes.dropna(subset=[\"mag\"])"
   ]
  },
  {
   "cell_type": "code",
   "execution_count": 13,
   "id": "632abc08",
   "metadata": {},
   "outputs": [],
   "source": [
    "# Extracting state code from state data and month from time.\n",
    "us_earthquakes = us_earthquakes.assign(\n",
    "    state_code=us_earthquakes[\"state\"].str.split(\"-\").str.get(-1).str.strip(),\n",
    "    month=us_earthquakes[\"time\"].dt.month_name()\n",
    ")"
   ]
  },
  {
   "cell_type": "code",
   "execution_count": 14,
   "id": "02e75e86",
   "metadata": {},
   "outputs": [
    {
     "data": {
      "text/html": [
       "<div>\n",
       "<style scoped>\n",
       "    .dataframe tbody tr th:only-of-type {\n",
       "        vertical-align: middle;\n",
       "    }\n",
       "\n",
       "    .dataframe tbody tr th {\n",
       "        vertical-align: top;\n",
       "    }\n",
       "\n",
       "    .dataframe thead th {\n",
       "        text-align: right;\n",
       "    }\n",
       "</style>\n",
       "<table border=\"1\" class=\"dataframe\">\n",
       "  <thead>\n",
       "    <tr style=\"text-align: right;\">\n",
       "      <th></th>\n",
       "      <th>id</th>\n",
       "      <th>time</th>\n",
       "      <th>latitude</th>\n",
       "      <th>longitude</th>\n",
       "      <th>mag</th>\n",
       "      <th>magType</th>\n",
       "      <th>place</th>\n",
       "      <th>type</th>\n",
       "      <th>status</th>\n",
       "      <th>locationSource</th>\n",
       "      <th>state</th>\n",
       "      <th>state_code</th>\n",
       "      <th>month</th>\n",
       "    </tr>\n",
       "  </thead>\n",
       "  <tbody>\n",
       "    <tr>\n",
       "      <th>0</th>\n",
       "      <td>ok2022ccvb</td>\n",
       "      <td>2022-01-30 23:58:39.500000+00:00</td>\n",
       "      <td>34.879167</td>\n",
       "      <td>-97.8520</td>\n",
       "      <td>0.99</td>\n",
       "      <td>ml</td>\n",
       "      <td>7 km WSW of Alex, Oklahoma</td>\n",
       "      <td>earthquake</td>\n",
       "      <td>reviewed</td>\n",
       "      <td>ok</td>\n",
       "      <td>US-OK</td>\n",
       "      <td>OK</td>\n",
       "      <td>January</td>\n",
       "    </tr>\n",
       "    <tr>\n",
       "      <th>1</th>\n",
       "      <td>ak0221e05fgq</td>\n",
       "      <td>2022-01-30 23:56:19.237000+00:00</td>\n",
       "      <td>62.910000</td>\n",
       "      <td>-151.1774</td>\n",
       "      <td>1.40</td>\n",
       "      <td>ml</td>\n",
       "      <td>Central Alaska</td>\n",
       "      <td>earthquake</td>\n",
       "      <td>reviewed</td>\n",
       "      <td>ak</td>\n",
       "      <td>US-AK</td>\n",
       "      <td>AK</td>\n",
       "      <td>January</td>\n",
       "    </tr>\n",
       "    <tr>\n",
       "      <th>2</th>\n",
       "      <td>ak0221e051u3</td>\n",
       "      <td>2022-01-30 23:54:44.477000+00:00</td>\n",
       "      <td>63.304800</td>\n",
       "      <td>-151.2721</td>\n",
       "      <td>1.10</td>\n",
       "      <td>ml</td>\n",
       "      <td>34 km SE of Denali National Park, Alaska</td>\n",
       "      <td>earthquake</td>\n",
       "      <td>reviewed</td>\n",
       "      <td>ak</td>\n",
       "      <td>US-AK</td>\n",
       "      <td>AK</td>\n",
       "      <td>January</td>\n",
       "    </tr>\n",
       "    <tr>\n",
       "      <th>3</th>\n",
       "      <td>ak0221e050xt</td>\n",
       "      <td>2022-01-30 23:54:32.973000+00:00</td>\n",
       "      <td>51.557800</td>\n",
       "      <td>-176.6738</td>\n",
       "      <td>1.80</td>\n",
       "      <td>ml</td>\n",
       "      <td>35 km S of Adak, Alaska</td>\n",
       "      <td>earthquake</td>\n",
       "      <td>reviewed</td>\n",
       "      <td>ak</td>\n",
       "      <td>US-AK</td>\n",
       "      <td>AK</td>\n",
       "      <td>January</td>\n",
       "    </tr>\n",
       "    <tr>\n",
       "      <th>4</th>\n",
       "      <td>ak0221e04enn</td>\n",
       "      <td>2022-01-30 23:51:44.207000+00:00</td>\n",
       "      <td>63.291700</td>\n",
       "      <td>-151.3217</td>\n",
       "      <td>1.10</td>\n",
       "      <td>ml</td>\n",
       "      <td>34 km SE of Denali National Park, Alaska</td>\n",
       "      <td>earthquake</td>\n",
       "      <td>reviewed</td>\n",
       "      <td>ak</td>\n",
       "      <td>US-AK</td>\n",
       "      <td>AK</td>\n",
       "      <td>January</td>\n",
       "    </tr>\n",
       "  </tbody>\n",
       "</table>\n",
       "</div>"
      ],
      "text/plain": [
       "             id                             time   latitude  longitude   mag  \\\n",
       "0    ok2022ccvb 2022-01-30 23:58:39.500000+00:00  34.879167   -97.8520  0.99   \n",
       "1  ak0221e05fgq 2022-01-30 23:56:19.237000+00:00  62.910000  -151.1774  1.40   \n",
       "2  ak0221e051u3 2022-01-30 23:54:44.477000+00:00  63.304800  -151.2721  1.10   \n",
       "3  ak0221e050xt 2022-01-30 23:54:32.973000+00:00  51.557800  -176.6738  1.80   \n",
       "4  ak0221e04enn 2022-01-30 23:51:44.207000+00:00  63.291700  -151.3217  1.10   \n",
       "\n",
       "  magType                                     place        type    status  \\\n",
       "0      ml                7 km WSW of Alex, Oklahoma  earthquake  reviewed   \n",
       "1      ml                            Central Alaska  earthquake  reviewed   \n",
       "2      ml  34 km SE of Denali National Park, Alaska  earthquake  reviewed   \n",
       "3      ml                   35 km S of Adak, Alaska  earthquake  reviewed   \n",
       "4      ml  34 km SE of Denali National Park, Alaska  earthquake  reviewed   \n",
       "\n",
       "  locationSource  state state_code    month  \n",
       "0             ok  US-OK         OK  January  \n",
       "1             ak  US-AK         AK  January  \n",
       "2             ak  US-AK         AK  January  \n",
       "3             ak  US-AK         AK  January  \n",
       "4             ak  US-AK         AK  January  "
      ]
     },
     "execution_count": 14,
     "metadata": {},
     "output_type": "execute_result"
    }
   ],
   "source": [
    "us_earthquakes.head()"
   ]
  },
  {
   "cell_type": "code",
   "execution_count": 15,
   "id": "0362a3bc",
   "metadata": {},
   "outputs": [
    {
     "name": "stdout",
     "output_type": "stream",
     "text": [
      "<class 'pandas.core.frame.DataFrame'>\n",
      "Int64Index: 29357 entries, 0 to 12311\n",
      "Data columns (total 13 columns):\n",
      " #   Column          Non-Null Count  Dtype              \n",
      "---  ------          --------------  -----              \n",
      " 0   id              29357 non-null  object             \n",
      " 1   time            29357 non-null  datetime64[ns, UTC]\n",
      " 2   latitude        29357 non-null  float64            \n",
      " 3   longitude       29357 non-null  float64            \n",
      " 4   mag             29357 non-null  float64            \n",
      " 5   magType         29357 non-null  object             \n",
      " 6   place           29281 non-null  object             \n",
      " 7   type            29357 non-null  object             \n",
      " 8   status          29357 non-null  object             \n",
      " 9   locationSource  29357 non-null  object             \n",
      " 10  state           29357 non-null  object             \n",
      " 11  state_code      29357 non-null  object             \n",
      " 12  month           29357 non-null  object             \n",
      "dtypes: datetime64[ns, UTC](1), float64(3), object(9)\n",
      "memory usage: 3.1+ MB\n"
     ]
    }
   ],
   "source": [
    "us_earthquakes.info()"
   ]
  },
  {
   "cell_type": "code",
   "execution_count": 16,
   "id": "d69ee1fd",
   "metadata": {},
   "outputs": [],
   "source": [
    "# Converting values to appropriate type"
   ]
  },
  {
   "cell_type": "code",
   "execution_count": 17,
   "id": "1e2c838c",
   "metadata": {},
   "outputs": [
    {
     "data": {
      "text/plain": [
       "id                29357\n",
       "time              29352\n",
       "latitude          21907\n",
       "longitude         23048\n",
       "mag                 578\n",
       "magType               8\n",
       "place             12011\n",
       "type                  6\n",
       "status                2\n",
       "locationSource       15\n",
       "state                36\n",
       "state_code           36\n",
       "month                 3\n",
       "dtype: int64"
      ]
     },
     "execution_count": 17,
     "metadata": {},
     "output_type": "execute_result"
    }
   ],
   "source": [
    "us_earthquakes.nunique()"
   ]
  },
  {
   "cell_type": "code",
   "execution_count": 18,
   "id": "4003d428",
   "metadata": {},
   "outputs": [],
   "source": [
    "us_earthquakes[\"magType\"] = us_earthquakes[\"magType\"].astype(\"category\")\n",
    "us_earthquakes[\"type\"] = us_earthquakes[\"type\"].astype(\"category\")\n",
    "us_earthquakes[\"status\"] = us_earthquakes[\"status\"].astype(\"category\")\n",
    "us_earthquakes[\"locationSource\"] = us_earthquakes[\"locationSource\"].astype(\"category\")\n",
    "us_earthquakes[\"state\"] = us_earthquakes[\"state\"].astype(\"category\")\n",
    "us_earthquakes[\"state_code\"] = us_earthquakes[\"state_code\"].astype(\"category\")\n",
    "us_earthquakes[\"month\"] = us_earthquakes[\"month\"].astype(\"category\")"
   ]
  },
  {
   "cell_type": "code",
   "execution_count": 19,
   "id": "7f39c70c",
   "metadata": {},
   "outputs": [
    {
     "name": "stdout",
     "output_type": "stream",
     "text": [
      "<class 'pandas.core.frame.DataFrame'>\n",
      "Int64Index: 29357 entries, 0 to 12311\n",
      "Data columns (total 13 columns):\n",
      " #   Column          Non-Null Count  Dtype              \n",
      "---  ------          --------------  -----              \n",
      " 0   id              29357 non-null  object             \n",
      " 1   time            29357 non-null  datetime64[ns, UTC]\n",
      " 2   latitude        29357 non-null  float64            \n",
      " 3   longitude       29357 non-null  float64            \n",
      " 4   mag             29357 non-null  float64            \n",
      " 5   magType         29357 non-null  category           \n",
      " 6   place           29281 non-null  object             \n",
      " 7   type            29357 non-null  category           \n",
      " 8   status          29357 non-null  category           \n",
      " 9   locationSource  29357 non-null  category           \n",
      " 10  state           29357 non-null  category           \n",
      " 11  state_code      29357 non-null  category           \n",
      " 12  month           29357 non-null  category           \n",
      "dtypes: category(7), datetime64[ns, UTC](1), float64(3), object(2)\n",
      "memory usage: 1.8+ MB\n"
     ]
    }
   ],
   "source": [
    "us_earthquakes.info()"
   ]
  },
  {
   "cell_type": "code",
   "execution_count": 20,
   "id": "f1a2b638",
   "metadata": {},
   "outputs": [
    {
     "data": {
      "text/html": [
       "<div>\n",
       "<style scoped>\n",
       "    .dataframe tbody tr th:only-of-type {\n",
       "        vertical-align: middle;\n",
       "    }\n",
       "\n",
       "    .dataframe tbody tr th {\n",
       "        vertical-align: top;\n",
       "    }\n",
       "\n",
       "    .dataframe thead th {\n",
       "        text-align: right;\n",
       "    }\n",
       "</style>\n",
       "<table border=\"1\" class=\"dataframe\">\n",
       "  <thead>\n",
       "    <tr style=\"text-align: right;\">\n",
       "      <th></th>\n",
       "      <th>id</th>\n",
       "      <th>time</th>\n",
       "      <th>latitude</th>\n",
       "      <th>longitude</th>\n",
       "      <th>mag</th>\n",
       "      <th>magType</th>\n",
       "      <th>place</th>\n",
       "      <th>type</th>\n",
       "      <th>status</th>\n",
       "      <th>locationSource</th>\n",
       "      <th>state</th>\n",
       "      <th>state_code</th>\n",
       "      <th>month</th>\n",
       "    </tr>\n",
       "  </thead>\n",
       "  <tbody>\n",
       "    <tr>\n",
       "      <th>5951</th>\n",
       "      <td>hv72876857</td>\n",
       "      <td>2022-01-16 13:11:37.320000+00:00</td>\n",
       "      <td>19.148333</td>\n",
       "      <td>-155.449661</td>\n",
       "      <td>1.94</td>\n",
       "      <td>md</td>\n",
       "      <td>6 km SSE of P?hala, Hawaii</td>\n",
       "      <td>earthquake</td>\n",
       "      <td>automatic</td>\n",
       "      <td>hv</td>\n",
       "      <td>US-HI</td>\n",
       "      <td>HI</td>\n",
       "      <td>January</td>\n",
       "    </tr>\n",
       "    <tr>\n",
       "      <th>4386</th>\n",
       "      <td>ak0223mulo5p</td>\n",
       "      <td>2022-03-20 12:00:25.216000+00:00</td>\n",
       "      <td>59.522200</td>\n",
       "      <td>-152.886100</td>\n",
       "      <td>1.90</td>\n",
       "      <td>ml</td>\n",
       "      <td>Southern Alaska</td>\n",
       "      <td>earthquake</td>\n",
       "      <td>reviewed</td>\n",
       "      <td>ak</td>\n",
       "      <td>US-AK</td>\n",
       "      <td>AK</td>\n",
       "      <td>March</td>\n",
       "    </tr>\n",
       "    <tr>\n",
       "      <th>1628</th>\n",
       "      <td>ak0223ycpgdm</td>\n",
       "      <td>2022-03-27 07:54:00.100000+00:00</td>\n",
       "      <td>65.501500</td>\n",
       "      <td>-144.236200</td>\n",
       "      <td>0.90</td>\n",
       "      <td>ml</td>\n",
       "      <td>27 km ESE of Central, Alaska</td>\n",
       "      <td>earthquake</td>\n",
       "      <td>reviewed</td>\n",
       "      <td>ak</td>\n",
       "      <td>US-AK</td>\n",
       "      <td>AK</td>\n",
       "      <td>March</td>\n",
       "    </tr>\n",
       "    <tr>\n",
       "      <th>5167</th>\n",
       "      <td>uu60477922</td>\n",
       "      <td>2022-01-18 06:49:20.120000+00:00</td>\n",
       "      <td>39.424167</td>\n",
       "      <td>-110.308333</td>\n",
       "      <td>1.66</td>\n",
       "      <td>ml</td>\n",
       "      <td>15 km SSE of Sunnyside, Utah</td>\n",
       "      <td>earthquake</td>\n",
       "      <td>reviewed</td>\n",
       "      <td>uu</td>\n",
       "      <td>US-UT</td>\n",
       "      <td>UT</td>\n",
       "      <td>January</td>\n",
       "    </tr>\n",
       "    <tr>\n",
       "      <th>2464</th>\n",
       "      <td>ak0223uz51qm</td>\n",
       "      <td>2022-03-25 03:35:43.820000+00:00</td>\n",
       "      <td>52.357800</td>\n",
       "      <td>-174.200200</td>\n",
       "      <td>2.40</td>\n",
       "      <td>ml</td>\n",
       "      <td>17 km N of Atka, Alaska</td>\n",
       "      <td>earthquake</td>\n",
       "      <td>reviewed</td>\n",
       "      <td>ak</td>\n",
       "      <td>US-AK</td>\n",
       "      <td>AK</td>\n",
       "      <td>March</td>\n",
       "    </tr>\n",
       "  </tbody>\n",
       "</table>\n",
       "</div>"
      ],
      "text/plain": [
       "                id                             time   latitude   longitude  \\\n",
       "5951    hv72876857 2022-01-16 13:11:37.320000+00:00  19.148333 -155.449661   \n",
       "4386  ak0223mulo5p 2022-03-20 12:00:25.216000+00:00  59.522200 -152.886100   \n",
       "1628  ak0223ycpgdm 2022-03-27 07:54:00.100000+00:00  65.501500 -144.236200   \n",
       "5167    uu60477922 2022-01-18 06:49:20.120000+00:00  39.424167 -110.308333   \n",
       "2464  ak0223uz51qm 2022-03-25 03:35:43.820000+00:00  52.357800 -174.200200   \n",
       "\n",
       "       mag magType                         place        type     status  \\\n",
       "5951  1.94      md    6 km SSE of P?hala, Hawaii  earthquake  automatic   \n",
       "4386  1.90      ml               Southern Alaska  earthquake   reviewed   \n",
       "1628  0.90      ml  27 km ESE of Central, Alaska  earthquake   reviewed   \n",
       "5167  1.66      ml  15 km SSE of Sunnyside, Utah  earthquake   reviewed   \n",
       "2464  2.40      ml       17 km N of Atka, Alaska  earthquake   reviewed   \n",
       "\n",
       "     locationSource  state state_code    month  \n",
       "5951             hv  US-HI         HI  January  \n",
       "4386             ak  US-AK         AK    March  \n",
       "1628             ak  US-AK         AK    March  \n",
       "5167             uu  US-UT         UT  January  \n",
       "2464             ak  US-AK         AK    March  "
      ]
     },
     "execution_count": 20,
     "metadata": {},
     "output_type": "execute_result"
    }
   ],
   "source": [
    "us_earthquakes.sample(5)"
   ]
  },
  {
   "cell_type": "code",
   "execution_count": 21,
   "id": "a573cf92",
   "metadata": {},
   "outputs": [],
   "source": [
    "us_earthquakes.to_csv(\"datasets/us_earthquakes.csv\", index=False)"
   ]
  }
 ],
 "metadata": {
  "kernelspec": {
   "display_name": "Python 3 (ipykernel)",
   "language": "python",
   "name": "python3"
  },
  "language_info": {
   "codemirror_mode": {
    "name": "ipython",
    "version": 3
   },
   "file_extension": ".py",
   "mimetype": "text/x-python",
   "name": "python",
   "nbconvert_exporter": "python",
   "pygments_lexer": "ipython3",
   "version": "3.10.6"
  }
 },
 "nbformat": 4,
 "nbformat_minor": 5
}
